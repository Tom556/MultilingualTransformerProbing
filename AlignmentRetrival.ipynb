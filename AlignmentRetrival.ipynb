{
 "cells": [
  {
   "cell_type": "code",
   "execution_count": 1,
   "metadata": {},
   "outputs": [],
   "source": [
    "import os\n",
    "import tensorflow as tf\n",
    "import numpy as np\n",
    "\n",
    "from transformers import BertTokenizer, TFBertModel"
   ]
  },
  {
   "cell_type": "code",
   "execution_count": 5,
   "metadata": {},
   "outputs": [],
   "source": [
    "import matplotlib.pyplot as plt"
   ]
  },
  {
   "cell_type": "markdown",
   "metadata": {},
   "source": [
    "## Prepare aligned sentence pairs"
   ]
  },
  {
   "cell_type": "code",
   "execution_count": 6,
   "metadata": {},
   "outputs": [
    {
     "ename": "FileNotFoundError",
     "evalue": "[Errno 2] No such file or directory: 'bucc2017/de-en/de-en.sample.gold'",
     "output_type": "error",
     "traceback": [
      "\u001b[0;31m---------------------------------------------------------------------------\u001b[0m",
      "\u001b[0;31mFileNotFoundError\u001b[0m                         Traceback (most recent call last)",
      "\u001b[0;32m<ipython-input-6-c19175376362>\u001b[0m in \u001b[0;36m<module>\u001b[0;34m\u001b[0m\n\u001b[1;32m      4\u001b[0m \u001b[0;34m\u001b[0m\u001b[0m\n\u001b[1;32m      5\u001b[0m \u001b[0mgold_alignment\u001b[0m \u001b[0;34m=\u001b[0m \u001b[0mlist\u001b[0m\u001b[0;34m(\u001b[0m\u001b[0;34m)\u001b[0m\u001b[0;34m\u001b[0m\u001b[0m\n\u001b[0;32m----> 6\u001b[0;31m \u001b[0;32mwith\u001b[0m \u001b[0mopen\u001b[0m\u001b[0;34m(\u001b[0m\u001b[0;34mf'bucc2017/{l_pair}/{l_pair}.sample.gold'\u001b[0m\u001b[0;34m,\u001b[0m \u001b[0;34m'r'\u001b[0m\u001b[0;34m)\u001b[0m \u001b[0;32mas\u001b[0m \u001b[0min_file\u001b[0m\u001b[0;34m:\u001b[0m\u001b[0;34m\u001b[0m\u001b[0m\n\u001b[0m\u001b[1;32m      7\u001b[0m     \u001b[0;32mfor\u001b[0m \u001b[0mline\u001b[0m \u001b[0;32min\u001b[0m \u001b[0min_file\u001b[0m\u001b[0;34m.\u001b[0m\u001b[0mreadlines\u001b[0m\u001b[0;34m(\u001b[0m\u001b[0;34m)\u001b[0m\u001b[0;34m:\u001b[0m\u001b[0;34m\u001b[0m\u001b[0m\n\u001b[1;32m      8\u001b[0m         \u001b[0ml1_tag\u001b[0m\u001b[0;34m,\u001b[0m \u001b[0ml2_tag\u001b[0m \u001b[0;34m=\u001b[0m \u001b[0mline\u001b[0m\u001b[0;34m.\u001b[0m\u001b[0mstrip\u001b[0m\u001b[0;34m(\u001b[0m\u001b[0;34m)\u001b[0m\u001b[0;34m.\u001b[0m\u001b[0msplit\u001b[0m\u001b[0;34m(\u001b[0m\u001b[0;34m'\\t'\u001b[0m\u001b[0;34m)\u001b[0m\u001b[0;34m\u001b[0m\u001b[0m\n",
      "\u001b[0;31mFileNotFoundError\u001b[0m: [Errno 2] No such file or directory: 'bucc2017/de-en/de-en.sample.gold'"
     ]
    }
   ],
   "source": [
    "l1 = 'de'\n",
    "l2 = 'en'\n",
    "l_pair = f\"{l1}-{l2}\"\n",
    "\n",
    "gold_alignment = list()\n",
    "with open(f'bucc2017/{l_pair}/{l_pair}.sample.gold', 'r') as in_file:\n",
    "    for line in in_file.readlines(): \n",
    "        l1_tag, l2_tag = line.strip().split('\\t')\n",
    "        gold_alignment.append((l1_tag, l2_tag)) \n",
    "        \n",
    "\n",
    "l1_2sent = dict()\n",
    "with open(f'bucc2017/{l_pair}/{l_pair}.sample.{l1}', 'r') as l1_in:\n",
    "    for line in l1_in.readlines():\n",
    "        l1_tag, l1_sent = line.strip().split('\\t')\n",
    "        l1_2sent[l1_tag] = l1_sent\n",
    "        \n",
    "l2_2sent = dict()\n",
    "with open(f'bucc2017/{l_pair}/{l_pair}.sample.{l2}', 'r') as l2_in:\n",
    "    for line in l2_in.readlines():\n",
    "        l2_tag, l2_sent = line.strip().split('\\t')\n",
    "        l2_2sent[l2_tag] = l2_sent\n",
    "        \n",
    "    \n",
    "        \n",
    "l1_list = []\n",
    "l2_list = []\n",
    "for l1_tag, l2_tag in gold_alignment:\n",
    "    l1_list.append(l1_2sent[l1_tag])\n",
    "    l2_list.append(l2_2sent[l2_tag])"
   ]
  },
  {
   "cell_type": "markdown",
   "metadata": {},
   "source": [
    "## Initialize BERT model"
   ]
  },
  {
   "cell_type": "code",
   "execution_count": 7,
   "metadata": {},
   "outputs": [],
   "source": [
    "bert_path = 'bert-base-multilingual-cased'\n",
    "tokenizer = BertTokenizer.from_pretrained(bert_path, do_lower_case=False)\n",
    "\n",
    "bert_model = TFBertModel.from_pretrained(bert_path, output_hidden_states=True)\n",
    "\n",
    "layer_idx = 6 "
   ]
  },
  {
   "cell_type": "code",
   "execution_count": 8,
   "metadata": {},
   "outputs": [],
   "source": [
    "def get_embeddings(tokenizer, bert_model, layer_idx, sent_list):\n",
    "    bert_input = tokenizer.batch_encode_plus(sent_list, pad_to_max_length=True)\n",
    "    input_ids = tf.constant(bert_input['input_ids'])\n",
    "    attn_masks =  tf.constant(bert_input['attention_mask'])\n",
    "\n",
    "    data = tf.data.Dataset.from_tensor_slices((input_ids, attn_masks))\n",
    "\n",
    "    emb_list = []\n",
    "    for input_batch, attn_batch in data.batch(20):\n",
    "        _, _, embs = bert_model(input_batch, attention_mask=attn_batch)\n",
    "        mean_mask = tf.expand_dims(tf.cast(tf.pad(attn_batch[:,2:], [[0,0], [1,1]]), tf.float32),2)\n",
    "        embs = tf.reduce_mean(embs[layer_idx + 1]*mean_mask, axis=1)\n",
    "        emb_list.append(embs)\n",
    "\n",
    "    return tf.concat(emb_list, axis=0).numpy()\n",
    "    "
   ]
  },
  {
   "cell_type": "code",
   "execution_count": 9,
   "metadata": {},
   "outputs": [
    {
     "ename": "NameError",
     "evalue": "name 'l1_list' is not defined",
     "output_type": "error",
     "traceback": [
      "\u001b[0;31m---------------------------------------------------------------------------\u001b[0m",
      "\u001b[0;31mNameError\u001b[0m                                 Traceback (most recent call last)",
      "\u001b[0;32m<ipython-input-9-87555518aaf6>\u001b[0m in \u001b[0;36m<module>\u001b[0;34m\u001b[0m\n\u001b[0;32m----> 1\u001b[0;31m \u001b[0ml1_embeddings\u001b[0m \u001b[0;34m=\u001b[0m \u001b[0mget_embeddings\u001b[0m\u001b[0;34m(\u001b[0m\u001b[0mtokenizer\u001b[0m\u001b[0;34m,\u001b[0m \u001b[0mbert_model\u001b[0m\u001b[0;34m,\u001b[0m \u001b[0mlayer_idx\u001b[0m\u001b[0;34m,\u001b[0m \u001b[0ml1_list\u001b[0m\u001b[0;34m)\u001b[0m\u001b[0;34m\u001b[0m\u001b[0m\n\u001b[0m",
      "\u001b[0;31mNameError\u001b[0m: name 'l1_list' is not defined"
     ]
    }
   ],
   "source": [
    "l1_embeddings = get_embeddings(tokenizer, bert_model, layer_idx, l1_list)"
   ]
  },
  {
   "cell_type": "code",
   "execution_count": 86,
   "metadata": {},
   "outputs": [],
   "source": [
    "l2_embeddings = get_embeddings(tokenizer, bert_model, layer_idx, l2_list)"
   ]
  },
  {
   "cell_type": "code",
   "execution_count": 10,
   "metadata": {},
   "outputs": [
    {
     "ename": "NameError",
     "evalue": "name 'l1_list' is not defined",
     "output_type": "error",
     "traceback": [
      "\u001b[0;31m---------------------------------------------------------------------------\u001b[0m",
      "\u001b[0;31mNameError\u001b[0m                                 Traceback (most recent call last)",
      "\u001b[0;32m<ipython-input-10-d862a1145fe6>\u001b[0m in \u001b[0;36m<module>\u001b[0;34m\u001b[0m\n\u001b[0;32m----> 1\u001b[0;31m \u001b[0mbert_input\u001b[0m \u001b[0;34m=\u001b[0m \u001b[0mtokenizer\u001b[0m\u001b[0;34m.\u001b[0m\u001b[0mbatch_encode_plus\u001b[0m\u001b[0;34m(\u001b[0m\u001b[0ml1_list\u001b[0m\u001b[0;34m,\u001b[0m \u001b[0mpad_to_max_length\u001b[0m\u001b[0;34m=\u001b[0m\u001b[0;32mTrue\u001b[0m\u001b[0;34m)\u001b[0m\u001b[0;34m\u001b[0m\u001b[0m\n\u001b[0m\u001b[1;32m      2\u001b[0m \u001b[0minput_ids\u001b[0m \u001b[0;34m=\u001b[0m \u001b[0mtf\u001b[0m\u001b[0;34m.\u001b[0m\u001b[0mconstant\u001b[0m\u001b[0;34m(\u001b[0m\u001b[0mbert_input\u001b[0m\u001b[0;34m[\u001b[0m\u001b[0;34m'input_ids'\u001b[0m\u001b[0;34m]\u001b[0m\u001b[0;34m)\u001b[0m\u001b[0;34m\u001b[0m\u001b[0m\n\u001b[1;32m      3\u001b[0m \u001b[0mattn_masks\u001b[0m \u001b[0;34m=\u001b[0m  \u001b[0mtf\u001b[0m\u001b[0;34m.\u001b[0m\u001b[0mconstant\u001b[0m\u001b[0;34m(\u001b[0m\u001b[0mbert_input\u001b[0m\u001b[0;34m[\u001b[0m\u001b[0;34m'attention_mask'\u001b[0m\u001b[0;34m]\u001b[0m\u001b[0;34m)\u001b[0m\u001b[0;34m\u001b[0m\u001b[0m\n",
      "\u001b[0;31mNameError\u001b[0m: name 'l1_list' is not defined"
     ]
    }
   ],
   "source": [
    "bert_input = tokenizer.batch_encode_plus(l1_list, pad_to_max_length=True)\n",
    "input_ids = tf.constant(bert_input['input_ids'])\n",
    "attn_masks =  tf.constant(bert_input['attention_mask'])"
   ]
  },
  {
   "cell_type": "code",
   "execution_count": 17,
   "metadata": {},
   "outputs": [],
   "source": [
    "data = tf.data.Dataset.from_tensor_slices((input_ids, attn_masks))"
   ]
  },
  {
   "cell_type": "code",
   "execution_count": 11,
   "metadata": {},
   "outputs": [
    {
     "ename": "NameError",
     "evalue": "name 'input_ids' is not defined",
     "output_type": "error",
     "traceback": [
      "\u001b[0;31m---------------------------------------------------------------------------\u001b[0m",
      "\u001b[0;31mNameError\u001b[0m                                 Traceback (most recent call last)",
      "\u001b[0;32m<ipython-input-11-ae274eca0563>\u001b[0m in \u001b[0;36m<module>\u001b[0;34m\u001b[0m\n\u001b[0;32m----> 1\u001b[0;31m \u001b[0m_\u001b[0m\u001b[0;34m,\u001b[0m \u001b[0m_\u001b[0m\u001b[0;34m,\u001b[0m \u001b[0membs\u001b[0m \u001b[0;34m=\u001b[0m \u001b[0mbert_model\u001b[0m\u001b[0;34m(\u001b[0m\u001b[0minput_ids\u001b[0m\u001b[0;34m[\u001b[0m\u001b[0;36m0\u001b[0m\u001b[0;34m:\u001b[0m\u001b[0;36m1\u001b[0m\u001b[0;34m]\u001b[0m\u001b[0;34m,\u001b[0m \u001b[0mattention_mask\u001b[0m\u001b[0;34m=\u001b[0m\u001b[0mattn_masks\u001b[0m\u001b[0;34m[\u001b[0m\u001b[0;36m0\u001b[0m\u001b[0;34m:\u001b[0m\u001b[0;36m1\u001b[0m\u001b[0;34m]\u001b[0m\u001b[0;34m)\u001b[0m\u001b[0;34m\u001b[0m\u001b[0m\n\u001b[0m",
      "\u001b[0;31mNameError\u001b[0m: name 'input_ids' is not defined"
     ]
    }
   ],
   "source": [
    "\n",
    "_, _, embs = bert_model(input_ids[0:1], attention_mask=attn_masks[0:1])"
   ]
  },
  {
   "cell_type": "markdown",
   "metadata": {},
   "source": [
    "## Alignment expermients"
   ]
  },
  {
   "cell_type": "code",
   "execution_count": 87,
   "metadata": {},
   "outputs": [],
   "source": [
    "def calc_alignment_accuracy(src_embeddings, tgt_embeddings):\n",
    "    distance_matrix = src_embeddings @ tgt_embeddings.transpose()\n",
    "    distance_matrix = distance_matrix / np.linalg.norm(src_embeddings, axis=1, keepdims=True) \n",
    "    distance_matrix = distance_matrix / np.linalg.norm(tgt_embeddings.transpose(), axis=0, keepdims=True)\n",
    "    \n",
    "    retived_idcs = np.argmax(distance_matrix, axis=1)\n",
    "    \n",
    "    src_errors = np.where(np.arange(len(retived_idcs)) != retived_idcs)\n",
    "    tgt_errors = retived_idcs[src_errors]\n",
    "    \n",
    "    return np.mean(np.arange(len(retived_idcs)) == retived_idcs), src_errors[0], tgt_errors\n",
    "\n",
    "def pint_error_examples(src_errors, tgt_errors, src_list, tgt_list, n_exmpl=5):\n",
    "    for s_e, t_e in zip(src_errors[:n_exmpl], tgt_errors[:n_exmpl]):\n",
    "        print(f\"For sentence:\\t{src_list[s_e]}\")\n",
    "        print(f\"retived:\\t{tgt_list[t_e]}\")\n",
    "        print(f\"should be:\\t{tgt_list[s_e]}\\n\")\n",
    "    "
   ]
  },
  {
   "cell_type": "markdown",
   "metadata": {},
   "source": [
    "### DE/FR -> EN retival"
   ]
  },
  {
   "cell_type": "code",
   "execution_count": 88,
   "metadata": {},
   "outputs": [],
   "source": [
    "xx2en_acc, src_e, tgt_e = calc_alignment_accuracy(l1_embeddings, l2_embeddings)"
   ]
  },
  {
   "cell_type": "code",
   "execution_count": 89,
   "metadata": {},
   "outputs": [
    {
     "name": "stdout",
     "output_type": "stream",
     "text": [
      "0.9682080924855492\n"
     ]
    }
   ],
   "source": [
    "print(xx2en_acc)"
   ]
  },
  {
   "cell_type": "markdown",
   "metadata": {},
   "source": [
    "de -> en 92.8%\n",
    "\n",
    "fr -> en 90.7%\n",
    "\n",
    "score is already quite high with BERT alone\n",
    "example of errors:"
   ]
  },
  {
   "cell_type": "code",
   "execution_count": 90,
   "metadata": {},
   "outputs": [
    {
     "name": "stdout",
     "output_type": "stream",
     "text": [
      "For sentence:\tAllein in den letzten zwölf Jahren ist die Weltbevölkerung um eine Milliarde Menschen gewachsen.\n",
      "retived:\tOver the past few decades, an estimated two billion people have risen into the middle class worldwide.\n",
      "should be:\tA billion people joined the human race in just the last 12 years.\n",
      "\n",
      "For sentence:\tDie Weltbevölkerung, so wird erwartet, soll bis 2042 auf neun Milliarden Menschen ansteigen.\n",
      "retived:\tBy 2050, the global human population is expected to exceed nine billion.\n",
      "should be:\tThe world’s population is expected to reach nine billion by 2042.\n",
      "\n",
      "For sentence:\tNoch nie seit dem Zweiten Weltkrieg war die Kaufkraft der amerikanischen Verbraucher so schwach.\n",
      "retived:\tThe US federal government’s borrowing exceeded tax revenues in every year since the end of World War II.\n",
      "should be:\tNever before in the post-World War II era have American consumers been so weak for so long.\n",
      "\n",
      "For sentence:\tEin zu langsames Tempo wäre unglaubwürdig; ein zu schnelles Tempo würde das Wachstum abwürgen.\n",
      "retived:\tIf that country had its own currency, the exchange rate would decline, benefiting exports and impeding imports.\n",
      "should be:\tToo slow will kill credibility, but too fast will kill growth.\n",
      "\n",
      "For sentence:\tAndernfalls kann eine wirtschaftliche und politische Destabilisierung ihres Landes drohen.\n",
      "retived:\tIf not, we will face a much longer period of economic and political disorder and decline.\n",
      "should be:\tOtherwise, a country’s economic and political stability may be threatened.\n",
      "\n"
     ]
    }
   ],
   "source": [
    "pint_error_examples(src_e, tgt_e, l1_list, l2_list)"
   ]
  },
  {
   "cell_type": "markdown",
   "metadata": {},
   "source": [
    "### EN -> DE retival"
   ]
  },
  {
   "cell_type": "code",
   "execution_count": 91,
   "metadata": {},
   "outputs": [],
   "source": [
    "en2xx_acc, src_e, tgt_e = calc_alignment_accuracy(l2_embeddings, l1_embeddings)"
   ]
  },
  {
   "cell_type": "code",
   "execution_count": 92,
   "metadata": {},
   "outputs": [
    {
     "name": "stdout",
     "output_type": "stream",
     "text": [
      "0.9749518304431599\n"
     ]
    }
   ],
   "source": [
    "print(en2xx_acc)"
   ]
  },
  {
   "cell_type": "markdown",
   "metadata": {},
   "source": [
    "en -> de 89.7%\n",
    "\n",
    "en -> fr 90.3%\n",
    "\n",
    "\n",
    "score for this direction is lower but still close to 90%"
   ]
  },
  {
   "cell_type": "code",
   "execution_count": 93,
   "metadata": {},
   "outputs": [
    {
     "name": "stdout",
     "output_type": "stream",
     "text": [
      "For sentence:\tA billion people joined the human race in just the last 12 years.\n",
      "retived:\tIn den nächsten 25 Jahren werden weitere zwei Milliarden Menschen die Entwicklungsländer bevölkern.\n",
      "should be:\tAllein in den letzten zwölf Jahren ist die Weltbevölkerung um eine Milliarde Menschen gewachsen.\n",
      "\n",
      "For sentence:\tIf that country is large, the shock waves could push other members over the edge with it.\n",
      "retived:\tUnd chinesische Künstler werden auf internationalen Kunstauktionen Preise erzielen, von denen andere nur träumen können.\n",
      "should be:\tWenn es sich dabei um ein großes Land handelt, könnten die Schockwellen auch andere Mitgliedsländer treffen.\n",
      "\n",
      "For sentence:\tIndeed, non-working time even for those who hold jobs is increasing, offering ample opportunity to rear children.\n",
      "retived:\tAber wie die Regierung zusätzliche Arbeitsplätze für Frauen schaffen will, ist weniger klar.\n",
      "should be:\tDie Arbeitszeit wird für Arbeitnehmer immer kürzer und es wäre eigentlich genug Zeit da, Kinder groß zu ziehen.\n",
      "\n",
      "For sentence:\tAfter all, dominant powers have always struggled to cope with rising ones.\n",
      "retived:\tSelbst in reichen Ländern sind es üblicherweise nicht die Reichen, die bei Naturkatastrophen sterben.\n",
      "should be:\tSchließlich haben sich vorherrschende Mächte schon immer bemüht, aufstrebende Mächte im Schach zu halten.\n",
      "\n",
      "For sentence:\tPublic-sector investment will shift toward education and R&amp;D.\n",
      "retived:\tDie Wirtschaft. Oberste Priorität für den neuen Präsidenten werden die Wirtschaft und die Finanzkrise haben.\n",
      "should be:\tDie öffentliche Investition wird sich auf Bildung und Forschung und Entwicklung konzentrieren.\n",
      "\n"
     ]
    }
   ],
   "source": [
    "pint_error_examples(src_e, tgt_e, l2_list, l1_list)"
   ]
  },
  {
   "cell_type": "markdown",
   "metadata": {},
   "source": [
    "# With probe Language Specific matrices (Non orthogonal; depth probe)"
   ]
  },
  {
   "cell_type": "code",
   "execution_count": 94,
   "metadata": {},
   "outputs": [
    {
     "data": {
      "text/plain": [
       "'experiments/train_en_de_fr/task_depth-layer_6-trainl_en_de_fr/params/ckpt-18'"
      ]
     },
     "execution_count": 94,
     "metadata": {},
     "output_type": "execute_result"
    }
   ],
   "source": [
    "languages = ['en', 'fr', 'de']\n",
    "out_dir = f'experiments/train_en_de_fr/task_depth-layer_{layer_idx}-trainl_en_de_fr/'\n",
    "model_dim = 768\n",
    "probe_rank = 768\n",
    "\n",
    "\n",
    "\n",
    "\n",
    "DistanceProbe = tf.Variable(tf.random_uniform_initializer(minval=-0.05, maxval=0.05, seed=42)\n",
    "                             ((probe_rank, model_dim)),\n",
    "                             trainable=True, name='distance_probe', dtype=tf.float32)\n",
    "\n",
    "DepthProbe = tf.Variable(tf.random_uniform_initializer(minval=-0.05, maxval=0.05, seed=42)\n",
    "                             ((probe_rank, model_dim)),\n",
    "                             trainable=True, name='depth_probe', dtype=tf.float32)\n",
    "\n",
    "optimizer=tf.optimizers.Adam()\n",
    "\n",
    "LanguageMaps = {lang: tf.Variable(tf.initializers.Identity(gain=1.0)((model_dim, model_dim)),\n",
    "                                               trainable=False, name='{}_map'.format(lang))\n",
    "                             for lang in languages}\n",
    "                \n",
    "ckpt = tf.train.Checkpoint(optimizer=optimizer, depth_probe=DepthProbe, distance_probe=DistanceProbe, **LanguageMaps)\n",
    "\n",
    "checkpoint_manger = tf.train.CheckpointManager(ckpt, os.path.join(out_dir, 'params'), max_to_keep=1)\n",
    "\n",
    "checkpoint_manger.restore_or_initialize()"
   ]
  },
  {
   "cell_type": "code",
   "execution_count": 95,
   "metadata": {},
   "outputs": [],
   "source": [
    "l1_projections =  l1_embeddings @ ckpt.de.numpy()\n",
    "l2_projections = l2_embeddings @ ckpt.en.numpy()"
   ]
  },
  {
   "cell_type": "markdown",
   "metadata": {},
   "source": [
    "### DE2EN"
   ]
  },
  {
   "cell_type": "code",
   "execution_count": 96,
   "metadata": {},
   "outputs": [
    {
     "name": "stdout",
     "output_type": "stream",
     "text": [
      "0.05684007707129094\n"
     ]
    }
   ],
   "source": [
    "de2en_proj_acc , src_e, tgt_e = calc_alignment_accuracy(l1_projections, l2_projections)\n",
    "print(de2en_proj_acc)"
   ]
  },
  {
   "cell_type": "markdown",
   "metadata": {},
   "source": [
    "de -> en 11.9%\n",
    "\n",
    "fr -> en  18.5%\n",
    "\n",
    "Unexpectedly, the results after projection are poor, maybe this is because proj. matrix is not orthogonal.\n"
   ]
  },
  {
   "cell_type": "markdown",
   "metadata": {},
   "source": [
    "### EN2DE"
   ]
  },
  {
   "cell_type": "code",
   "execution_count": 97,
   "metadata": {},
   "outputs": [
    {
     "name": "stdout",
     "output_type": "stream",
     "text": [
      "0.0953757225433526\n"
     ]
    }
   ],
   "source": [
    "en2de_proj_acc , src_e, tgt_e = calc_alignment_accuracy(l2_projections, l1_projections)\n",
    "print(en2de_proj_acc)"
   ]
  },
  {
   "cell_type": "markdown",
   "metadata": {},
   "source": [
    "de -> en 9.1%\n",
    "\n",
    "fr -> en  14.4%"
   ]
  },
  {
   "cell_type": "markdown",
   "metadata": {},
   "source": [
    "# Distance probe (Non Orthogonal LSM)"
   ]
  },
  {
   "cell_type": "code",
   "execution_count": 35,
   "metadata": {},
   "outputs": [
    {
     "name": "stdout",
     "output_type": "stream",
     "text": [
      "WARNING:tensorflow:Unresolved object in checkpoint: (root).optimizer.iter\n",
      "WARNING:tensorflow:Unresolved object in checkpoint: (root).optimizer.beta_1\n",
      "WARNING:tensorflow:Unresolved object in checkpoint: (root).optimizer.beta_2\n",
      "WARNING:tensorflow:Unresolved object in checkpoint: (root).optimizer.decay\n",
      "WARNING:tensorflow:Unresolved object in checkpoint: (root).optimizer.learning_rate\n",
      "WARNING:tensorflow:A checkpoint was restored (e.g. tf.train.Checkpoint.restore or tf.keras.Model.load_weights) but not all checkpointed values were used. See above for specific issues. Use expect_partial() on the load status object, e.g. tf.train.Checkpoint.restore(...).expect_partial(), to silence these warnings, or use assert_consumed() to make the check explicit. See https://www.tensorflow.org/guide/checkpoint#loading_mechanics for details.\n"
     ]
    },
    {
     "data": {
      "text/plain": [
       "'experiments/train_en_de_fr/task_distance-layer_6-trainl_en_de_fr/params/ckpt-25'"
      ]
     },
     "execution_count": 35,
     "metadata": {},
     "output_type": "execute_result"
    }
   ],
   "source": [
    "languages = ['en', 'fr', 'de']\n",
    "out_dir = f'experiments/train_en_de_fr/task_distance-layer_{layer_idx}-trainl_en_de_fr/'\n",
    "model_dim = 768\n",
    "probe_rank = 768\n",
    "\n",
    "\n",
    "\n",
    "\n",
    "DistanceProbe = tf.Variable(tf.random_uniform_initializer(minval=-0.05, maxval=0.05, seed=42)\n",
    "                             ((probe_rank, model_dim)),\n",
    "                             trainable=True, name='distance_probe', dtype=tf.float32)\n",
    "\n",
    "DepthProbe = tf.Variable(tf.random_uniform_initializer(minval=-0.05, maxval=0.05, seed=42)\n",
    "                             ((probe_rank, model_dim)),\n",
    "                             trainable=True, name='depth_probe', dtype=tf.float32)\n",
    "\n",
    "optimizer=tf.optimizers.Adam()\n",
    "\n",
    "LanguageMaps = {lang: tf.Variable(tf.initializers.Identity(gain=1.0)((model_dim, model_dim)),\n",
    "                                               trainable=False, name='{}_map'.format(lang))\n",
    "                             for lang in languages}\n",
    "                \n",
    "ckpt = tf.train.Checkpoint(optimizer=optimizer, depth_probe=DepthProbe, distance_probe=DistanceProbe, **LanguageMaps)\n",
    "\n",
    "checkpoint_manger = tf.train.CheckpointManager(ckpt, os.path.join(out_dir, 'params'), max_to_keep=1)\n",
    "\n",
    "checkpoint_manger.restore_or_initialize()"
   ]
  },
  {
   "cell_type": "code",
   "execution_count": 36,
   "metadata": {},
   "outputs": [],
   "source": [
    "l1_projections =  l1_embeddings @ ckpt.de.numpy()\n",
    "l2_projections = l2_embeddings @ ckpt.en.numpy()"
   ]
  },
  {
   "cell_type": "code",
   "execution_count": 37,
   "metadata": {},
   "outputs": [
    {
     "name": "stdout",
     "output_type": "stream",
     "text": [
      "0.02119460500963391\n"
     ]
    }
   ],
   "source": [
    "de2en_proj_acc , src_e, tgt_e = calc_alignment_accuracy(l1_projections, l2_projections)\n",
    "print(de2en_proj_acc)"
   ]
  },
  {
   "cell_type": "code",
   "execution_count": 38,
   "metadata": {},
   "outputs": [
    {
     "name": "stdout",
     "output_type": "stream",
     "text": [
      "0.030828516377649325\n"
     ]
    }
   ],
   "source": [
    "en2de_proj_acc , src_e, tgt_e = calc_alignment_accuracy(l2_projections, l1_projections)\n",
    "print(en2de_proj_acc)"
   ]
  },
  {
   "cell_type": "markdown",
   "metadata": {},
   "source": [
    "## Takeaways\n",
    "\n",
    "Non orthogonal language specific matrix hinder the mBERT performance in parallel sentence retrival. \n",
    "\n",
    "It might be because, when not restricted to be orthogonal language specific matrices take over part of probe matrices."
   ]
  },
  {
   "cell_type": "markdown",
   "metadata": {},
   "source": [
    "## Orthogonal matrix (depth probe)"
   ]
  },
  {
   "cell_type": "code",
   "execution_count": 98,
   "metadata": {},
   "outputs": [
    {
     "name": "stdout",
     "output_type": "stream",
     "text": [
      "WARNING:tensorflow:Unresolved object in checkpoint: (root).optimizer.iter\n",
      "WARNING:tensorflow:Unresolved object in checkpoint: (root).optimizer.beta_1\n",
      "WARNING:tensorflow:Unresolved object in checkpoint: (root).optimizer.beta_2\n",
      "WARNING:tensorflow:Unresolved object in checkpoint: (root).optimizer.decay\n",
      "WARNING:tensorflow:Unresolved object in checkpoint: (root).optimizer.learning_rate\n",
      "WARNING:tensorflow:A checkpoint was restored (e.g. tf.train.Checkpoint.restore or tf.keras.Model.load_weights) but not all checkpointed values were used. See above for specific issues. Use expect_partial() on the load status object, e.g. tf.train.Checkpoint.restore(...).expect_partial(), to silence these warnings, or use assert_consumed() to make the check explicit. See https://www.tensorflow.org/guide/checkpoint#loading_mechanics for details.\n"
     ]
    },
    {
     "data": {
      "text/plain": [
       "'experiments/train_9_langs/task_depth-layer_6-trainl_en_de_es_fi_pl_ar_id_zh_ko/params/ckpt-10'"
      ]
     },
     "execution_count": 98,
     "metadata": {},
     "output_type": "execute_result"
    }
   ],
   "source": [
    "#languages = ['en', 'fr', 'de']\n",
    "languages = [\"en\", \"de\", \"es\", \"fi\", \"pl\", \"ar\", \"id\", \"zh\", \"ko\"]\n",
    "#out_dir = f'experiments/train_en_de_fr_ortho/task_depth-layer_{layer_idx}-trainl_en_de_fr/'\n",
    "out_dir = f'experiments/train_9_langs/task_depth-layer_{layer_idx}-trainl_en_de_es_fi_pl_ar_id_zh_ko/'\n",
    "\n",
    "model_dim = 768\n",
    "probe_rank = 768\n",
    "\n",
    "DistanceProbe = tf.Variable(tf.random_uniform_initializer(minval=-0.05, maxval=0.05, seed=42)\n",
    "                             ((1, probe_rank)),\n",
    "                             trainable=True, name='distance_probe', dtype=tf.float32)\n",
    "\n",
    "DepthProbe = tf.Variable(tf.random_uniform_initializer(minval=-0.05, maxval=0.05, seed=42)\n",
    "                             ((1, probe_rank)),\n",
    "                             trainable=True, name='depth_probe', dtype=tf.float32)\n",
    "\n",
    "# DistanceProbe = tf.Variable(tf.random_uniform_initializer(minval=-0.5, maxval=0.5, seed=42)\n",
    "#                                 ((1, probe_rank,)),\n",
    "#                                 trainable=True, name='distance_probe', dtype=tf.float32)\n",
    "\n",
    "# DepthProbe = tf.Variable(tf.random_uniform_initializer(minval=-0.5, maxval=0.5, seed=42)\n",
    "#                                 ((1, probe_rank,)),\n",
    "#                                 trainable=True, name='depth_probe', dtype=tf.float32)\n",
    "\n",
    "optimizer=tf.optimizers.Adam()\n",
    "\n",
    "LanguageMaps = {lang: tf.Variable(tf.initializers.Identity(gain=1.0)((model_dim, model_dim)),\n",
    "                                               trainable=False, name='{}_map'.format(lang))\n",
    "                             for lang in languages}\n",
    "\n",
    "\n",
    "\n",
    "                \n",
    "ckpt = tf.train.Checkpoint(optimizer=optimizer, depth_probe=DepthProbe, distance_probe=DistanceProbe, **LanguageMaps)\n",
    "\n",
    "checkpoint_manger = tf.train.CheckpointManager(ckpt, os.path.join(out_dir, 'params'), max_to_keep=1)\n",
    "\n",
    "checkpoint_manger.restore_or_initialize()"
   ]
  },
  {
   "cell_type": "code",
   "execution_count": 117,
   "metadata": {},
   "outputs": [],
   "source": [
    "l1_projections =  l1_embeddings @ ckpt.de.numpy()\n",
    "l2_projections = l2_embeddings @ ckpt.en.numpy()"
   ]
  },
  {
   "cell_type": "code",
   "execution_count": 110,
   "metadata": {},
   "outputs": [],
   "source": [
    "l1_projections =  l1_embeddings @ ckpt.de.numpy() * (np.abs(ckpt.depth_probe.numpy()) < 1e-35)\n",
    "l2_projections = l2_embeddings @ ckpt.en.numpy() * (np.abs(ckpt.depth_probe.numpy()) < 1e-35)"
   ]
  },
  {
   "cell_type": "code",
   "execution_count": 120,
   "metadata": {},
   "outputs": [],
   "source": [
    "l1_projections =  l1_embeddings @ ckpt.de.numpy() * ckpt.depth_probe.numpy()\n",
    "l2_projections = l2_embeddings @ ckpt.en.numpy() * ckpt.depth_probe.numpy()"
   ]
  },
  {
   "cell_type": "code",
   "execution_count": 114,
   "metadata": {},
   "outputs": [],
   "source": [
    "de_map_depth = ckpt.de.numpy()\n",
    "en_map_depth = ckpt.en.numpy()"
   ]
  },
  {
   "cell_type": "code",
   "execution_count": 121,
   "metadata": {},
   "outputs": [
    {
     "name": "stdout",
     "output_type": "stream",
     "text": [
      "0.008670520231213872\n"
     ]
    }
   ],
   "source": [
    "xx2en_proj_acc , src_e, tgt_e = calc_alignment_accuracy(l1_projections, l2_projections)\n",
    "print(xx2en_proj_acc)"
   ]
  },
  {
   "cell_type": "code",
   "execution_count": 122,
   "metadata": {},
   "outputs": [
    {
     "name": "stdout",
     "output_type": "stream",
     "text": [
      "0.002890173410404624\n"
     ]
    }
   ],
   "source": [
    "en2xx_proj_acc , src_e, tgt_e = calc_alignment_accuracy(l2_projections, l1_projections)\n",
    "print(en2xx_proj_acc)"
   ]
  },
  {
   "cell_type": "code",
   "execution_count": 104,
   "metadata": {},
   "outputs": [
    {
     "data": {
      "image/png": "[encoded data removed]",
      "text/plain": [
       "<Figure size 1152x648 with 1 Axes>"
      ]
     },
     "metadata": {
      "needs_background": "light"
     },
     "output_type": "display_data"
    },
    {
     "data": {
      "image/png": "[encoded data removed]",
      "text/plain": [
       "<Figure size 432x288 with 1 Axes>"
      ]
     },
     "metadata": {
      "needs_background": "light"
     },
     "output_type": "display_data"
    }
   ],
   "source": [
    "depth_probe_eigen = ckpt.depth_probe.numpy().ravel()\n",
    "\n",
    "plt.figure(figsize=[16,9])\n",
    "plt.plot(np.sort(np.abs(depth_probe_eigen)))\n",
    "plt.show()\n",
    "plt.hist(depth_probe_eigen)\n",
    "plt.show()"
   ]
  },
  {
   "cell_type": "markdown",
   "metadata": {},
   "source": [
    "## Orthogonal matrix (distance probe)"
   ]
  },
  {
   "cell_type": "code",
   "execution_count": 123,
   "metadata": {},
   "outputs": [
    {
     "name": "stdout",
     "output_type": "stream",
     "text": [
      "WARNING:tensorflow:Unresolved object in checkpoint: (root).optimizer.iter\n",
      "WARNING:tensorflow:Unresolved object in checkpoint: (root).optimizer.beta_1\n",
      "WARNING:tensorflow:Unresolved object in checkpoint: (root).optimizer.beta_2\n",
      "WARNING:tensorflow:Unresolved object in checkpoint: (root).optimizer.decay\n",
      "WARNING:tensorflow:Unresolved object in checkpoint: (root).optimizer.learning_rate\n",
      "WARNING:tensorflow:A checkpoint was restored (e.g. tf.train.Checkpoint.restore or tf.keras.Model.load_weights) but not all checkpointed values were used. See above for specific issues. Use expect_partial() on the load status object, e.g. tf.train.Checkpoint.restore(...).expect_partial(), to silence these warnings, or use assert_consumed() to make the check explicit. See https://www.tensorflow.org/guide/checkpoint#loading_mechanics for details.\n"
     ]
    },
    {
     "data": {
      "text/plain": [
       "'experiments/train_9_langs/task_distance-layer_6-trainl_en_de_es_fi_pl_ar_id_zh_ko/params/ckpt-11'"
      ]
     },
     "execution_count": 123,
     "metadata": {},
     "output_type": "execute_result"
    }
   ],
   "source": [
    "#languages = ['en', 'fr', 'de']\n",
    "languages = [\"en\", \"de\", \"es\", \"fi\", \"pl\", \"ar\", \"id\", \"zh\", \"ko\"]\n",
    "#out_dir = f'experiments/train_en_de_fr_ortho/task_depth-layer_{layer_idx}-trainl_en_de_fr/'\n",
    "out_dir = f'experiments/train_9_langs/task_distance-layer_{layer_idx}-trainl_en_de_es_fi_pl_ar_id_zh_ko/'\n",
    "\n",
    "model_dim = 768\n",
    "probe_rank = 768\n",
    "\n",
    "# DistanceProbe = tf.Variable(tf.random_uniform_initializer(minval=-0.05, maxval=0.05, seed=42)\n",
    "#                              ((1, probe_rank)),\n",
    "#                              trainable=True, name='distance_probe', dtype=tf.float32)\n",
    "\n",
    "# DepthProbe = tf.Variable(tf.random_uniform_initializer(minval=-0.05, maxval=0.05, seed=42)\n",
    "#                              ((1, probe_rank)),\n",
    "#                              trainable=True, name='depth_probe', dtype=tf.float32)\n",
    "\n",
    "DistanceProbe = tf.Variable(tf.random_uniform_initializer(minval=-0.5, maxval=0.5, seed=42)\n",
    "                                ((1, probe_rank,)),\n",
    "                                trainable=True, name='distance_probe', dtype=tf.float32)\n",
    "\n",
    "DepthProbe = tf.Variable(tf.random_uniform_initializer(minval=-0.5, maxval=0.5, seed=42)\n",
    "                                ((1, probe_rank,)),\n",
    "                                trainable=True, name='depth_probe', dtype=tf.float32)\n",
    "\n",
    "optimizer=tf.optimizers.Adam()\n",
    "\n",
    "LanguageMaps = {lang: tf.Variable(tf.initializers.Identity(gain=1.0)((model_dim, model_dim)),\n",
    "                                               trainable=False, name='{}_map'.format(lang))\n",
    "                             for lang in languages}\n",
    "\n",
    "\n",
    "\n",
    "\n",
    "                \n",
    "ckpt = tf.train.Checkpoint(optimizer=optimizer, depth_probe=DepthProbe, distance_probe=DistanceProbe, **LanguageMaps)\n",
    "\n",
    "checkpoint_manger = tf.train.CheckpointManager(ckpt, os.path.join(out_dir, 'params'), max_to_keep=1)\n",
    "\n",
    "checkpoint_manger.restore_or_initialize()"
   ]
  },
  {
   "cell_type": "code",
   "execution_count": 132,
   "metadata": {},
   "outputs": [],
   "source": [
    "l1_projections =  l1_embeddings @ ckpt.de.numpy()\n",
    "l2_projections = l2_embeddings @ ckpt.en.numpy()"
   ]
  },
  {
   "cell_type": "code",
   "execution_count": 142,
   "metadata": {},
   "outputs": [],
   "source": [
    "l1_projections =  l1_embeddings @ ckpt.de.numpy() * (np.abs(ckpt.distance_probe.numpy()) < 0.01)\n",
    "l2_projections = l2_embeddings @ ckpt.en.numpy() * (np.abs(ckpt.distance_probe.numpy()) < 0.01)"
   ]
  },
  {
   "cell_type": "code",
   "execution_count": 131,
   "metadata": {},
   "outputs": [],
   "source": [
    "l1_projections =  l1_embeddings @ ckpt.de.numpy() * ckpt.distance_probe.numpy()\n",
    "l2_projections = l2_embeddings @ ckpt.en.numpy() * ckpt.distance_probe.numpy()"
   ]
  },
  {
   "cell_type": "code",
   "execution_count": 263,
   "metadata": {},
   "outputs": [
    {
     "data": {
      "text/plain": [
       "(1, 768)"
      ]
     },
     "execution_count": 263,
     "metadata": {},
     "output_type": "execute_result"
    }
   ],
   "source": [
    "(np.abs(ckpt.distance_probe.numpy()) > 0.1).shape"
   ]
  },
  {
   "cell_type": "code",
   "execution_count": 125,
   "metadata": {},
   "outputs": [],
   "source": [
    "de_map_distance = ckpt.de.numpy()\n",
    "en_map_distance = ckpt.en.numpy()"
   ]
  },
  {
   "cell_type": "code",
   "execution_count": 143,
   "metadata": {},
   "outputs": [
    {
     "name": "stdout",
     "output_type": "stream",
     "text": [
      "0.8352601156069365\n"
     ]
    }
   ],
   "source": [
    "xx2en_proj_acc , src_e, tgt_e = calc_alignment_accuracy(l1_projections, l2_projections)\n",
    "print(xx2en_proj_acc)"
   ]
  },
  {
   "cell_type": "code",
   "execution_count": 144,
   "metadata": {},
   "outputs": [
    {
     "name": "stdout",
     "output_type": "stream",
     "text": [
      "0.8747591522157996\n"
     ]
    }
   ],
   "source": [
    "en2xx_proj_acc , src_e, tgt_e = calc_alignment_accuracy(l2_projections, l1_projections)\n",
    "print(en2xx_proj_acc)"
   ]
  },
  {
   "cell_type": "code",
   "execution_count": 270,
   "metadata": {},
   "outputs": [
    {
     "data": {
      "text/plain": [
       "array([[-4.23079530e-36, -2.32030417e-36, -3.52827671e-36,\n",
       "        -3.05523932e-01, -1.48180187e-01, -2.03733640e-36,\n",
       "        -4.90872027e-36,  4.94195216e-36, -3.04273312e-36,\n",
       "        -9.02260914e-02,  7.59169608e-02,  1.99705183e-36,\n",
       "         2.48505934e-35,  1.75912256e-36, -2.30595379e-36,\n",
       "        -4.14789368e-36, -6.50782020e-37,  6.18892395e-36,\n",
       "         2.07561466e-35, -1.91470552e-36, -1.02845892e-01,\n",
       "         3.82503236e-36,  1.05447274e-36,  1.85153562e-36,\n",
       "         7.19069496e-36,  9.62383625e-37, -2.58858794e-37,\n",
       "        -4.22114109e-36, -6.23372317e-36, -1.09107134e-36,\n",
       "        -2.51493533e-36, -2.84886193e-36,  1.71993703e-01,\n",
       "         4.21805779e-36, -3.70953667e-36, -1.28309676e-36,\n",
       "         1.53762072e-36,  1.74009472e-01, -8.24043853e-37,\n",
       "        -1.19594529e-01,  7.55769812e-38,  1.65817992e-36,\n",
       "         3.38025368e-36,  8.60720649e-02,  1.96668789e-01,\n",
       "        -2.28594191e-36,  1.52146503e-01, -1.84261858e-01,\n",
       "        -2.36395831e-36, -8.64691138e-02, -4.15551889e-36,\n",
       "         3.75305162e-36, -7.39809275e-02,  5.58569029e-36,\n",
       "         1.78397877e-36, -5.76088013e-37, -7.34835713e-37,\n",
       "        -4.63513121e-36, -7.19976515e-35, -6.80100825e-36,\n",
       "        -4.62885267e-36,  4.85511906e-02, -3.85879554e-36,\n",
       "         1.93608031e-01, -1.54973045e-36,  6.00806255e-36,\n",
       "        -1.27089941e-36,  1.09010079e-36, -1.51506614e-36,\n",
       "         4.98329930e-36, -1.48035421e-36,  1.54765993e-01,\n",
       "        -2.97946851e-36,  7.63721205e-37,  1.20282725e-36,\n",
       "         1.06739348e-37, -1.94793042e-38, -6.14384205e-36,\n",
       "         4.38015647e-02, -2.28795619e-36,  5.37869596e-36,\n",
       "         3.77185315e-36,  3.10282080e-36,  3.28240870e-36,\n",
       "         2.21715784e-36,  2.00564598e-36, -8.58405754e-37,\n",
       "         1.01624127e-35, -2.81007865e-36,  1.36273817e-35,\n",
       "         6.25916590e-36, -1.87629864e-01,  4.45326823e-38,\n",
       "        -7.80418943e-37,  2.85692767e-36, -1.31082802e-35,\n",
       "         1.49543146e-36, -2.98627797e-36,  1.82547245e-36,\n",
       "        -5.28905554e-36, -2.27632001e-01, -1.27782077e-01,\n",
       "        -6.30500617e-36, -5.98474925e-36, -5.59047614e-36,\n",
       "         2.26507480e-36, -2.43321914e-36,  4.88151831e-36,\n",
       "        -2.05288649e-01,  8.63937049e-37,  2.39475908e-36,\n",
       "        -3.62201349e-36, -3.70385556e-35,  1.38532028e-01,\n",
       "         7.55533766e-37, -2.11019605e-01, -5.84224531e-36,\n",
       "         2.52921988e-36, -2.97867015e-36,  6.80662255e-35,\n",
       "         1.11227799e-36, -3.16423507e-36, -1.48088504e-37,\n",
       "         5.86329824e-37, -3.63440626e-36, -7.62562230e-37,\n",
       "        -2.02575358e-35, -3.09590587e-36, -1.86185796e-36,\n",
       "         1.62891462e-01,  1.09884031e-01,  7.10269072e-36,\n",
       "        -2.61567742e-01, -4.97306646e-36,  4.90932904e-36,\n",
       "         2.59669529e-37, -1.76022315e-36, -1.61526829e-01,\n",
       "         8.68842825e-02,  1.55801143e-36, -1.72278046e-36,\n",
       "        -2.12239903e-36,  1.24075199e-36, -1.76208481e-01,\n",
       "         2.18867807e-35,  2.84569235e-36,  2.86283115e-36,\n",
       "        -1.29006227e-37,  1.87159073e-36,  2.26605683e-36,\n",
       "         2.88221812e-36,  1.05759250e-35,  1.78729148e-36,\n",
       "         3.15889265e-37,  1.18540595e-36, -4.73709444e-36,\n",
       "         8.52669264e-36, -2.39707619e-01,  1.12198296e-36,\n",
       "        -8.50673636e-37, -4.01375681e-36, -2.27095245e-36,\n",
       "        -4.34557050e-02, -4.57904842e-36, -1.61147853e-36,\n",
       "         1.80750787e-01, -5.43900719e-03,  5.80307783e-36,\n",
       "         1.67746365e-01,  2.96622913e-37,  3.88937389e-36,\n",
       "        -3.93263127e-36,  7.71554217e-37, -3.41880737e-36,\n",
       "        -2.19491463e-36,  1.44251413e-36, -1.68956563e-01,\n",
       "         2.95169262e-37,  2.84607500e-01, -1.28309205e-01,\n",
       "        -2.13147442e-36, -3.82753846e-36,  2.11590992e-36,\n",
       "         4.92990557e-36,  3.08432886e-36, -1.34603575e-01,\n",
       "         2.22537950e-01,  1.11721971e-36,  8.20928406e-36,\n",
       "         5.21270114e-36,  2.39921095e-36,  1.47684392e-36,\n",
       "        -2.36710189e-36,  2.34532486e-36, -1.60647008e-36,\n",
       "         1.89785227e-36, -2.88016635e-36, -1.51109175e-36,\n",
       "        -1.59842479e-36, -8.47017704e-37,  5.34875041e-36,\n",
       "        -5.90273799e-36, -2.17346997e-37,  1.65473863e-01,\n",
       "         2.32985639e-03,  2.32706932e-37,  1.46375582e-01,\n",
       "         1.34853538e-36, -1.77691999e-36,  1.66836649e-36,\n",
       "         2.38809630e-01, -9.88608757e-37,  4.81717700e-35,\n",
       "         2.06234023e-01,  1.80154554e-36, -6.62679918e-37,\n",
       "         3.04977506e-01, -1.07371591e-01, -1.86553138e-36,\n",
       "        -1.54263332e-01,  2.85772026e-01,  1.24563120e-01,\n",
       "        -2.57910951e-35,  2.44232879e-36,  2.19658310e-36,\n",
       "         1.78984189e-36, -2.17678645e-36, -2.42489260e-36,\n",
       "        -1.85841539e-36, -2.64297733e-36,  2.00747252e-01,\n",
       "        -2.25414261e-01, -4.82494944e-36,  1.75468683e-36,\n",
       "        -6.36454140e-36, -1.78481282e-36, -1.68087974e-01,\n",
       "         2.57206652e-36,  1.82644749e-36,  5.20698367e-36,\n",
       "         6.12487963e-37,  1.32893963e-36,  1.77171066e-01,\n",
       "         3.46281738e-36,  2.70550546e-36, -2.16440499e-01,\n",
       "        -3.92450742e-36, -3.86933079e-37,  2.82966311e-36,\n",
       "         9.73919921e-37,  1.47962948e-36,  2.76677750e-36,\n",
       "        -8.46958424e-37,  4.19940873e-36, -1.46627426e-01,\n",
       "         7.97669142e-02, -8.90301657e-36,  7.79877616e-37,\n",
       "        -1.36838448e-35,  6.07049311e-37, -4.28957145e-36,\n",
       "        -1.19360209e-01, -3.82119392e-36,  3.15546298e-36,\n",
       "        -1.85474575e-01,  3.48053230e-36,  2.31329077e-36,\n",
       "        -1.98798446e-37,  2.17299680e-36, -2.16203044e-37,\n",
       "         1.84021115e-36, -1.58105046e-01, -9.86532941e-02,\n",
       "         2.27180079e-01,  1.24657147e-01,  3.33639505e-36,\n",
       "        -4.21105964e-36, -1.92456469e-01, -1.65530181e-35,\n",
       "         1.26023531e-01,  5.51958606e-02,  1.51749889e-36,\n",
       "         3.34026111e-36,  1.24028393e-36, -6.50151893e-02,\n",
       "         5.61364344e-36,  1.48782741e-36, -1.33367965e-37,\n",
       "         5.68201820e-36, -9.42919881e-37,  2.19393243e-36,\n",
       "        -3.74013869e-36, -1.07383192e-01,  9.08065081e-37,\n",
       "         4.81956845e-36,  7.01125772e-36, -1.77051447e-36,\n",
       "        -9.16424981e-37, -2.30313398e-36,  1.00488696e-36,\n",
       "        -8.42836409e-38, -1.36704042e-37, -1.61402786e-36,\n",
       "         6.24989608e-37,  1.96691849e-36, -6.13886571e-36,\n",
       "        -1.77623734e-01,  4.30196028e-36, -1.57381535e-01,\n",
       "         1.59135651e-36,  2.17241117e-36, -2.92299900e-36,\n",
       "        -6.23254222e-36,  3.30891499e-37,  2.23440354e-36,\n",
       "         1.36665047e-36, -2.06445441e-01, -1.05574861e-01,\n",
       "         1.83090359e-01,  4.21506991e-36, -8.34597689e-36,\n",
       "        -7.33217157e-37, -1.90211207e-01, -2.28013374e-35,\n",
       "         2.42794523e-36,  5.35983883e-36,  1.44480499e-36,\n",
       "         2.10403711e-01,  1.12138063e-01, -5.07223732e-36,\n",
       "         2.67456192e-36,  1.62875885e-36, -3.82081330e-01,\n",
       "        -8.45674556e-36,  2.05953555e-35, -1.79229125e-01,\n",
       "        -8.19303766e-02, -3.63817367e-36, -2.39615939e-36,\n",
       "        -1.47497152e-36,  4.79750246e-36,  2.15023846e-37,\n",
       "        -2.07197022e-37,  4.34581666e-37, -4.83258021e-37,\n",
       "        -8.03739509e-37, -2.72523252e-36,  2.40140304e-01,\n",
       "        -1.42531901e-36, -3.03480843e-35,  7.03466286e-36,\n",
       "         6.35074168e-36,  4.88764295e-37,  4.61402303e-36,\n",
       "        -3.67523718e-36,  4.75846018e-36,  1.42405719e-01,\n",
       "        -1.23583436e-01,  3.65928292e-36,  4.37477040e-36,\n",
       "         1.55167386e-01, -2.16943592e-01, -2.35908942e-36,\n",
       "         1.14569239e-01,  1.01278364e-36, -6.78097232e-36,\n",
       "         1.72098285e-38, -8.79764482e-02, -4.36615365e-37,\n",
       "        -3.79880794e-36,  1.69920582e-36,  2.08241866e-36,\n",
       "        -5.41793698e-36, -1.93638731e-36, -3.98115037e-37,\n",
       "        -5.33979645e-36, -2.12321622e-36,  6.80999485e-37,\n",
       "        -1.05277370e-36,  5.18167438e-37, -6.60932676e-36,\n",
       "        -6.99130987e-37, -4.27749437e-36,  7.64652833e-37,\n",
       "        -1.59483496e-36, -1.99001583e-36,  9.78242180e-36,\n",
       "        -2.24421379e-36, -2.30190119e-36,  3.61168895e-37,\n",
       "         1.12653061e-36,  3.49988520e-36, -1.82303020e-36,\n",
       "        -1.62545413e-01,  6.32066412e-37,  9.74407618e-37,\n",
       "        -5.62230790e-36,  4.38379180e-36, -2.92670005e-03,\n",
       "        -1.99993998e-36, -3.96110171e-36,  1.58250281e-36,\n",
       "        -3.93825548e-36, -3.20675132e-36, -1.25581667e-01,\n",
       "        -7.77837182e-36, -6.01072075e-36,  5.13240176e-36,\n",
       "         2.32970242e-36, -2.58707193e-36, -7.76875923e-37,\n",
       "         9.17351097e-02,  1.30211607e-01, -1.41240536e-36,\n",
       "        -6.31415397e-02,  5.92578009e-35,  1.49243676e-36,\n",
       "         2.43270651e-01, -9.65413004e-02, -6.18138716e-37,\n",
       "        -4.08679222e-36,  2.28548883e-36, -3.32022380e-37,\n",
       "         2.61458563e-36, -1.50178479e-36, -8.93615340e-37,\n",
       "         5.67094054e-36,  8.43165740e-02,  8.81588298e-37,\n",
       "         1.98586315e-01,  3.57831495e-37, -4.43951909e-36,\n",
       "        -1.61021166e-37,  1.96754351e-01, -6.41444610e-36,\n",
       "        -5.60145515e-36,  2.48214328e-35,  3.37201360e-36,\n",
       "         1.73622653e-01, -2.92758763e-01, -3.61917305e-36,\n",
       "        -2.56743887e-37, -1.56228244e-01, -4.87430976e-37,\n",
       "        -3.76695717e-36,  4.87379588e-36, -5.46771953e-37,\n",
       "         6.01956423e-36,  4.23901565e-36, -5.56223034e-35,\n",
       "        -6.54589283e-36,  8.20286490e-37,  1.49885282e-01,\n",
       "        -2.04023719e-01,  8.39063405e-36,  2.11537326e-36,\n",
       "         4.81973670e-37,  1.13987753e-35, -3.81446877e-36,\n",
       "        -1.30684808e-01, -1.63925216e-01, -2.03681516e-36,\n",
       "         8.46291855e-02, -2.15942560e-38,  2.49079354e-36,\n",
       "         1.18459629e-36,  1.84021786e-01, -1.21054064e-35,\n",
       "        -1.64715141e-35,  1.76054242e-35,  1.98224479e-36,\n",
       "        -1.50526378e-36, -1.41765379e-36,  1.57506272e-01,\n",
       "         2.80606085e-36,  2.25063403e-36, -6.57471554e-36,\n",
       "         1.47123658e-36, -1.88569681e-36,  9.12905906e-37,\n",
       "         1.60481310e-36,  3.01008596e-37, -1.43739932e-36,\n",
       "        -2.51669079e-37,  2.10689962e-01,  4.77975274e-36,\n",
       "        -4.35447153e-36,  8.43727142e-37,  6.46643934e-36,\n",
       "         4.79724704e-36,  4.76496041e-36, -3.59245538e-36,\n",
       "        -1.96571099e-36,  6.80553243e-02, -3.27068102e-36,\n",
       "         2.23081855e-36, -1.45056665e-01,  1.89979302e-37,\n",
       "         2.43156001e-01,  1.43071786e-01,  2.00968653e-01,\n",
       "        -3.92540389e-36, -1.48847286e-36,  2.87632003e-36,\n",
       "        -1.28089428e-01, -2.45543741e-36,  2.17202697e-36,\n",
       "         3.43968559e-36, -8.53234985e-37, -2.05739573e-01,\n",
       "        -1.69256866e-01,  1.35479374e-36, -2.47827270e-35,\n",
       "         1.99031711e-01, -2.29904927e-36, -4.30454243e-36,\n",
       "         3.38724914e-37,  5.02569645e-36, -4.43292968e-02,\n",
       "        -1.54547632e-01,  1.48981869e-01, -7.04519381e-36,\n",
       "         2.53377721e-37,  1.31849298e-36,  8.26034993e-02,\n",
       "         3.24444010e-36, -5.34970464e-38, -3.10188738e-36,\n",
       "        -1.61899128e-36, -3.67648701e-36,  4.72632134e-36,\n",
       "        -1.06357208e-36, -1.92783280e-36, -1.05710189e-37,\n",
       "        -1.33299833e-36,  1.31520305e-36, -2.02732190e-01,\n",
       "         1.89502905e-37, -3.51392132e-36, -3.66953590e-37,\n",
       "         2.37081602e-36,  2.87988170e-36,  4.98450832e-37,\n",
       "        -2.00096686e-36, -2.51656299e-37, -2.42039311e-37,\n",
       "         3.94475428e-36,  2.93996579e-36,  2.49330951e-36,\n",
       "        -1.27162639e-36, -7.39081670e-37,  1.50181887e-37,\n",
       "         2.03678198e-36,  2.30280054e-36, -1.24760255e-26,\n",
       "        -2.88785126e-35,  3.45752537e-02,  1.41931813e-36,\n",
       "         3.42044283e-36,  8.13759640e-02,  7.78340627e-37,\n",
       "         4.66262231e-36, -1.27737507e-01, -6.62369803e-02,\n",
       "         1.38052513e-35,  2.00628793e-36,  1.63581222e-01,\n",
       "         3.89122351e-36, -1.67572642e-36, -2.56920114e-37,\n",
       "        -3.04074682e-36, -1.67549074e-01,  1.46051437e-01,\n",
       "         1.31341943e-36, -5.70001867e-36, -2.83162089e-36,\n",
       "        -2.12263241e-01,  3.43601576e-36,  4.84865017e-36,\n",
       "        -3.16028686e-36, -3.89257306e-36, -1.34376690e-01,\n",
       "         8.29474273e-36, -1.28615960e-01, -1.77589253e-01,\n",
       "        -4.67292402e-36, -8.28730692e-36,  4.22990959e-36,\n",
       "         3.53109994e-36,  1.71160355e-01,  1.50943548e-36,\n",
       "         2.33552346e-35,  1.68816368e-36, -2.00098013e-36,\n",
       "        -9.27794287e-37, -8.74715164e-38,  1.85844893e-36,\n",
       "         2.61691973e-36,  1.15140610e-36, -1.31314516e-01,\n",
       "        -7.71849866e-36, -3.61520547e-36, -6.76163234e-37,\n",
       "        -5.23923514e-36, -1.92452431e-01,  1.38705820e-01,\n",
       "        -6.50045793e-36,  4.99412100e-37,  3.86770465e-36,\n",
       "         4.13221564e-36,  1.34355992e-01,  1.98755190e-01,\n",
       "         1.64398506e-01,  1.47960516e-35,  4.35907900e-37,\n",
       "         1.44686232e-36, -5.13666494e-36,  3.58749518e-36,\n",
       "         2.57128304e-36, -2.80495488e-36, -3.20519980e-36,\n",
       "         4.36599545e-36, -7.74379145e-36,  2.48694308e-36,\n",
       "        -1.38535281e-38,  4.15588803e-36,  9.88649922e-37,\n",
       "        -6.54602053e-36, -6.08670512e-37, -2.57803268e-37,\n",
       "         7.38400444e-02, -1.11874504e-36,  2.32407965e-36,\n",
       "         1.48937896e-01,  1.21969499e-01, -4.75065667e-36,\n",
       "        -1.42254421e-36,  4.81501793e-36,  1.83272943e-01,\n",
       "         1.41150239e-35, -1.97086588e-01, -1.20760621e-35,\n",
       "         2.40137769e-36,  1.19134674e-37, -5.24094998e-37,\n",
       "         6.55863285e-38,  2.18264007e-36,  5.43539863e-37,\n",
       "        -1.23200278e-36, -1.39408328e-36,  9.88134872e-36,\n",
       "         1.51029733e-36,  1.69759493e-36,  2.46726066e-01,\n",
       "        -1.92987811e-37,  1.98881049e-36, -3.26474256e-36,\n",
       "         3.06063171e-36, -3.06750000e-36,  2.54050793e-36,\n",
       "        -2.62336095e-36,  2.49366985e-36, -1.23400612e-36,\n",
       "        -8.44113281e-36,  4.30217157e-36, -5.35928710e-36,\n",
       "         6.83923118e-36, -1.57377303e-01, -1.38288652e-36,\n",
       "        -2.77351718e-38, -1.53558026e-36, -3.74324424e-36,\n",
       "         7.15185715e-36, -5.74309117e-35,  2.55980655e-35,\n",
       "        -1.07278424e-36, -2.82992660e-36, -2.10160242e-36,\n",
       "        -1.74462547e-36, -1.44319859e-36,  3.70786712e-02,\n",
       "        -1.39914880e-35, -1.84342073e-36,  1.42818187e-36,\n",
       "        -2.88819909e-36, -9.13383588e-02, -1.65380662e-37,\n",
       "        -4.44475658e-36,  3.86526563e-36,  2.14795917e-01,\n",
       "        -2.16447547e-36, -1.71591163e-01,  4.47757207e-02,\n",
       "         3.00991843e-36, -3.37094637e-36,  2.67630905e-01,\n",
       "        -5.00974828e-36, -8.20356084e-37, -9.63418030e-38,\n",
       "         2.20138653e-36, -2.11779413e-35,  8.51552889e-37,\n",
       "        -7.30719214e-37, -3.39646121e-36, -1.65885147e-36,\n",
       "         1.31984612e-36,  3.05704582e-37, -2.19374194e-36,\n",
       "         1.69342309e-01,  2.41713519e-36, -3.11752165e-36,\n",
       "         1.86150999e-36,  1.48549393e-01,  3.29875524e-37,\n",
       "        -1.74172207e-36,  6.23236214e-36, -4.18267906e-37,\n",
       "        -4.39250183e-36, -3.46187465e-02, -1.58413649e-01,\n",
       "         1.88087329e-01, -1.71117349e-36,  5.54052732e-36,\n",
       "         5.86481101e-36, -5.29273829e-36, -6.95728356e-36,\n",
       "         1.89481202e-36, -3.29783527e-36,  2.30855390e-01,\n",
       "        -6.13453653e-36,  1.99641183e-01,  2.51693239e-36,\n",
       "         2.14115620e-01,  1.92330018e-01, -3.74085009e-02,\n",
       "        -3.05577427e-01, -2.43810471e-02,  1.57230118e-36,\n",
       "         1.68241911e-36,  2.42681218e-36, -2.36433785e-36,\n",
       "        -2.71686971e-01, -7.00047566e-36, -1.20766886e-01,\n",
       "        -8.68722984e-35, -1.44582218e-36,  6.05377080e-37,\n",
       "         3.84135074e-36, -3.79362139e-36,  4.41129070e-37,\n",
       "        -1.17793606e-36,  6.20918085e-36, -4.00768240e-36,\n",
       "        -2.15246364e-01, -5.67570406e-37,  3.99660187e-36,\n",
       "        -2.92709745e-35,  4.43880700e-36, -1.93796232e-36,\n",
       "         5.04851650e-37, -6.06132211e-38, -5.69702487e-38,\n",
       "         1.09934924e-35, -1.38750754e-36,  2.47442931e-01,\n",
       "         2.13160962e-01,  1.31366149e-01,  1.19037143e-37]], dtype=float32)"
      ]
     },
     "execution_count": 270,
     "metadata": {},
     "output_type": "execute_result"
    }
   ],
   "source": [
    "ckpt.distance_probe.numpy()"
   ]
  },
  {
   "cell_type": "code",
   "execution_count": 96,
   "metadata": {},
   "outputs": [
    {
     "data": {
      "image/png": "[encoded data removed]",
      "text/plain": [
       "<Figure size 1152x648 with 1 Axes>"
      ]
     },
     "metadata": {
      "needs_background": "light"
     },
     "output_type": "display_data"
    },
    {
     "data": {
      "image/png": "[encoded data removed]",
      "text/plain": [
       "<Figure size 432x288 with 1 Axes>"
      ]
     },
     "metadata": {
      "needs_background": "light"
     },
     "output_type": "display_data"
    },
    {
     "data": {
      "image/png": "[encoded data removed]",
      "text/plain": [
       "<Figure size 432x288 with 1 Axes>"
      ]
     },
     "metadata": {
      "needs_background": "light"
     },
     "output_type": "display_data"
    }
   ],
   "source": [
    "distance_probe_eigen = ckpt.distance_probe.numpy().ravel()\n",
    "\n",
    "plt.figure(figsize=[16,9])\n",
    "\n",
    "plt.plot(np.sort(distance_probe_eigen))\n",
    "plt.show()\n",
    "plt.plot(np.sort(np.abs(distance_probe_eigen)))\n",
    "plt.show()\n",
    "plt.hist(distance_probe_eigen)\n",
    "plt.show()"
   ]
  },
  {
   "cell_type": "markdown",
   "metadata": {},
   "source": [
    "## mean matrices"
   ]
  },
  {
   "cell_type": "code",
   "execution_count": 122,
   "metadata": {},
   "outputs": [],
   "source": [
    "de_map = (de_map_depth + de_map_distance)/ 2.\n",
    "en_map = (en_map_depth + en_map_distance)/2."
   ]
  },
  {
   "cell_type": "code",
   "execution_count": 123,
   "metadata": {},
   "outputs": [],
   "source": [
    "l1_projections =  l1_embeddings @ de_map\n",
    "l2_projections = l2_embeddings @ en_map"
   ]
  },
  {
   "cell_type": "code",
   "execution_count": 124,
   "metadata": {},
   "outputs": [
    {
     "name": "stdout",
     "output_type": "stream",
     "text": [
      "0.8448940269749519\n"
     ]
    }
   ],
   "source": [
    "xx2en_proj_acc , src_e, tgt_e = calc_alignment_accuracy(l1_projections, l2_projections)\n",
    "print(xx2en_proj_acc)"
   ]
  },
  {
   "cell_type": "code",
   "execution_count": 125,
   "metadata": {},
   "outputs": [
    {
     "name": "stdout",
     "output_type": "stream",
     "text": [
      "0.7947976878612717\n"
     ]
    }
   ],
   "source": [
    "en2xx_proj_acc , src_e, tgt_e = calc_alignment_accuracy(l2_projections, l1_projections)\n",
    "print(en2xx_proj_acc)"
   ]
  },
  {
   "cell_type": "markdown",
   "metadata": {},
   "source": [
    "## Lexical Depth Probe"
   ]
  },
  {
   "cell_type": "code",
   "execution_count": 12,
   "metadata": {},
   "outputs": [
    {
     "data": {
      "text/plain": [
       "'experiments/task_lex-depth-layer_6-trainl_en/params/ckpt-10'"
      ]
     },
     "execution_count": 12,
     "metadata": {},
     "output_type": "execute_result"
    }
   ],
   "source": [
    "\n",
    "languages = [\"en\"]\n",
    "out_dir = f'experiments/task_lex-depth-layer_6-trainl_en/'\n",
    "\n",
    "model_dim = 768\n",
    "probe_rank = 768\n",
    "\n",
    "# DistanceProbe = tf.Variable(tf.random_uniform_initializer(minval=-0.05, maxval=0.05, seed=42)\n",
    "#                              ((1, probe_rank)),\n",
    "#                              trainable=True, name='distance_probe', dtype=tf.float32)\n",
    "\n",
    "# DepthProbe = tf.Variable(tf.random_uniform_initializer(minval=-0.05, maxval=0.05, seed=42)\n",
    "#                              ((1, probe_rank)),\n",
    "#                              trainable=True, name='depth_probe', dtype=tf.float32)\n",
    "\n",
    "DistanceProbe = tf.Variable(tf.random_uniform_initializer(minval=-0.5, maxval=0.5, seed=42)\n",
    "                                ((1, probe_rank,)),\n",
    "                                trainable=True, name='distance_probe', dtype=tf.float32)\n",
    "\n",
    "DepthProbe = tf.Variable(tf.random_uniform_initializer(minval=-0.5, maxval=0.5, seed=42)\n",
    "                                ((1, probe_rank,)),\n",
    "                                trainable=True, name='depth_probe', dtype=tf.float32)\n",
    "\n",
    "optimizer=tf.optimizers.Adam()\n",
    "\n",
    "LanguageMaps = {lang: tf.Variable(tf.initializers.Identity(gain=1.0)((model_dim, model_dim)),\n",
    "                                               trainable=False, name='{}_map'.format(lang))\n",
    "                             for lang in languages}\n",
    "\n",
    "\n",
    "\n",
    "\n",
    "                \n",
    "ckpt = tf.train.Checkpoint(optimizer=optimizer, depth_probe=DepthProbe, distance_probe=DistanceProbe, **LanguageMaps)\n",
    "\n",
    "checkpoint_manger = tf.train.CheckpointManager(ckpt, os.path.join(out_dir, 'params'), max_to_keep=1)\n",
    "\n",
    "checkpoint_manger.restore_or_initialize()"
   ]
  },
  {
   "cell_type": "code",
   "execution_count": 15,
   "metadata": {
    "scrolled": true
   },
   "outputs": [
    {
     "data": {
      "image/png": "[encoded data removed]",
      "text/plain": [
       "<Figure size 1152x648 with 1 Axes>"
      ]
     },
     "metadata": {
      "needs_background": "light"
     },
     "output_type": "display_data"
    },
    {
     "data": {
      "image/png": "[encoded data removed]",
      "text/plain": [
       "<Figure size 432x288 with 1 Axes>"
      ]
     },
     "metadata": {
      "needs_background": "light"
     },
     "output_type": "display_data"
    },
    {
     "data": {
      "image/png": "[encoded data removed]",
      "text/plain": [
       "<Figure size 432x288 with 1 Axes>"
      ]
     },
     "metadata": {
      "needs_background": "light"
     },
     "output_type": "display_data"
    }
   ],
   "source": [
    "depth_probe_eigen = ckpt.depth_probe.numpy().ravel()\n",
    "\n",
    "plt.figure(figsize=[16,9])\n",
    "\n",
    "plt.plot(np.sort(depth_probe_eigen))\n",
    "plt.show()\n",
    "plt.plot(np.sort(np.abs(depth_probe_eigen)))\n",
    "plt.show()\n",
    "plt.hist(depth_probe_eigen)\n",
    "plt.show()"
   ]
  },
  {
   "cell_type": "markdown",
   "metadata": {},
   "source": [
    "it seams that lexical probing require more dimension. Another reason why their number is higher is that the training here was set to only 10 epochs."
   ]
  }
 ],
 "metadata": {
  "kernelspec": {
   "display_name": "Python 3",
   "language": "python",
   "name": "python3"
  },
  "language_info": {
   "codemirror_mode": {
    "name": "ipython",
    "version": 3
   },
   "file_extension": ".py",
   "mimetype": "text/x-python",
   "name": "python",
   "nbconvert_exporter": "python",
   "pygments_lexer": "ipython3",
   "version": "3.6.6"
  }
 },
 "nbformat": 4,
 "nbformat_minor": 4
}
