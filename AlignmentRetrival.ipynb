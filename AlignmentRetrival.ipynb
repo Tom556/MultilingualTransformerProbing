{
 "cells": [
  {
   "cell_type": "code",
   "execution_count": 1,
   "metadata": {},
   "outputs": [],
   "source": [
    "import os\n",
    "import tensorflow as tf\n",
    "import numpy as np\n",
    "\n",
    "from transformers import BertTokenizer, TFBertModel"
   ]
  },
  {
   "cell_type": "code",
   "execution_count": 39,
   "metadata": {},
   "outputs": [],
   "source": [
    "import matplotlib.pyplot as plt"
   ]
  },
  {
   "cell_type": "markdown",
   "metadata": {},
   "source": [
    "## Prepare aligned sentence pairs"
   ]
  },
  {
   "cell_type": "code",
   "execution_count": 19,
   "metadata": {},
   "outputs": [],
   "source": [
    "l1 = 'de'\n",
    "l2 = 'en'\n",
    "l_pair = f\"{l1}-{l2}\"\n",
    "\n",
    "gold_alignment = list()\n",
    "with open(f'bucc2017/{l_pair}/{l_pair}.sample.gold', 'r') as in_file:\n",
    "    for line in in_file.readlines(): \n",
    "        l1_tag, l2_tag = line.strip().split('\\t')\n",
    "        gold_alignment.append((l1_tag, l2_tag)) \n",
    "        \n",
    "\n",
    "l1_2sent = dict()\n",
    "with open(f'bucc2017/{l_pair}/{l_pair}.sample.{l1}', 'r') as l1_in:\n",
    "    for line in l1_in.readlines():\n",
    "        l1_tag, l1_sent = line.strip().split('\\t')\n",
    "        l1_2sent[l1_tag] = l1_sent\n",
    "        \n",
    "l2_2sent = dict()\n",
    "with open(f'bucc2017/{l_pair}/{l_pair}.sample.{l2}', 'r') as l2_in:\n",
    "    for line in l2_in.readlines():\n",
    "        l2_tag, l2_sent = line.strip().split('\\t')\n",
    "        l2_2sent[l2_tag] = l2_sent\n",
    "        \n",
    "    \n",
    "        \n",
    "l1_list = []\n",
    "l2_list = []\n",
    "for l1_tag, l2_tag in gold_alignment:\n",
    "    l1_list.append(l1_2sent[l1_tag])\n",
    "    l2_list.append(l2_2sent[l2_tag])"
   ]
  },
  {
   "cell_type": "markdown",
   "metadata": {},
   "source": [
    "## Initialize BERT model"
   ]
  },
  {
   "cell_type": "code",
   "execution_count": 20,
   "metadata": {},
   "outputs": [],
   "source": [
    "bert_path = 'bert-base-multilingual-cased'\n",
    "tokenizer = BertTokenizer.from_pretrained(bert_path, do_lower_case=False)\n",
    "\n",
    "bert_model = TFBertModel.from_pretrained(bert_path, output_hidden_states=True)\n",
    "\n",
    "layer_idx = 6 "
   ]
  },
  {
   "cell_type": "code",
   "execution_count": 21,
   "metadata": {},
   "outputs": [],
   "source": [
    "def get_embeddings(tokenizer, bert_model, layer_idx, sent_list):\n",
    "    bert_input = tokenizer.batch_encode_plus(sent_list, pad_to_max_length=True)\n",
    "    input_ids = tf.constant(bert_input['input_ids'])\n",
    "    attn_masks =  tf.constant(bert_input['attention_mask'])\n",
    "\n",
    "    data = tf.data.Dataset.from_tensor_slices((input_ids, attn_masks))\n",
    "\n",
    "    emb_list = []\n",
    "    for input_batch, attn_batch in data.batch(20):\n",
    "        _, _, embs = bert_model(input_batch, attention_mask=attn_batch)\n",
    "        embs = tf.reduce_mean(embs[layer_idx + 1], axis=1)\n",
    "        emb_list.append(embs)\n",
    "\n",
    "    return tf.concat(emb_list, axis=0).numpy()\n",
    "    "
   ]
  },
  {
   "cell_type": "code",
   "execution_count": 22,
   "metadata": {},
   "outputs": [],
   "source": [
    "l1_embeddings = get_embeddings(tokenizer, bert_model, layer_idx, l1_list)"
   ]
  },
  {
   "cell_type": "code",
   "execution_count": 23,
   "metadata": {},
   "outputs": [],
   "source": [
    "l2_embeddings = get_embeddings(tokenizer, bert_model, layer_idx, l2_list)"
   ]
  },
  {
   "cell_type": "markdown",
   "metadata": {},
   "source": [
    "## Alignment expermients"
   ]
  },
  {
   "cell_type": "code",
   "execution_count": 24,
   "metadata": {},
   "outputs": [],
   "source": [
    "def calc_alignment_accuracy(src_embeddings, tgt_embeddings):\n",
    "    distance_matrix = src_embeddings @ tgt_embeddings.transpose()\n",
    "    distance_matrix = distance_matrix / np.linalg.norm(src_embeddings, axis=1, keepdims=True) \n",
    "    distance_matrix = distance_matrix / np.linalg.norm(tgt_embeddings.transpose(), axis=0, keepdims=True)\n",
    "    \n",
    "    retived_idcs = np.argmax(distance_matrix, axis=1)\n",
    "    \n",
    "    src_errors = np.where(np.arange(len(retived_idcs)) != retived_idcs)\n",
    "    tgt_errors = retived_idcs[src_errors]\n",
    "    \n",
    "    return np.mean(np.arange(len(retived_idcs)) == retived_idcs), src_errors[0], tgt_errors\n",
    "\n",
    "def pint_error_examples(src_errors, tgt_errors, src_list, tgt_list, n_exmpl=5):\n",
    "    for s_e, t_e in zip(src_errors[:n_exmpl], tgt_errors[:n_exmpl]):\n",
    "        print(f\"For sentence:\\t{src_list[s_e]}\")\n",
    "        print(f\"retived:\\t{tgt_list[t_e]}\")\n",
    "        print(f\"should be:\\t{tgt_list[s_e]}\\n\")\n",
    "    "
   ]
  },
  {
   "cell_type": "markdown",
   "metadata": {},
   "source": [
    "### DE/FR -> EN retival"
   ]
  },
  {
   "cell_type": "code",
   "execution_count": 25,
   "metadata": {},
   "outputs": [],
   "source": [
    "xx2en_acc, src_e, tgt_e = calc_alignment_accuracy(l1_embeddings, l2_embeddings)"
   ]
  },
  {
   "cell_type": "code",
   "execution_count": 26,
   "metadata": {},
   "outputs": [
    {
     "name": "stdout",
     "output_type": "stream",
     "text": [
      "0.9277456647398844\n"
     ]
    }
   ],
   "source": [
    "print(xx2en_acc)"
   ]
  },
  {
   "cell_type": "markdown",
   "metadata": {},
   "source": [
    "de -> en 92.8%\n",
    "\n",
    "fr -> en 90.7%\n",
    "\n",
    "score is already quite high with BERT alone\n",
    "example of errors:"
   ]
  },
  {
   "cell_type": "code",
   "execution_count": 27,
   "metadata": {},
   "outputs": [
    {
     "name": "stdout",
     "output_type": "stream",
     "text": [
      "For sentence:\tAllein in den letzten zwölf Jahren ist die Weltbevölkerung um eine Milliarde Menschen gewachsen.\n",
      "retived:\tOver the past few decades, an estimated two billion people have risen into the middle class worldwide.\n",
      "should be:\tA billion people joined the human race in just the last 12 years.\n",
      "\n",
      "For sentence:\tUngefähr 1 Million Menschen werden demnächst in China und Indien pro Jahr an den Folgen des Rauchens sterben.\n",
      "retived:\tIn fact, nine million people develop the active disease every year, and one in five will die.\n",
      "should be:\tAbout 1 million people per year will soon die from smoking in China and India.\n",
      "\n",
      "For sentence:\tAber dennoch leben mehr als eine Milliarde Menschen weltweit in extremer Armut.\n",
      "retived:\tYet, despite great natural wealth, a majority of people in these countries lives in poverty.\n",
      "should be:\tBut that still leaves more than one billion people worldwide living in extreme poverty.\n",
      "\n",
      "For sentence:\tBeispielsweise sollte die Rolle des US-Dollar im internationalen Geldsystem neu überdacht werden.\n",
      "retived:\tThat is how the European Coal and Steel Community was gradually transformed into the EU.\n",
      "should be:\tRethinking the role of the US dollar in the international monetary system is a case in point.\n",
      "\n",
      "For sentence:\tEs gab eine Zeit, in der die Vorteile sowohl nationaler wie internationaler Prozesse erkennbar waren.\n",
      "retived:\tThus, areas dedicated to energy production, particularly biofuel, may not reach the level that societies would wish.\n",
      "should be:\tThere was a time when we could see the advantages of both national and international trials.\n",
      "\n"
     ]
    }
   ],
   "source": [
    "pint_error_examples(src_e, tgt_e, l1_list, l2_list)"
   ]
  },
  {
   "cell_type": "markdown",
   "metadata": {},
   "source": [
    "### EN -> DE retival"
   ]
  },
  {
   "cell_type": "code",
   "execution_count": 28,
   "metadata": {},
   "outputs": [],
   "source": [
    "en2xx_acc, src_e, tgt_e = calc_alignment_accuracy(l2_embeddings, l1_embeddings)"
   ]
  },
  {
   "cell_type": "code",
   "execution_count": 29,
   "metadata": {},
   "outputs": [
    {
     "name": "stdout",
     "output_type": "stream",
     "text": [
      "0.896917148362235\n"
     ]
    }
   ],
   "source": [
    "print(en2xx_acc)"
   ]
  },
  {
   "cell_type": "markdown",
   "metadata": {},
   "source": [
    "en -> de 89.7%\n",
    "\n",
    "en -> fr 90.3%\n",
    "\n",
    "\n",
    "score for this direction is lower but still close to 90%"
   ]
  },
  {
   "cell_type": "code",
   "execution_count": 30,
   "metadata": {},
   "outputs": [
    {
     "name": "stdout",
     "output_type": "stream",
     "text": [
      "For sentence:\tA billion people joined the human race in just the last 12 years.\n",
      "retived:\tIn den nächsten 25 Jahren werden weitere zwei Milliarden Menschen die Entwicklungsländer bevölkern.\n",
      "should be:\tAllein in den letzten zwölf Jahren ist die Weltbevölkerung um eine Milliarde Menschen gewachsen.\n",
      "\n",
      "For sentence:\tAbout 1 million people per year will soon die from smoking in China and India.\n",
      "retived:\tIm Lauf dieser 12 Jahre sind etwa acht Millionen Kinder auf aller Welt an Vitamin-A-Unterversorgung gestorben.\n",
      "should be:\tUngefähr 1 Million Menschen werden demnächst in China und Indien pro Jahr an den Folgen des Rauchens sterben.\n",
      "\n",
      "For sentence:\tAnd we could believe that every single country will fulfill every single promise.\n",
      "retived:\tEs ist eine trostlose Wahl: Für wenige hundert Millionen Dollar könnten wir fast der Hälfte der Menschheit jetzt helfen.\n",
      "should be:\tUnd wir könnten überdies davon ausgehen, dass jedes einzelne Land jedes einzelne seiner Versprechen einlöst.\n",
      "\n",
      "For sentence:\tBut this does not mean that the European Parliament is a “real” parliament.\n",
      "retived:\tSie sollte international sein, den Segen der UN haben, aber es sollte keine UN-Streitkraft sein.\n",
      "should be:\tDas heißt allerdings nicht, dass es sich beim Europäischen Parlament um ein „echtes“ Parlament handelt.\n",
      "\n",
      "For sentence:\tRethinking the role of the US dollar in the international monetary system is a case in point.\n",
      "retived:\tViertens: Das Streben der EU nach einer gemeinsamen Außen- und Sicherheitspolitik muss thematisiert werden.\n",
      "should be:\tBeispielsweise sollte die Rolle des US-Dollar im internationalen Geldsystem neu überdacht werden.\n",
      "\n"
     ]
    }
   ],
   "source": [
    "pint_error_examples(src_e, tgt_e, l2_list, l1_list)"
   ]
  },
  {
   "cell_type": "markdown",
   "metadata": {},
   "source": [
    "# With probe Language Specific matrices (Non orthogonal; depth probe)"
   ]
  },
  {
   "cell_type": "code",
   "execution_count": 10,
   "metadata": {},
   "outputs": [
    {
     "data": {
      "text/plain": [
       "'experiments/train_en_de_fr/task_depth-layer_6-trainl_en_de_fr/params/ckpt-18'"
      ]
     },
     "execution_count": 10,
     "metadata": {},
     "output_type": "execute_result"
    }
   ],
   "source": [
    "languages = ['en', 'fr', 'de']\n",
    "out_dir = f'experiments/train_en_de_fr/task_depth-layer_{layer_idx}-trainl_en_de_fr/'\n",
    "model_dim = 768\n",
    "probe_rank = 768\n",
    "\n",
    "\n",
    "\n",
    "\n",
    "DistanceProbe = tf.Variable(tf.random_uniform_initializer(minval=-0.05, maxval=0.05, seed=42)\n",
    "                             ((probe_rank, model_dim)),\n",
    "                             trainable=True, name='distance_probe', dtype=tf.float32)\n",
    "\n",
    "DepthProbe = tf.Variable(tf.random_uniform_initializer(minval=-0.05, maxval=0.05, seed=42)\n",
    "                             ((probe_rank, model_dim)),\n",
    "                             trainable=True, name='depth_probe', dtype=tf.float32)\n",
    "\n",
    "optimizer=tf.optimizers.Adam()\n",
    "\n",
    "LanguageMaps = {lang: tf.Variable(tf.initializers.Identity(gain=1.0)((model_dim, model_dim)),\n",
    "                                               trainable=False, name='{}_map'.format(lang))\n",
    "                             for lang in languages}\n",
    "                \n",
    "ckpt = tf.train.Checkpoint(optimizer=optimizer, depth_probe=DepthProbe, distance_probe=DistanceProbe, **LanguageMaps)\n",
    "\n",
    "checkpoint_manger = tf.train.CheckpointManager(ckpt, os.path.join(out_dir, 'params'), max_to_keep=1)\n",
    "\n",
    "checkpoint_manger.restore_or_initialize()"
   ]
  },
  {
   "cell_type": "code",
   "execution_count": 11,
   "metadata": {},
   "outputs": [],
   "source": [
    "l1_projections =  l1_embeddings @ ckpt.fr.numpy()\n",
    "l2_projections = l2_embeddings @ ckpt.en.numpy()"
   ]
  },
  {
   "cell_type": "markdown",
   "metadata": {},
   "source": [
    "### DE2EN"
   ]
  },
  {
   "cell_type": "code",
   "execution_count": 12,
   "metadata": {},
   "outputs": [
    {
     "name": "stdout",
     "output_type": "stream",
     "text": [
      "0.18514531754574812\n"
     ]
    }
   ],
   "source": [
    "de2en_proj_acc , src_e, tgt_e = calc_alignment_accuracy(l1_projections, l2_projections)\n",
    "print(de2en_proj_acc)"
   ]
  },
  {
   "cell_type": "markdown",
   "metadata": {},
   "source": [
    "de -> en 11.9%\n",
    "\n",
    "fr -> en  18.5%\n",
    "\n",
    "Unexpectedly, the results after projection are poor, maybe this is because proj. matrix is not orthogonal.\n"
   ]
  },
  {
   "cell_type": "markdown",
   "metadata": {},
   "source": [
    "### EN2DE"
   ]
  },
  {
   "cell_type": "code",
   "execution_count": 13,
   "metadata": {},
   "outputs": [
    {
     "name": "stdout",
     "output_type": "stream",
     "text": [
      "0.1442411194833154\n"
     ]
    }
   ],
   "source": [
    "en2de_proj_acc , src_e, tgt_e = calc_alignment_accuracy(l2_projections, l1_projections)\n",
    "print(en2de_proj_acc)"
   ]
  },
  {
   "cell_type": "markdown",
   "metadata": {},
   "source": [
    "de -> en 11.9%\n",
    "\n",
    "fr -> en  14.4%"
   ]
  },
  {
   "cell_type": "markdown",
   "metadata": {},
   "source": [
    "# Distance probe (Non Orthogonal LSM)"
   ]
  },
  {
   "cell_type": "code",
   "execution_count": 14,
   "metadata": {},
   "outputs": [
    {
     "name": "stdout",
     "output_type": "stream",
     "text": [
      "WARNING:tensorflow:Unresolved object in checkpoint: (root).optimizer.iter\n",
      "WARNING:tensorflow:Unresolved object in checkpoint: (root).optimizer.beta_1\n",
      "WARNING:tensorflow:Unresolved object in checkpoint: (root).optimizer.beta_2\n",
      "WARNING:tensorflow:Unresolved object in checkpoint: (root).optimizer.decay\n",
      "WARNING:tensorflow:Unresolved object in checkpoint: (root).optimizer.learning_rate\n",
      "WARNING:tensorflow:A checkpoint was restored (e.g. tf.train.Checkpoint.restore or tf.keras.Model.load_weights) but not all checkpointed values were used. See above for specific issues. Use expect_partial() on the load status object, e.g. tf.train.Checkpoint.restore(...).expect_partial(), to silence these warnings, or use assert_consumed() to make the check explicit. See https://www.tensorflow.org/guide/checkpoint#loading_mechanics for details.\n"
     ]
    },
    {
     "data": {
      "text/plain": [
       "'experiments/train_en_de_fr/task_distance-layer_6-trainl_en_de_fr/params/ckpt-25'"
      ]
     },
     "execution_count": 14,
     "metadata": {},
     "output_type": "execute_result"
    }
   ],
   "source": [
    "languages = ['en', 'fr', 'de']\n",
    "out_dir = f'experiments/train_en_de_fr/task_distance-layer_{layer_idx}-trainl_en_de_fr/'\n",
    "model_dim = 768\n",
    "probe_rank = 768\n",
    "\n",
    "\n",
    "\n",
    "\n",
    "DistanceProbe = tf.Variable(tf.random_uniform_initializer(minval=-0.05, maxval=0.05, seed=42)\n",
    "                             ((probe_rank, model_dim)),\n",
    "                             trainable=True, name='distance_probe', dtype=tf.float32)\n",
    "\n",
    "DepthProbe = tf.Variable(tf.random_uniform_initializer(minval=-0.05, maxval=0.05, seed=42)\n",
    "                             ((probe_rank, model_dim)),\n",
    "                             trainable=True, name='depth_probe', dtype=tf.float32)\n",
    "\n",
    "optimizer=tf.optimizers.Adam()\n",
    "\n",
    "LanguageMaps = {lang: tf.Variable(tf.initializers.Identity(gain=1.0)((model_dim, model_dim)),\n",
    "                                               trainable=False, name='{}_map'.format(lang))\n",
    "                             for lang in languages}\n",
    "                \n",
    "ckpt = tf.train.Checkpoint(optimizer=optimizer, depth_probe=DepthProbe, distance_probe=DistanceProbe, **LanguageMaps)\n",
    "\n",
    "checkpoint_manger = tf.train.CheckpointManager(ckpt, os.path.join(out_dir, 'params'), max_to_keep=1)\n",
    "\n",
    "checkpoint_manger.restore_or_initialize()"
   ]
  },
  {
   "cell_type": "code",
   "execution_count": 16,
   "metadata": {},
   "outputs": [],
   "source": [
    "l1_projections =  l1_embeddings @ ckpt.fr.numpy()\n",
    "l2_projections = l2_embeddings @ ckpt.en.numpy()"
   ]
  },
  {
   "cell_type": "code",
   "execution_count": 17,
   "metadata": {},
   "outputs": [
    {
     "name": "stdout",
     "output_type": "stream",
     "text": [
      "0.031216361679224973\n"
     ]
    }
   ],
   "source": [
    "de2en_proj_acc , src_e, tgt_e = calc_alignment_accuracy(l1_projections, l2_projections)\n",
    "print(de2en_proj_acc)"
   ]
  },
  {
   "cell_type": "code",
   "execution_count": 18,
   "metadata": {},
   "outputs": [
    {
     "name": "stdout",
     "output_type": "stream",
     "text": [
      "0.03336921420882669\n"
     ]
    }
   ],
   "source": [
    "en2de_proj_acc , src_e, tgt_e = calc_alignment_accuracy(l2_projections, l1_projections)\n",
    "print(en2de_proj_acc)"
   ]
  },
  {
   "cell_type": "markdown",
   "metadata": {},
   "source": [
    "## Takeaways\n",
    "\n",
    "Non orthogonal language specific matrix hinder the mBERT performance in parallel sentence retrival. \n",
    "\n",
    "It might be because, when not restricted to be orthogonal language specific matrices take over part of probe matrices."
   ]
  },
  {
   "cell_type": "markdown",
   "metadata": {},
   "source": [
    "## Orthogonal matrix (depth probe)"
   ]
  },
  {
   "cell_type": "code",
   "execution_count": 189,
   "metadata": {},
   "outputs": [
    {
     "name": "stdout",
     "output_type": "stream",
     "text": [
      "WARNING:tensorflow:Unresolved object in checkpoint: (root).optimizer.iter\n",
      "WARNING:tensorflow:Unresolved object in checkpoint: (root).optimizer.beta_1\n",
      "WARNING:tensorflow:Unresolved object in checkpoint: (root).optimizer.beta_2\n",
      "WARNING:tensorflow:Unresolved object in checkpoint: (root).optimizer.decay\n",
      "WARNING:tensorflow:Unresolved object in checkpoint: (root).optimizer.learning_rate\n",
      "WARNING:tensorflow:A checkpoint was restored (e.g. tf.train.Checkpoint.restore or tf.keras.Model.load_weights) but not all checkpointed values were used. See above for specific issues. Use expect_partial() on the load status object, e.g. tf.train.Checkpoint.restore(...).expect_partial(), to silence these warnings, or use assert_consumed() to make the check explicit. See https://www.tensorflow.org/guide/checkpoint#loading_mechanics for details.\n"
     ]
    },
    {
     "data": {
      "text/plain": [
       "'experiments/train_9_langs/task_depth-layer_6-trainl_en_de_es_fi_pl_ar_id_zh_ko/params/ckpt-10'"
      ]
     },
     "execution_count": 189,
     "metadata": {},
     "output_type": "execute_result"
    }
   ],
   "source": [
    "#languages = ['en', 'fr', 'de']\n",
    "languages = [\"en\", \"de\", \"es\", \"fi\", \"pl\", \"ar\", \"id\", \"zh\", \"ko\"]\n",
    "#out_dir = f'experiments/train_en_de_fr_ortho/task_depth-layer_{layer_idx}-trainl_en_de_fr/'\n",
    "out_dir = f'experiments/train_9_langs/task_depth-layer_{layer_idx}-trainl_en_de_es_fi_pl_ar_id_zh_ko/'\n",
    "\n",
    "model_dim = 768\n",
    "probe_rank = 768\n",
    "\n",
    "# DistanceProbe = tf.Variable(tf.random_uniform_initializer(minval=-0.05, maxval=0.05, seed=42)\n",
    "#                              ((1, probe_rank)),\n",
    "#                              trainable=True, name='distance_probe', dtype=tf.float32)\n",
    "\n",
    "# DepthProbe = tf.Variable(tf.random_uniform_initializer(minval=-0.05, maxval=0.05, seed=42)\n",
    "#                              ((1, probe_rank)),\n",
    "#                              trainable=True, name='depth_probe', dtype=tf.float32)\n",
    "\n",
    "DistanceProbe = tf.Variable(tf.random_uniform_initializer(minval=-0.5, maxval=0.5, seed=42)\n",
    "                                ((1, probe_rank,)),\n",
    "                                trainable=True, name='distance_probe', dtype=tf.float32)\n",
    "\n",
    "DepthProbe = tf.Variable(tf.random_uniform_initializer(minval=-0.5, maxval=0.5, seed=42)\n",
    "                                ((1, probe_rank,)),\n",
    "                                trainable=True, name='depth_probe', dtype=tf.float32)\n",
    "\n",
    "optimizer=tf.optimizers.Adam()\n",
    "\n",
    "LanguageMaps = {lang: tf.Variable(tf.initializers.Identity(gain=1.0)((model_dim, model_dim)),\n",
    "                                               trainable=False, name='{}_map'.format(lang))\n",
    "                             for lang in languages}\n",
    "\n",
    "\n",
    "\n",
    "                \n",
    "ckpt = tf.train.Checkpoint(optimizer=optimizer, depth_probe=DepthProbe, distance_probe=DistanceProbe, **LanguageMaps)\n",
    "\n",
    "checkpoint_manger = tf.train.CheckpointManager(ckpt, os.path.join(out_dir, 'params'), max_to_keep=1)\n",
    "\n",
    "checkpoint_manger.restore_or_initialize()"
   ]
  },
  {
   "cell_type": "code",
   "execution_count": 190,
   "metadata": {},
   "outputs": [],
   "source": [
    "l1_projections =  l1_embeddings @ ckpt.de.numpy()\n",
    "l2_projections = l2_embeddings @ ckpt.en.numpy()"
   ]
  },
  {
   "cell_type": "code",
   "execution_count": 191,
   "metadata": {},
   "outputs": [],
   "source": [
    "l1_projections =  l1_embeddings @ ckpt.de.numpy() * (np.abs(ckpt.depth_probe.numpy()) > 0.1)\n",
    "l2_projections = l2_embeddings @ ckpt.en.numpy() * (np.abs(ckpt.depth_probe.numpy()) > 0.1)"
   ]
  },
  {
   "cell_type": "code",
   "execution_count": 192,
   "metadata": {},
   "outputs": [],
   "source": [
    "l1_projections =  l1_embeddings @ ckpt.de.numpy()\n",
    "l2_projections = l2_embeddings @ ckpt.en.numpy() "
   ]
  },
  {
   "cell_type": "code",
   "execution_count": 193,
   "metadata": {},
   "outputs": [],
   "source": [
    "fr_map_depth = ckpt.de.numpy()\n",
    "en_map_depth = ckpt.en.numpy()"
   ]
  },
  {
   "cell_type": "code",
   "execution_count": 194,
   "metadata": {},
   "outputs": [
    {
     "name": "stdout",
     "output_type": "stream",
     "text": [
      "0.6522157996146436\n"
     ]
    }
   ],
   "source": [
    "xx2en_proj_acc , src_e, tgt_e = calc_alignment_accuracy(l1_projections, l2_projections)\n",
    "print(xx2en_proj_acc)"
   ]
  },
  {
   "cell_type": "code",
   "execution_count": 195,
   "metadata": {},
   "outputs": [
    {
     "name": "stdout",
     "output_type": "stream",
     "text": [
      "0.6252408477842004\n"
     ]
    }
   ],
   "source": [
    "en2xx_proj_acc , src_e, tgt_e = calc_alignment_accuracy(l2_projections, l1_projections)\n",
    "print(en2xx_proj_acc)"
   ]
  },
  {
   "cell_type": "code",
   "execution_count": 196,
   "metadata": {},
   "outputs": [
    {
     "data": {
      "text/plain": [
       "<tf.Variable 'depth_probe:0' shape=(1, 768) dtype=float32, numpy=\n",
       "array([[ 3.11483654e-36,  3.09047834e-37, -1.10658006e-36,\n",
       "        -2.21824959e-01, -1.16013035e-01, -1.73331248e-35,\n",
       "         1.22181119e-37,  1.06541283e-36,  1.13294668e-35,\n",
       "        -6.11891188e-02,  6.97853118e-02, -3.94511444e-36,\n",
       "         9.53063039e-37,  3.90049172e-36,  1.07417397e-37,\n",
       "         2.24663918e-36,  4.62312228e-36, -2.19757822e-36,\n",
       "        -1.68766791e-36,  5.99811454e-36, -1.58672601e-01,\n",
       "         1.26103463e-36, -4.10584306e-36,  7.22806698e-37,\n",
       "         1.41507881e-36,  1.97599768e-35, -1.74356039e-36,\n",
       "         7.04701922e-37,  4.23481956e-36, -1.03666383e-36,\n",
       "         2.56646993e-36, -1.86002215e-36,  1.21283278e-01,\n",
       "        -1.58638335e-34, -4.48600005e-36,  5.34299168e-36,\n",
       "        -2.16694104e-38,  1.16753563e-01, -1.00229469e-35,\n",
       "        -1.72438473e-01, -1.81791019e-36, -1.90682005e-36,\n",
       "         3.16233163e-36, -6.08115858e-36,  1.30883202e-01,\n",
       "        -4.55305216e-36,  5.70659116e-02, -1.58848971e-01,\n",
       "         3.73008235e-36, -2.07118198e-01, -2.69250088e-36,\n",
       "         2.11649968e-36, -6.92345947e-02,  8.21916480e-37,\n",
       "        -1.48797582e-35, -6.46486450e-36,  1.11506710e-35,\n",
       "        -4.32712930e-36,  5.79876371e-36, -5.48193197e-36,\n",
       "        -1.69037580e-36, -8.90443787e-38, -6.66324352e-36,\n",
       "         2.24248886e-01, -1.33667856e-35, -1.50180309e-36,\n",
       "        -7.22003855e-36, -6.57094096e-37,  3.58712210e-36,\n",
       "         9.45398722e-37, -5.59478273e-36,  1.39445737e-01,\n",
       "        -6.81805091e-36,  3.81645363e-36,  1.98682473e-36,\n",
       "        -3.29170130e-36,  6.35139314e-37,  2.48629718e-36,\n",
       "         6.06967583e-02, -2.43157614e-36, -5.38485252e-36,\n",
       "        -5.23616942e-37,  2.65027879e-36, -1.11630960e-36,\n",
       "        -5.93861231e-37, -2.53495852e-36,  1.25736498e-36,\n",
       "         1.00297965e-35,  3.96885213e-37,  2.57155263e-36,\n",
       "        -2.18667383e-36, -1.93023428e-01,  1.74742430e-36,\n",
       "         2.41437672e-37, -2.35157702e-36,  1.95582935e-36,\n",
       "         1.94991905e-36,  3.21759651e-36, -6.23319655e-36,\n",
       "        -4.44711166e-36, -1.43478066e-01, -1.44153282e-01,\n",
       "        -4.47415721e-36,  1.64931027e-36,  3.56054900e-36,\n",
       "         1.25437817e-36,  3.29439825e-36,  3.26453665e-36,\n",
       "        -1.12223759e-01,  9.72760318e-38,  5.45251734e-37,\n",
       "        -1.70414987e-36, -9.63370946e-38,  1.36879236e-01,\n",
       "         6.92485128e-36, -1.64746419e-01,  3.84096510e-36,\n",
       "        -1.87056314e-36,  2.27601201e-36,  2.78158059e-36,\n",
       "        -8.08209261e-36, -4.54219548e-36, -3.90102264e-36,\n",
       "        -8.97142935e-37,  6.33762140e-36, -4.25597172e-35,\n",
       "        -1.76861032e-36, -7.81123852e-37,  2.32212778e-36,\n",
       "         1.16173141e-01,  1.60727337e-01,  2.12973870e-37,\n",
       "        -1.48044825e-01, -4.73193443e-36,  1.10644330e-36,\n",
       "        -2.46731127e-37,  1.13971696e-35, -1.51195407e-01,\n",
       "         5.70758469e-02,  6.43248962e-36,  4.73710986e-36,\n",
       "         1.20396013e-36,  4.11224142e-36, -1.35900527e-01,\n",
       "        -2.44067360e-37,  7.41115593e-37,  5.97882299e-36,\n",
       "        -7.16380079e-36, -1.63382264e-35, -2.05996704e-37,\n",
       "        -1.69081022e-36,  3.59174365e-37, -1.59514418e-36,\n",
       "        -5.08217815e-36,  7.16134634e-37, -5.24938243e-37,\n",
       "        -1.87592135e-36, -1.92162916e-01, -0.00000000e+00,\n",
       "         9.93392633e-37, -1.75483033e-36,  5.53233172e-37,\n",
       "        -2.29306147e-02, -3.14154166e-36,  4.57652509e-36,\n",
       "         1.32602647e-01,  1.95147111e-36, -4.97246881e-37,\n",
       "        -4.76738652e-36, -1.66998850e-36, -4.33286579e-36,\n",
       "         1.69538460e-36, -9.02216021e-35,  3.37435863e-36,\n",
       "         1.33195836e-35,  4.32976347e-36, -4.14398983e-02,\n",
       "        -2.72927776e-36,  1.75093576e-01, -1.91206664e-01,\n",
       "        -2.55778574e-36, -5.02755038e-37,  1.24251525e-36,\n",
       "        -4.92576616e-36, -2.26745445e-36, -1.42086744e-01,\n",
       "         1.89798504e-01, -2.73953500e-36,  1.20654641e-36,\n",
       "         3.11215394e-36,  4.01790878e-37, -8.84928366e-37,\n",
       "         1.85190619e-36,  1.29161782e-36, -2.25712960e-36,\n",
       "         2.07693718e-38, -8.26014011e-37,  1.30246439e-35,\n",
       "         1.44967353e-36, -7.89483214e-36, -2.56824350e-36,\n",
       "         7.90170904e-38,  1.52157086e-36,  1.13054343e-01,\n",
       "        -9.27985851e-37,  1.49499542e-36,  6.83839768e-02,\n",
       "        -2.75835110e-37, -2.13921497e-36, -1.72679718e-36,\n",
       "         1.99672401e-01, -2.01039560e-36,  1.23210765e-01,\n",
       "         1.85346797e-01,  2.66946595e-36,  3.08723674e-36,\n",
       "         1.70369953e-01, -7.08273217e-26,  2.33254785e-35,\n",
       "        -6.55488893e-02,  2.07191497e-01,  1.07771404e-01,\n",
       "        -8.71545763e-38,  5.74277312e-37, -7.74465061e-37,\n",
       "         1.15121922e-35, -2.86013097e-36,  6.12426788e-38,\n",
       "         2.92536449e-36, -8.85739872e-36,  1.83656469e-01,\n",
       "        -1.97133511e-01, -3.40742587e-36,  6.58231780e-36,\n",
       "        -3.68101672e-36, -1.61055899e-35, -1.58698753e-01,\n",
       "        -4.69053671e-36, -1.08969004e-36, -6.80063014e-37,\n",
       "         1.74447035e-35,  9.78540789e-36,  1.53106660e-01,\n",
       "         9.13974839e-37, -1.27446030e-35, -1.51711285e-01,\n",
       "        -7.34871228e-36, -1.51000457e-35, -3.29152122e-36,\n",
       "        -1.66301833e-36, -4.36633732e-36, -2.64859580e-37,\n",
       "         9.00122925e-37,  7.93612045e-38, -1.00261346e-01,\n",
       "         1.34031087e-01, -6.42196477e-38,  7.74055030e-37,\n",
       "        -4.35542306e-37,  1.33816888e-35,  4.10191853e-36,\n",
       "        -6.85667545e-02,  2.66747714e-36, -4.80275969e-37,\n",
       "        -1.34183779e-01,  1.38579584e-36, -6.70222697e-36,\n",
       "         1.98037106e-35,  1.95536425e-37,  8.68313656e-36,\n",
       "         4.01617288e-36, -1.81085952e-02, -9.46138427e-02,\n",
       "         1.16815664e-01,  6.24473430e-02, -2.14586587e-36,\n",
       "         4.83282774e-37, -1.58015281e-01,  3.22650886e-36,\n",
       "         1.06378533e-01, -3.18843408e-36, -1.13427689e-37,\n",
       "         7.73135922e-36,  5.70198165e-37, -1.10285297e-01,\n",
       "        -2.39876110e-36, -8.38421776e-36,  2.60101712e-36,\n",
       "         1.35612500e-36, -1.28672427e-36,  2.27999642e-35,\n",
       "         2.09940303e-36, -3.20778675e-02, -9.16988998e-37,\n",
       "        -3.19655435e-36, -6.67158262e-36, -2.80941787e-36,\n",
       "         2.68784919e-37, -2.07956315e-36, -1.74801710e-36,\n",
       "         4.97640195e-36,  2.02261115e-36,  2.32150000e-36,\n",
       "        -7.86344306e-36, -6.19544498e-36,  5.87708970e-36,\n",
       "        -1.72020301e-01,  4.22691525e-36, -1.26529217e-01,\n",
       "         1.39138346e-36,  9.01774350e-37, -2.15833648e-36,\n",
       "        -1.58080673e-36,  1.88612101e-36,  1.36100564e-37,\n",
       "        -1.09748727e-36, -1.33794725e-01,  8.48794452e-36,\n",
       "         1.81266457e-01,  1.63222097e-36, -4.08777802e-36,\n",
       "         1.83258163e-36, -1.27767280e-01, -2.06398236e-05,\n",
       "         2.03622613e-37,  2.25187542e-36,  1.37862173e-36,\n",
       "         2.03147933e-01,  2.47451868e-02,  1.71419491e-36,\n",
       "        -3.85002740e-37,  5.65200844e-37, -1.92217022e-01,\n",
       "         4.63282348e-36,  1.63155086e-36, -1.31483242e-01,\n",
       "        -1.13817692e-01,  1.89123061e-36,  3.49343777e-35,\n",
       "         2.19657485e-36, -3.72763239e-02,  1.49460548e-36,\n",
       "         2.50959865e-35,  2.02821384e-36, -1.63278885e-36,\n",
       "        -1.33623804e-36,  1.14539383e-36,  1.61065370e-01,\n",
       "         2.35346826e-36,  3.14731710e-02, -3.12154878e-36,\n",
       "        -3.32143197e-36, -2.55053647e-36,  3.64588713e-36,\n",
       "         1.39093128e-36, -2.30398184e-36,  1.05929777e-01,\n",
       "        -2.36179731e-37, -3.67410144e-38, -1.24967734e-36,\n",
       "         7.92202148e-35, -1.22172795e-01, -1.85786348e-36,\n",
       "         9.89165604e-02, -2.01723160e-36, -7.81690829e-37,\n",
       "        -5.30523473e-36, -5.14689915e-35,  1.76598726e-36,\n",
       "         2.86537438e-36, -1.22390830e-35,  3.10808986e-37,\n",
       "         1.79499221e-36,  1.87601236e-35, -1.21453434e-35,\n",
       "        -2.92158775e-36, -2.49241716e-36, -3.33985252e-38,\n",
       "        -3.33018109e-36,  9.40216294e-37,  1.11009537e-36,\n",
       "         1.54580549e-35, -5.30690786e-37,  3.73343219e-36,\n",
       "        -2.88392013e-36, -3.37647608e-35, -5.61227265e-35,\n",
       "        -1.61810270e-36,  2.64660573e-37, -2.82315732e-36,\n",
       "        -1.02492360e-36,  1.07304109e-36, -2.51145329e-37,\n",
       "        -9.05447975e-02, -2.63884007e-37,  1.10280889e-37,\n",
       "        -1.75509633e-36, -6.92676404e-38, -7.30420602e-03,\n",
       "         1.11256236e-35, -3.74215943e-36, -1.87003616e-38,\n",
       "        -4.13073622e-36, -1.38286052e-36, -1.56581119e-01,\n",
       "        -7.15581540e-36, -4.61038674e-37, -1.98873265e-36,\n",
       "         2.32847466e-36,  3.79778520e-36,  1.86280168e-35,\n",
       "         8.49762484e-02,  9.81882840e-05, -1.20305282e-35,\n",
       "        -6.78804964e-02, -2.85970713e-37, -3.62446184e-37,\n",
       "         1.96789354e-01,  2.97413243e-35, -2.38494272e-36,\n",
       "        -3.99076458e-36,  1.80462547e-35,  9.65255421e-36,\n",
       "        -7.78167000e-37,  7.32356155e-37,  2.28490409e-36,\n",
       "        -3.60670064e-36,  1.62029579e-01,  1.95398529e-35,\n",
       "         1.52510926e-01, -3.59753108e-36,  3.72598347e-36,\n",
       "        -1.89249640e-36,  1.07855640e-01, -4.18585905e-36,\n",
       "         9.51804893e-36,  6.66917839e-36,  1.53419178e-36,\n",
       "         2.40094289e-01, -3.69999349e-01, -2.09270083e-36,\n",
       "        -2.71924581e-36, -4.96771447e-02, -1.06117064e-35,\n",
       "         4.53625379e-37, -4.32723979e-36,  1.38566204e-36,\n",
       "        -6.70533627e-02,  3.30643946e-36, -4.60862920e-35,\n",
       "         3.53870722e-36, -3.30580881e-36,  1.53242037e-01,\n",
       "        -2.04232588e-01, -1.83162310e-36, -3.80962408e-36,\n",
       "         1.96186176e-35,  7.72355446e-37, -3.34000677e-36,\n",
       "         6.44442752e-36, -2.02000737e-01,  8.42038875e-36,\n",
       "         1.02170743e-01, -4.36165514e-36,  3.93579458e-36,\n",
       "         1.42178800e-36,  1.74511835e-01,  5.41071964e-37,\n",
       "         4.29651730e-38, -1.80634251e-36, -2.96979044e-36,\n",
       "        -9.65541618e-36,  5.11794198e-36,  1.26458526e-01,\n",
       "         3.23013206e-36,  2.28819367e-36, -1.68379754e-36,\n",
       "        -4.19917232e-36,  1.10961838e-35, -4.40553798e-37,\n",
       "         1.46340437e-36,  2.55034921e-36,  1.52282839e-36,\n",
       "         2.20793282e-35,  1.33690149e-01,  2.55777731e-36,\n",
       "        -4.38834555e-36,  5.22147287e-36, -4.99575055e-36,\n",
       "        -4.43428052e-37, -5.45518459e-35, -4.80579671e-36,\n",
       "         1.68336631e-35,  1.15697421e-01,  3.20582435e-36,\n",
       "         1.10117074e-35, -1.13717385e-01,  3.90009424e-36,\n",
       "         2.09944308e-01,  1.54801056e-01,  1.55964091e-01,\n",
       "         1.57927135e-36, -8.11453709e-36, -1.17818153e-36,\n",
       "        -4.03566482e-05, -2.02064692e-36,  1.54683132e-35,\n",
       "        -1.07087776e-36,  1.20786367e-36, -6.77549839e-02,\n",
       "        -5.96620403e-02,  7.68689111e-37, -1.78246044e-36,\n",
       "         6.76291138e-02, -2.00763157e-36,  1.28645674e-36,\n",
       "         2.36543844e-37, -2.44870239e-36, -3.53944585e-37,\n",
       "        -2.16858294e-02,  3.06590289e-01, -2.56841067e-36,\n",
       "        -2.03841554e-35,  1.01426537e-35,  5.39506276e-35,\n",
       "        -2.53079740e-36, -1.09181607e-36, -3.12098916e-35,\n",
       "        -1.32934177e-36,  2.11760285e-35,  7.90563537e-37,\n",
       "         1.74603672e-37, -1.29379167e-35, -2.71598888e-36,\n",
       "        -1.20586733e-36, -2.44098928e-36, -2.21417516e-01,\n",
       "        -1.23806105e-36,  3.61120883e-36,  5.94041494e-37,\n",
       "         2.83820794e-36,  2.65357590e-36,  6.84795986e-36,\n",
       "        -2.18853494e-36, -8.02180548e-37, -1.14263791e-35,\n",
       "         4.64059362e-36, -5.22195285e-37,  4.81415482e-36,\n",
       "         9.50715495e-37, -8.56148682e-36,  5.11802628e-36,\n",
       "         4.46509205e-37, -5.20279080e-36, -6.29260913e-02,\n",
       "        -1.08817687e-35,  4.57542486e-36,  1.34879869e-36,\n",
       "         1.60958137e-36,  1.42989591e-01, -1.32352008e-36,\n",
       "        -8.65550637e-02, -1.30008832e-01, -6.14757724e-02,\n",
       "        -1.16491318e-36,  9.07752267e-36,  1.50493458e-01,\n",
       "         2.10523512e-36,  8.51314870e-37, -5.95430416e-37,\n",
       "        -1.03048323e-35, -3.64604592e-01,  1.95561439e-01,\n",
       "         9.88925662e-36, -2.62731651e-36,  4.82132050e-36,\n",
       "        -2.26559564e-01,  2.88416784e-36,  6.44901140e-37,\n",
       "        -2.52707824e-36,  1.21156848e-37, -1.45855933e-01,\n",
       "        -5.12324584e-36, -7.42892731e-34, -9.49076116e-02,\n",
       "        -5.05839670e-36, -5.33885155e-36, -6.68990021e-37,\n",
       "        -1.25386841e-37,  2.51629837e-02, -1.94648677e-35,\n",
       "        -7.21482617e-37,  2.64402321e-36,  1.52956166e-35,\n",
       "        -2.78641272e-36, -1.30664276e-35, -1.22345454e-36,\n",
       "         4.25818237e-36,  1.88603635e-36, -1.19534999e-01,\n",
       "        -4.88153230e-36,  1.39560610e-36, -3.61146317e-36,\n",
       "        -4.89172783e-36, -1.92647904e-01,  1.47642389e-01,\n",
       "         2.35135533e-36,  8.68321656e-37,  4.62933230e-37,\n",
       "        -7.54059968e-36,  3.01913973e-02,  1.42496943e-01,\n",
       "         1.29017651e-01, -1.21967727e-36, -1.14537403e-35,\n",
       "        -8.57740664e-37,  4.56311424e-36,  2.88622194e-36,\n",
       "         7.29034293e-37, -4.61076072e-36,  2.32206734e-36,\n",
       "        -3.51123190e-36,  4.96733033e-36,  2.93715369e-36,\n",
       "         3.05632944e-36,  3.04248703e-36, -4.35596995e-36,\n",
       "        -3.84715126e-37,  1.30902991e-35,  1.16418711e-37,\n",
       "        -7.16407988e-36,  1.06934131e-36, -2.08843066e-36,\n",
       "         5.26747806e-03, -6.68218775e-35,  1.88090558e-36,\n",
       "         3.72071369e-36, -4.92257057e-36,  1.73314527e-01,\n",
       "         4.21360449e-36, -2.42024004e-01, -1.68306376e-36,\n",
       "        -1.97453204e-36, -2.16436534e-36,  9.72726024e-36,\n",
       "        -1.18096674e-35,  2.57796551e-36, -4.74526519e-37,\n",
       "         9.27099064e-37,  4.07049429e-36, -1.26744378e-35,\n",
       "        -2.78096536e-36,  3.82028167e-36,  1.66609064e-01,\n",
       "         2.21415840e-35, -2.19847290e-36, -6.84636135e-37,\n",
       "        -2.85218559e-36, -3.09714852e-36, -1.20428370e-36,\n",
       "         1.22300430e-35, -4.69311528e-36,  2.76795952e-36,\n",
       "         3.57677375e-36, -4.76313948e-37, -5.86592380e-36,\n",
       "         3.02691661e-36, -1.54346481e-01, -1.14695127e-36,\n",
       "        -6.30792194e-36, -5.48377011e-37, -6.30492473e-37,\n",
       "        -3.03039272e-36,  6.08928017e-02,  4.00046901e-37,\n",
       "        -5.12532756e-36, -8.06792770e-37,  2.12353711e-37,\n",
       "         5.71425425e-36, -1.31768741e-35,  4.43788711e-03,\n",
       "        -7.92827390e-36,  7.23665862e-37,  2.48461975e-36,\n",
       "         1.82150326e-36, -5.30265868e-36,  4.81664622e-37,\n",
       "        -5.45708042e-37,  3.19528838e-36,  1.78315505e-01,\n",
       "        -4.49450609e-35, -1.40245065e-01,  1.83028225e-02,\n",
       "         2.68623526e-36, -5.39030023e-36,  1.34018406e-01,\n",
       "        -4.64792181e-37, -2.10923104e-36,  2.42907459e-34,\n",
       "        -3.02488977e-36, -3.31323457e-37, -5.50709346e-36,\n",
       "        -1.90935037e-36,  1.23776456e-36, -1.42347656e-36,\n",
       "         2.36822005e-36,  5.57625850e-37,  1.15308981e-36,\n",
       "         2.08556920e-01,  1.22534825e-35, -5.06884407e-38,\n",
       "        -2.72789539e-37,  3.00067607e-02,  8.85311546e-36,\n",
       "         5.39209927e-36,  1.89612767e-36,  9.77283217e-36,\n",
       "        -3.04607794e-36, -4.04456912e-09, -1.34494424e-01,\n",
       "         1.74813375e-01, -2.21714654e-36,  1.41214754e-35,\n",
       "        -1.84547483e-36,  4.27423421e-36, -4.23780888e-36,\n",
       "         1.52295754e-36,  2.01101387e-36,  1.57127544e-01,\n",
       "        -4.49828412e-36,  1.92454889e-01, -5.77133001e-37,\n",
       "         1.75996706e-01,  1.59415185e-01,  6.51078871e-36,\n",
       "        -2.75878966e-01,  5.85852064e-36, -2.32993434e-36,\n",
       "        -1.17275381e-36,  1.03451682e-35, -7.31797967e-37,\n",
       "        -2.31755301e-01, -5.79044578e-36, -1.09473623e-01,\n",
       "         7.11819370e-36, -2.02736170e-35, -6.90551812e-37,\n",
       "        -1.26485549e-37, -6.13421833e-37, -1.58771340e-36,\n",
       "         8.75157840e-37,  3.61672398e-36,  1.85590641e-36,\n",
       "        -1.87243849e-01, -8.77019087e-36,  1.82829155e-36,\n",
       "        -5.51499777e-36, -2.88616023e-36, -1.02974051e-35,\n",
       "        -2.70991303e-36, -1.20247153e-35,  1.55378772e-36,\n",
       "        -2.54972646e-37,  2.61806498e-38,  2.03000575e-01,\n",
       "         1.44831061e-01,  1.12232342e-01, -1.51677299e-36]], dtype=float32)>"
      ]
     },
     "execution_count": 196,
     "metadata": {},
     "output_type": "execute_result"
    }
   ],
   "source": [
    "ckpt.depth_probe"
   ]
  },
  {
   "cell_type": "code",
   "execution_count": 197,
   "metadata": {},
   "outputs": [
    {
     "data": {
      "image/png": "[encoded data removed]",
      "text/plain": [
       "<Figure size 1152x648 with 1 Axes>"
      ]
     },
     "metadata": {
      "needs_background": "light"
     },
     "output_type": "display_data"
    },
    {
     "data": {
      "image/png": "[encoded data removed]",
      "text/plain": [
       "<Figure size 432x288 with 1 Axes>"
      ]
     },
     "metadata": {
      "needs_background": "light"
     },
     "output_type": "display_data"
    }
   ],
   "source": [
    "depth_probe_eigen = ckpt.depth_probe.numpy().ravel()\n",
    "\n",
    "plt.figure(figsize=[16,9])\n",
    "plt.plot(np.sort(depth_probe_eigen))\n",
    "plt.show()\n",
    "plt.hist(depth_probe_eigen)\n",
    "plt.show()"
   ]
  },
  {
   "cell_type": "markdown",
   "metadata": {},
   "source": [
    "## Orthogonal matrix (distance probe)"
   ]
  },
  {
   "cell_type": "code",
   "execution_count": 198,
   "metadata": {},
   "outputs": [
    {
     "name": "stdout",
     "output_type": "stream",
     "text": [
      "WARNING:tensorflow:Unresolved object in checkpoint: (root).optimizer.iter\n",
      "WARNING:tensorflow:Unresolved object in checkpoint: (root).optimizer.beta_1\n",
      "WARNING:tensorflow:Unresolved object in checkpoint: (root).optimizer.beta_2\n",
      "WARNING:tensorflow:Unresolved object in checkpoint: (root).optimizer.decay\n",
      "WARNING:tensorflow:Unresolved object in checkpoint: (root).optimizer.learning_rate\n",
      "WARNING:tensorflow:A checkpoint was restored (e.g. tf.train.Checkpoint.restore or tf.keras.Model.load_weights) but not all checkpointed values were used. See above for specific issues. Use expect_partial() on the load status object, e.g. tf.train.Checkpoint.restore(...).expect_partial(), to silence these warnings, or use assert_consumed() to make the check explicit. See https://www.tensorflow.org/guide/checkpoint#loading_mechanics for details.\n"
     ]
    },
    {
     "data": {
      "text/plain": [
       "'experiments/train_9_langs/task_distance-layer_6-trainl_en_de_es_fi_pl_ar_id_zh_ko/params/ckpt-11'"
      ]
     },
     "execution_count": 198,
     "metadata": {},
     "output_type": "execute_result"
    }
   ],
   "source": [
    "#languages = ['en', 'fr', 'de']\n",
    "languages = [\"en\", \"de\", \"es\", \"fi\", \"pl\", \"ar\", \"id\", \"zh\", \"ko\"]\n",
    "#out_dir = f'experiments/train_en_de_fr_ortho/task_depth-layer_{layer_idx}-trainl_en_de_fr/'\n",
    "out_dir = f'experiments/train_9_langs/task_distance-layer_{layer_idx}-trainl_en_de_es_fi_pl_ar_id_zh_ko/'\n",
    "\n",
    "model_dim = 768\n",
    "probe_rank = 768\n",
    "\n",
    "# DistanceProbe = tf.Variable(tf.random_uniform_initializer(minval=-0.05, maxval=0.05, seed=42)\n",
    "#                              ((1, probe_rank)),\n",
    "#                              trainable=True, name='distance_probe', dtype=tf.float32)\n",
    "\n",
    "# DepthProbe = tf.Variable(tf.random_uniform_initializer(minval=-0.05, maxval=0.05, seed=42)\n",
    "#                              ((1, probe_rank)),\n",
    "#                              trainable=True, name='depth_probe', dtype=tf.float32)\n",
    "\n",
    "DistanceProbe = tf.Variable(tf.random_uniform_initializer(minval=-0.5, maxval=0.5, seed=42)\n",
    "                                ((1, probe_rank,)),\n",
    "                                trainable=True, name='distance_probe', dtype=tf.float32)\n",
    "\n",
    "DepthProbe = tf.Variable(tf.random_uniform_initializer(minval=-0.5, maxval=0.5, seed=42)\n",
    "                                ((1, probe_rank,)),\n",
    "                                trainable=True, name='depth_probe', dtype=tf.float32)\n",
    "\n",
    "optimizer=tf.optimizers.Adam()\n",
    "\n",
    "LanguageMaps = {lang: tf.Variable(tf.initializers.Identity(gain=1.0)((model_dim, model_dim)),\n",
    "                                               trainable=False, name='{}_map'.format(lang))\n",
    "                             for lang in languages}\n",
    "\n",
    "\n",
    "\n",
    "\n",
    "                \n",
    "ckpt = tf.train.Checkpoint(optimizer=optimizer, depth_probe=DepthProbe, distance_probe=DistanceProbe, **LanguageMaps)\n",
    "\n",
    "checkpoint_manger = tf.train.CheckpointManager(ckpt, os.path.join(out_dir, 'params'), max_to_keep=1)\n",
    "\n",
    "checkpoint_manger.restore_or_initialize()"
   ]
  },
  {
   "cell_type": "code",
   "execution_count": 162,
   "metadata": {},
   "outputs": [],
   "source": [
    "l1_projections =  l1_embeddings @ ckpt.de.numpy()\n",
    "l2_projections = l2_embeddings @ ckpt.en.numpy()"
   ]
  },
  {
   "cell_type": "code",
   "execution_count": 200,
   "metadata": {},
   "outputs": [],
   "source": [
    "l1_projections =  l1_embeddings @ ckpt.de.numpy() * (np.abs(ckpt.distance_probe.numpy()) > 0.1)\n",
    "l2_projections = l2_embeddings @ ckpt.en.numpy() * (np.abs(ckpt.distance_probe.numpy()) > 0.1)"
   ]
  },
  {
   "cell_type": "code",
   "execution_count": 201,
   "metadata": {},
   "outputs": [],
   "source": [
    "fr_map_distance = ckpt.de.numpy()\n",
    "en_map_distance = ckpt.en.numpy()"
   ]
  },
  {
   "cell_type": "code",
   "execution_count": 202,
   "metadata": {},
   "outputs": [
    {
     "name": "stdout",
     "output_type": "stream",
     "text": [
      "0.1724470134874759\n"
     ]
    }
   ],
   "source": [
    "xx2en_proj_acc , src_e, tgt_e = calc_alignment_accuracy(l1_projections, l2_projections)\n",
    "print(xx2en_proj_acc)"
   ]
  },
  {
   "cell_type": "code",
   "execution_count": 203,
   "metadata": {},
   "outputs": [
    {
     "name": "stdout",
     "output_type": "stream",
     "text": [
      "0.09633911368015415\n"
     ]
    }
   ],
   "source": [
    "en2xx_proj_acc , src_e, tgt_e = calc_alignment_accuracy(l2_projections, l1_projections)\n",
    "print(en2xx_proj_acc)"
   ]
  },
  {
   "cell_type": "code",
   "execution_count": 199,
   "metadata": {},
   "outputs": [
    {
     "data": {
      "image/png": "[encoded data removed]",
      "text/plain": [
       "<Figure size 1152x648 with 1 Axes>"
      ]
     },
     "metadata": {
      "needs_background": "light"
     },
     "output_type": "display_data"
    },
    {
     "data": {
      "image/png": "[encoded data removed]",
      "text/plain": [
       "<Figure size 432x288 with 1 Axes>"
      ]
     },
     "metadata": {
      "needs_background": "light"
     },
     "output_type": "display_data"
    }
   ],
   "source": [
    "distance_probe_eigen = ckpt.distance_probe.numpy().ravel()\n",
    "\n",
    "plt.figure(figsize=[16,9])\n",
    "plt.plot(np.sort(distance_probe_eigen))\n",
    "plt.show()\n",
    "plt.hist(distance_probe_eigen)\n",
    "plt.show()"
   ]
  },
  {
   "cell_type": "markdown",
   "metadata": {},
   "source": [
    "## mean matrices"
   ]
  },
  {
   "cell_type": "code",
   "execution_count": 69,
   "metadata": {},
   "outputs": [],
   "source": [
    "fr_map = (fr_map_depth + fr_map_distance)/ 2.\n",
    "en_map = (en_map_depth + en_map_distance)/2."
   ]
  },
  {
   "cell_type": "code",
   "execution_count": 70,
   "metadata": {},
   "outputs": [],
   "source": [
    "l1_projections =  l1_embeddings @ fr_map\n",
    "l2_projections = l2_embeddings @ en_map"
   ]
  },
  {
   "cell_type": "code",
   "execution_count": 71,
   "metadata": {},
   "outputs": [
    {
     "name": "stdout",
     "output_type": "stream",
     "text": [
      "0.7879440258342304\n"
     ]
    }
   ],
   "source": [
    "xx2en_proj_acc , src_e, tgt_e = calc_alignment_accuracy(l1_projections, l2_projections)\n",
    "print(xx2en_proj_acc)"
   ]
  },
  {
   "cell_type": "code",
   "execution_count": 72,
   "metadata": {},
   "outputs": [
    {
     "name": "stdout",
     "output_type": "stream",
     "text": [
      "0.790096878363832\n"
     ]
    }
   ],
   "source": [
    "en2xx_proj_acc , src_e, tgt_e = calc_alignment_accuracy(l2_projections, l1_projections)\n",
    "print(en2xx_proj_acc)"
   ]
  }
 ],
 "metadata": {
  "kernelspec": {
   "display_name": "Python 3",
   "language": "python",
   "name": "python3"
  },
  "language_info": {
   "codemirror_mode": {
    "name": "ipython",
    "version": 3
   },
   "file_extension": ".py",
   "mimetype": "text/x-python",
   "name": "python",
   "nbconvert_exporter": "python",
   "pygments_lexer": "ipython3",
   "version": "3.6.9"
  }
 },
 "nbformat": 4,
 "nbformat_minor": 4
}
