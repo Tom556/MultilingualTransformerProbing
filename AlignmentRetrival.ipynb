{
 "cells": [
  {
   "cell_type": "code",
   "execution_count": 1,
   "metadata": {},
   "outputs": [],
   "source": [
    "import os\n",
    "import tensorflow as tf\n",
    "from transformers import BertTokenizer, TFBertModel"
   ]
  },
  {
   "cell_type": "code",
   "execution_count": 2,
   "metadata": {},
   "outputs": [],
   "source": [
    "lang_pair = 'de_en'\n",
    "gold_alignment = list()\n",
    "with open('bucc2017/de-en/de-en.sample.gold', 'r') as in_file:\n",
    "    for line in in_file.readlines(): \n",
    "        src_tag, tgt_tag = line.strip().split('\\t')\n",
    "        gold_alignment.append((src_tag, tgt_tag)) \n",
    "        \n",
    "\n",
    "src2sent = dict()\n",
    "with open('bucc2017/de-en/de-en.sample.de', 'r') as src_in:\n",
    "    for line in src_in.readlines():\n",
    "        src_tag, src_sent = line.strip().split('\\t')\n",
    "        src2sent[src_tag] = src_sent\n",
    "        \n",
    "tgt2sent = dict()\n",
    "with open('bucc2017/de-en/de-en.sample.en', 'r') as tgt_in:\n",
    "    for line in tgt_in.readlines():\n",
    "        tgt_tag, tgt_sent = line.strip().split('\\t')\n",
    "        tgt2sent[tgt_tag] = tgt_sent\n",
    "        \n",
    "    \n",
    "        \n",
    "src_list = []\n",
    "tgt_list = []\n",
    "for src_tag, tgt_tag in gold_alignment:\n",
    "    src_list.append(src2sent[src_tag])\n",
    "    tgt_list.append(tgt2sent[tgt_tag])"
   ]
  },
  {
   "cell_type": "code",
   "execution_count": 3,
   "metadata": {},
   "outputs": [],
   "source": [
    "bert_path = 'bert-base-multilingual-cased'\n",
    "tokenizer = BertTokenizer.from_pretrained(bert_path, do_lower_case=False)\n",
    "\n",
    "bert_model = TFBertModel.from_pretrained(bert_path, output_hidden_states=True)"
   ]
  },
  {
   "cell_type": "code",
   "execution_count": null,
   "metadata": {},
   "outputs": [],
   "source": [
    "src_input = tokenizer.batch_encode_plus(src_list, pad_to_max_length=True)\n",
    "src_input_ids = tf.constant(src_input['input_ids'])\n",
    "src_attn_masks =  tf.constant(src_input['attention_mask'])\n",
    "\n",
    "src_data = tf.data.Dataset.from_tensor_slices((src_input_ids, src_attn_masks))\n",
    "\n",
    "emb_list = []\n",
    "for input_batch, attn_batch in src_data.batch(20):\n",
    "    _, _, src_embs = bert_model(input_batch, attention_mask=attn_batch)\n",
    "    src_embs = tf.reduce_mean(src_embs[7], axis=1)\n",
    "    emb_list.append(src_embs)\n",
    "    \n",
    "src_embeddings = tf.stack(emb_list, axis=0)"
   ]
  }
 ],
 "metadata": {
  "kernelspec": {
   "display_name": "Python 3",
   "language": "python",
   "name": "python3"
  },
  "language_info": {
   "codemirror_mode": {
    "name": "ipython",
    "version": 3
   },
   "file_extension": ".py",
   "mimetype": "text/x-python",
   "name": "python",
   "nbconvert_exporter": "python",
   "pygments_lexer": "ipython3",
   "version": "3.6.9"
  }
 },
 "nbformat": 4,
 "nbformat_minor": 4
}
