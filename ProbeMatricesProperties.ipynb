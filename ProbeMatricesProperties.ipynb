{
 "cells": [
  {
   "cell_type": "code",
   "execution_count": 1,
   "metadata": {},
   "outputs": [],
   "source": [
    "import os\n",
    "import tensorflow as tf\n",
    "import numpy as np\n",
    "\n",
    "import constants\n",
    "from datasets import DependencyDataset\n",
    "from network import DistanceProbe, DepthProbe\n",
    "\n",
    "import matplotlib.pyplot as plt"
   ]
  },
  {
   "cell_type": "code",
   "execution_count": 2,
   "metadata": {},
   "outputs": [],
   "source": [
    "def orthogonality_check(matrix):\n",
    "    assert len(matrix.shape) == 2, \"Only 2D matrices suported\"\n",
    "    fro_norm = np.linalg.norm(matrix @ matrix.transpose() -  np.eye(matrix.shape[0]), ord='fro')\n",
    "    if matrix.shape[0] != matrix.shape[1]:\n",
    "        fro_norm += np.linalg.norm(matrix.transpose() @ matrix - np.eye(matrix.shape[1]), ord='fro')\n",
    "        fro_norm /= 2.\n",
    "    return fro_norm\n",
    "\n",
    "\n",
    "def matrix_cos_distance(matrixA, matrixB):\n",
    "    EPSILON = 1e-4\n",
    "    assert np.linalg.norm(matrixA) > EPSILON\n",
    "    assert np.linalg.norm(matrixB) > EPSILON\n",
    "    return np.linalg.norm(matrixA - matrixB, ord='fro') / (np.linalg.norm(matrixA, ord='fro') * np.linalg.norm(matrixB, ord='fro'))\n",
    "\n",
    "def matrix_max_distance(matrixA, matrixB):\n",
    "    return np.max(np.abs(matrixA - matrixB))\n",
    "\n",
    "def matrix_smpl_distance(matrixA, matrixB):\n",
    "    NUM_SMPL = 100\n",
    "    sample = np.random.randn(NUM_SMPL, matrixA.shape[0])\n",
    "    sample = sample / np.linalg.norm(sample, axis=-1, keepdims=True)\n",
    "    A_smpl = sample @ matrixA\n",
    "    B_smpl = sample @ matrixB\n",
    "    return np.mean(np.linalg.norm(A_smpl - B_smpl, axis=-1))\n",
    "    "
   ]
  },
  {
   "cell_type": "markdown",
   "metadata": {},
   "source": [
    "# DEPTH MATRICES"
   ]
  },
  {
   "cell_type": "code",
   "execution_count": 63,
   "metadata": {},
   "outputs": [
    {
     "name": "stdout",
     "output_type": "stream",
     "text": [
      "WARNING:tensorflow:Unresolved object in checkpoint: (root).optimizer.iter\n",
      "WARNING:tensorflow:Unresolved object in checkpoint: (root).optimizer.beta_1\n",
      "WARNING:tensorflow:Unresolved object in checkpoint: (root).optimizer.beta_2\n",
      "WARNING:tensorflow:Unresolved object in checkpoint: (root).optimizer.decay\n",
      "WARNING:tensorflow:Unresolved object in checkpoint: (root).optimizer.learning_rate\n",
      "WARNING:tensorflow:A checkpoint was restored (e.g. tf.train.Checkpoint.restore or tf.keras.Model.load_weights) but not all checkpointed values were used. See above for specific issues. Use expect_partial() on the load status object, e.g. tf.train.Checkpoint.restore(...).expect_partial(), to silence these warnings, or use assert_consumed() to make the check explicit. See https://www.tensorflow.org/guide/checkpoint#loading_mechanics for details.\n"
     ]
    },
    {
     "data": {
      "text/plain": [
       "'experiments/train_en_de_fr/task_depth-layer_6-trainl_en_de_fr/params/ckpt-12'"
      ]
     },
     "execution_count": 63,
     "metadata": {},
     "output_type": "execute_result"
    }
   ],
   "source": [
    "model_dim = 768\n",
    "probe_rank = 768\n",
    "\n",
    "languages = ['en', 'fr', 'de']\n",
    "out_dir = 'experiments/train_en_de_fr/task_depth-layer_6-trainl_en_de_fr/'\n",
    "\n",
    "\n",
    "DistanceProbe = tf.Variable(tf.random_uniform_initializer(minval=-0.05, maxval=0.05, seed=42)\n",
    "                             ((probe_rank, model_dim)),\n",
    "                             trainable=True, name='distance_probe', dtype=tf.float32)\n",
    "\n",
    "DepthProbe = tf.Variable(tf.random_uniform_initializer(minval=-0.05, maxval=0.05, seed=42)\n",
    "                             ((probe_rank, model_dim)),\n",
    "                             trainable=True, name='depth_probe', dtype=tf.float32)\n",
    "\n",
    "optimizer=tf.optimizers.Adam()\n",
    "\n",
    "LanguageMaps = {lang: tf.Variable(tf.initializers.Identity(gain=1.0)((model_dim, model_dim)),\n",
    "                                               trainable=False, name='{}_map'.format(lang))\n",
    "                             for lang in languages}\n",
    "ckpt = tf.train.Checkpoint(optimizer=optimizer, depth_probe=DepthProbe, distance_probe=DistanceProbe, **LanguageMaps)\n",
    "\n",
    "checkpoint_manger = tf.train.CheckpointManager(ckpt, os.path.join(out_dir, 'params'), max_to_keep=1)\n",
    "\n",
    "checkpoint_manger.restore_or_initialize()"
   ]
  },
  {
   "cell_type": "code",
   "execution_count": 64,
   "metadata": {},
   "outputs": [],
   "source": [
    "en_map_depth = ckpt.en.numpy()\n",
    "fr_map_depth = ckpt.fr.numpy()\n",
    "de_map_depth  = ckpt.de.numpy()\n",
    "depth_probe = ckpt.depth_probe.numpy()"
   ]
  },
  {
   "cell_type": "markdown",
   "metadata": {},
   "source": [
    "## Conduct SVD and compare non orthogonal part of the matrix"
   ]
  },
  {
   "cell_type": "code",
   "execution_count": 65,
   "metadata": {},
   "outputs": [
    {
     "data": {
      "text/plain": [
       "15.058353652093482"
      ]
     },
     "execution_count": 65,
     "metadata": {},
     "output_type": "execute_result"
    }
   ],
   "source": [
    "orthogonality_check(en_map_depth)"
   ]
  },
  {
   "cell_type": "code",
   "execution_count": 66,
   "metadata": {},
   "outputs": [
    {
     "data": {
      "text/plain": [
       "15.259980829491433"
      ]
     },
     "execution_count": 66,
     "metadata": {},
     "output_type": "execute_result"
    }
   ],
   "source": [
    "orthogonality_check(de_map_depth)"
   ]
  },
  {
   "cell_type": "code",
   "execution_count": 67,
   "metadata": {},
   "outputs": [
    {
     "data": {
      "text/plain": [
       "15.843890662679716"
      ]
     },
     "execution_count": 67,
     "metadata": {},
     "output_type": "execute_result"
    }
   ],
   "source": [
    "orthogonality_check(fr_map_depth)"
   ]
  },
  {
   "cell_type": "markdown",
   "metadata": {},
   "source": [
    "depth probe matrix and language map matrices are not orthogonal"
   ]
  },
  {
   "cell_type": "code",
   "execution_count": 68,
   "metadata": {},
   "outputs": [],
   "source": [
    "en_u, en_s, en_v =  np.linalg.svd(en_map_depth)\n",
    "de_u, de_s, de_v =  np.linalg.svd(de_map_depth)\n",
    "fr_u, fr_s, fr_v =  np.linalg.svd(fr_map_depth)\n",
    "depth_u, depth_s, depth_v =  np.linalg.svd(depth_probe)\n",
    "\n",
    "# en_sv = np.diag(en_s) @ en_v\n",
    "# de_sv = np.diag(de_s) @ de_v\n",
    "# fr_sv = np.diag(fr_s) @ fr_v"
   ]
  },
  {
   "cell_type": "code",
   "execution_count": 69,
   "metadata": {},
   "outputs": [
    {
     "data": {
      "text/plain": [
       "26.680162"
      ]
     },
     "execution_count": 69,
     "metadata": {},
     "output_type": "execute_result"
    }
   ],
   "source": [
    "np.linalg.norm(en_s)"
   ]
  },
  {
   "cell_type": "code",
   "execution_count": 70,
   "metadata": {},
   "outputs": [
    {
     "data": {
      "text/plain": [
       "0.908904"
      ]
     },
     "execution_count": 70,
     "metadata": {},
     "output_type": "execute_result"
    }
   ],
   "source": [
    "np.mean(en_s)"
   ]
  },
  {
   "cell_type": "code",
   "execution_count": 71,
   "metadata": {},
   "outputs": [
    {
     "data": {
      "text/plain": [
       "2.699213"
      ]
     },
     "execution_count": 71,
     "metadata": {},
     "output_type": "execute_result"
    }
   ],
   "source": [
    "np.linalg.norm(depth_s)"
   ]
  },
  {
   "cell_type": "markdown",
   "metadata": {},
   "source": [
    "Most of scaling is done in language specific matrix. It hinders multilanguage aspect of the probe.\n",
    "On the other hand depth probe is responsible for downscaling, mean eigenvalue of lang specific matrix is close to one. I think it is mostly due to intialization."
   ]
  },
  {
   "cell_type": "code",
   "execution_count": 72,
   "metadata": {},
   "outputs": [
    {
     "data": {
      "text/plain": [
       "0.7724513"
      ]
     },
     "execution_count": 72,
     "metadata": {},
     "output_type": "execute_result"
    }
   ],
   "source": [
    "np.linalg.norm(en_s - de_s)"
   ]
  },
  {
   "cell_type": "code",
   "execution_count": 73,
   "metadata": {},
   "outputs": [
    {
     "data": {
      "text/plain": [
       "0.39260736"
      ]
     },
     "execution_count": 73,
     "metadata": {},
     "output_type": "execute_result"
    }
   ],
   "source": [
    "np.linalg.norm(en_s - fr_s)"
   ]
  },
  {
   "cell_type": "code",
   "execution_count": 74,
   "metadata": {},
   "outputs": [
    {
     "data": {
      "text/plain": [
       "0.6916721"
      ]
     },
     "execution_count": 74,
     "metadata": {},
     "output_type": "execute_result"
    }
   ],
   "source": [
    "np.linalg.norm(de_s - fr_s)"
   ]
  },
  {
   "cell_type": "code",
   "execution_count": 75,
   "metadata": {},
   "outputs": [
    {
     "data": {
      "image/png": "[encoded data removed]",
      "text/plain": [
       "<Figure size 1152x648 with 1 Axes>"
      ]
     },
     "metadata": {
      "needs_background": "light"
     },
     "output_type": "display_data"
    }
   ],
   "source": [
    "plt.figure(figsize=[16,9])\n",
    "plt.plot(en_s, label='en eigenvalues')\n",
    "plt.plot(de_s, label='de eigenvalues')\n",
    "plt.plot(fr_s, label='fr eigenvalues')\n",
    "plt.plot(depth_s, label='probe eigenvalues')\n",
    "#plt.ylim([0.8, 1.05])\n",
    "plt.legend()\n",
    "plt.show()"
   ]
  },
  {
   "cell_type": "markdown",
   "metadata": {},
   "source": [
    "Takeway: Language specific matrices have similar singular values"
   ]
  },
  {
   "cell_type": "code",
   "execution_count": 107,
   "metadata": {},
   "outputs": [
    {
     "data": {
      "text/plain": [
       "1.0238862"
      ]
     },
     "execution_count": 107,
     "metadata": {},
     "output_type": "execute_result"
    }
   ],
   "source": [
    "np.mean(np.max(en_v @ fr_v.transpose(), axis=-1) / np.max(en_u.transpose() @ fr_u, axis=0))"
   ]
  },
  {
   "cell_type": "code",
   "execution_count": 108,
   "metadata": {},
   "outputs": [
    {
     "data": {
      "text/plain": [
       "1.0285408"
      ]
     },
     "execution_count": 108,
     "metadata": {},
     "output_type": "execute_result"
    }
   ],
   "source": [
    "np.mean(np.max(en_v @ de_v.transpose(), axis=-1) / np.max(en_u.transpose() @ de_u, axis=0))"
   ]
  },
  {
   "cell_type": "code",
   "execution_count": 109,
   "metadata": {},
   "outputs": [
    {
     "data": {
      "text/plain": [
       "1.0191784"
      ]
     },
     "execution_count": 109,
     "metadata": {},
     "output_type": "execute_result"
    }
   ],
   "source": [
    "np.mean(np.max(fr_v @ de_v.transpose(), axis=-1) / np.max(fr_u.transpose() @ de_u, axis=0))"
   ]
  },
  {
   "cell_type": "markdown",
   "metadata": {},
   "source": [
    "?Takeway: right multiplication by U makes vector space less language dependent (where U @ S @ V = SVD(M))"
   ]
  },
  {
   "cell_type": "markdown",
   "metadata": {},
   "source": [
    "# DISTANCE MATRICES"
   ]
  },
  {
   "cell_type": "code",
   "execution_count": 95,
   "metadata": {},
   "outputs": [
    {
     "data": {
      "text/plain": [
       "'experiments/train_en_de_fr/task_distance-layer_6-trainl_en_de_fr/params/ckpt-15'"
      ]
     },
     "execution_count": 95,
     "metadata": {},
     "output_type": "execute_result"
    }
   ],
   "source": [
    "model_dim = 768\n",
    "probe_rank = 768\n",
    "\n",
    "languages = ['en', 'fr', 'de']\n",
    "out_dir = 'experiments/train_en_de_fr/task_distance-layer_6-trainl_en_de_fr/'\n",
    "\n",
    "\n",
    "DistanceProbe = tf.Variable(tf.random_uniform_initializer(minval=-0.05, maxval=0.05, seed=42)\n",
    "                             ((probe_rank, model_dim)),\n",
    "                             trainable=True, name='distance_probe', dtype=tf.float32)\n",
    "\n",
    "DepthProbe = tf.Variable(tf.random_uniform_initializer(minval=-0.05, maxval=0.05, seed=42)\n",
    "                             ((probe_rank, model_dim)),\n",
    "                             trainable=True, name='depth_probe', dtype=tf.float32)\n",
    "\n",
    "optimizer=tf.optimizers.Adam()\n",
    "\n",
    "LanguageMaps = {lang: tf.Variable(tf.initializers.Identity(gain=1.0)((model_dim, model_dim)),\n",
    "                                               trainable=False, name='{}_map'.format(lang))\n",
    "                             for lang in languages}\n",
    "ckpt = tf.train.Checkpoint(optimizer=optimizer, depth_probe=DepthProbe, distance_probe=DistanceProbe, **LanguageMaps)\n",
    "\n",
    "checkpoint_manger = tf.train.CheckpointManager(ckpt, os.path.join(out_dir, 'params'), max_to_keep=1)\n",
    "\n",
    "checkpoint_manger.restore_or_initialize()"
   ]
  },
  {
   "cell_type": "code",
   "execution_count": 110,
   "metadata": {},
   "outputs": [],
   "source": [
    "en_map_dist = ckpt.en.numpy()\n",
    "fr_map_dist = ckpt.fr.numpy()\n",
    "de_map_dist = ckpt.de.numpy()\n",
    "distance_probe = ckpt.distance_probe.numpy()"
   ]
  },
  {
   "cell_type": "code",
   "execution_count": 111,
   "metadata": {},
   "outputs": [],
   "source": [
    "en_u, en_s, en_v =  np.linalg.svd(en_map_dist)\n",
    "de_u, de_s, de_v =  np.linalg.svd(de_map_dist)\n",
    "fr_u, fr_s, fr_v =  np.linalg.svd(fr_map_dist)\n",
    "dist_u, dist_s, dist_v =  np.linalg.svd(distance_probe)"
   ]
  },
  {
   "cell_type": "code",
   "execution_count": 112,
   "metadata": {},
   "outputs": [
    {
     "data": {
      "text/plain": [
       "18.396372620066515"
      ]
     },
     "execution_count": 112,
     "metadata": {},
     "output_type": "execute_result"
    }
   ],
   "source": [
    "orthogonality_check(en_map_dist)"
   ]
  },
  {
   "cell_type": "code",
   "execution_count": 113,
   "metadata": {},
   "outputs": [
    {
     "data": {
      "text/plain": [
       "27.887388"
      ]
     },
     "execution_count": 113,
     "metadata": {},
     "output_type": "execute_result"
    }
   ],
   "source": [
    "np.linalg.norm(en_s)"
   ]
  },
  {
   "cell_type": "code",
   "execution_count": 138,
   "metadata": {},
   "outputs": [
    {
     "data": {
      "text/plain": [
       "2.6431499"
      ]
     },
     "execution_count": 138,
     "metadata": {},
     "output_type": "execute_result"
    }
   ],
   "source": [
    "np.linalg.norm(dist_s)"
   ]
  },
  {
   "cell_type": "code",
   "execution_count": 136,
   "metadata": {},
   "outputs": [
    {
     "data": {
      "text/plain": [
       "2.6431499"
      ]
     },
     "execution_count": 136,
     "metadata": {},
     "output_type": "execute_result"
    }
   ],
   "source": [
    "np.linalg.norm(dist_s)"
   ]
  },
  {
   "cell_type": "code",
   "execution_count": 120,
   "metadata": {},
   "outputs": [
    {
     "data": {
      "text/plain": [
       "0.5069455"
      ]
     },
     "execution_count": 120,
     "metadata": {},
     "output_type": "execute_result"
    }
   ],
   "source": [
    "np.linalg.norm(en_s - de_s)"
   ]
  },
  {
   "cell_type": "code",
   "execution_count": 119,
   "metadata": {},
   "outputs": [
    {
     "data": {
      "text/plain": [
       "0.21521693"
      ]
     },
     "execution_count": 119,
     "metadata": {},
     "output_type": "execute_result"
    }
   ],
   "source": [
    "np.linalg.norm(en_s - fr_s)"
   ]
  },
  {
   "cell_type": "code",
   "execution_count": 118,
   "metadata": {},
   "outputs": [
    {
     "data": {
      "text/plain": [
       "0.5700357"
      ]
     },
     "execution_count": 118,
     "metadata": {},
     "output_type": "execute_result"
    }
   ],
   "source": [
    "np.linalg.norm(de_s - fr_s)"
   ]
  },
  {
   "cell_type": "markdown",
   "metadata": {},
   "source": [
    "Observation: eigenvalues of maps across languages are closer in distance probing than depth probing"
   ]
  },
  {
   "cell_type": "code",
   "execution_count": 121,
   "metadata": {},
   "outputs": [
    {
     "data": {
      "text/plain": [
       "1.0151405"
      ]
     },
     "execution_count": 121,
     "metadata": {},
     "output_type": "execute_result"
    }
   ],
   "source": [
    "np.mean(np.max(en_v @ fr_v.transpose(), axis=-1) / np.max(en_u.transpose() @ fr_u, axis=0))"
   ]
  },
  {
   "cell_type": "code",
   "execution_count": 122,
   "metadata": {},
   "outputs": [
    {
     "data": {
      "text/plain": [
       "1.0247933"
      ]
     },
     "execution_count": 122,
     "metadata": {},
     "output_type": "execute_result"
    }
   ],
   "source": [
    "np.mean(np.max(en_v @ de_v.transpose(), axis=-1) / np.max(en_u.transpose() @ de_u, axis=0))"
   ]
  },
  {
   "cell_type": "code",
   "execution_count": 123,
   "metadata": {},
   "outputs": [
    {
     "data": {
      "text/plain": [
       "1.017285"
      ]
     },
     "execution_count": 123,
     "metadata": {},
     "output_type": "execute_result"
    }
   ],
   "source": [
    "np.mean(np.max(fr_v @ de_v.transpose(), axis=-1) / np.max(fr_u.transpose() @ de_u, axis=0))"
   ]
  },
  {
   "cell_type": "markdown",
   "metadata": {},
   "source": [
    "# Comprison of Language specific matrices in Depth and Distance probes"
   ]
  },
  {
   "cell_type": "code",
   "execution_count": 124,
   "metadata": {},
   "outputs": [
    {
     "data": {
      "text/plain": [
       "0.012554613"
      ]
     },
     "execution_count": 124,
     "metadata": {},
     "output_type": "execute_result"
    }
   ],
   "source": [
    "matrix_cos_distance(en_map_depth, en_map_dist)"
   ]
  },
  {
   "cell_type": "code",
   "execution_count": 125,
   "metadata": {},
   "outputs": [
    {
     "data": {
      "text/plain": [
       "0.012928756"
      ]
     },
     "execution_count": 125,
     "metadata": {},
     "output_type": "execute_result"
    }
   ],
   "source": [
    "matrix_cos_distance(fr_map_depth, fr_map_dist)"
   ]
  },
  {
   "cell_type": "code",
   "execution_count": 126,
   "metadata": {},
   "outputs": [
    {
     "data": {
      "text/plain": [
       "0.012441403"
      ]
     },
     "execution_count": 126,
     "metadata": {},
     "output_type": "execute_result"
    }
   ],
   "source": [
    "matrix_cos_distance(de_map_depth, de_map_dist)"
   ]
  },
  {
   "cell_type": "code",
   "execution_count": 127,
   "metadata": {},
   "outputs": [
    {
     "data": {
      "text/plain": [
       "0.52868587"
      ]
     },
     "execution_count": 127,
     "metadata": {},
     "output_type": "execute_result"
    }
   ],
   "source": [
    "matrix_cos_distance(distance_probe, depth_probe)"
   ]
  },
  {
   "cell_type": "code",
   "execution_count": 141,
   "metadata": {},
   "outputs": [
    {
     "data": {
      "text/plain": [
       "9.3411"
      ]
     },
     "execution_count": 141,
     "metadata": {},
     "output_type": "execute_result"
    }
   ],
   "source": [
    "np.linalg.norm(en_map_depth - en_map_dist, ord='fro')"
   ]
  },
  {
   "cell_type": "code",
   "execution_count": 140,
   "metadata": {},
   "outputs": [
    {
     "data": {
      "text/plain": [
       "3.7718587"
      ]
     },
     "execution_count": 140,
     "metadata": {},
     "output_type": "execute_result"
    }
   ],
   "source": [
    "np.linalg.norm(distance_probe - depth_probe, ord='fro')"
   ]
  },
  {
   "cell_type": "code",
   "execution_count": 130,
   "metadata": {},
   "outputs": [
    {
     "data": {
      "text/plain": [
       "0.3365877558739269"
      ]
     },
     "execution_count": 130,
     "metadata": {},
     "output_type": "execute_result"
    }
   ],
   "source": [
    "matrix_smpl_distance(en_map_depth, en_map_dist)"
   ]
  },
  {
   "cell_type": "code",
   "execution_count": 134,
   "metadata": {},
   "outputs": [
    {
     "data": {
      "text/plain": [
       "0.096884206"
      ]
     },
     "execution_count": 134,
     "metadata": {},
     "output_type": "execute_result"
    }
   ],
   "source": [
    "matrix_max_distance(en_map_depth, en_map_dist)"
   ]
  },
  {
   "cell_type": "code",
   "execution_count": 135,
   "metadata": {},
   "outputs": [
    {
     "data": {
      "text/plain": [
       "0.15160161"
      ]
     },
     "execution_count": 135,
     "metadata": {},
     "output_type": "execute_result"
    }
   ],
   "source": [
    "matrix_max_distance(distance_probe, depth_probe)"
   ]
  },
  {
   "cell_type": "markdown",
   "metadata": {},
   "source": [
    "# DEPTH MATRICES with ORTHOGONALITY CONSTRAINT"
   ]
  },
  {
   "cell_type": "code",
   "execution_count": 6,
   "metadata": {},
   "outputs": [
    {
     "name": "stdout",
     "output_type": "stream",
     "text": [
      "WARNING:tensorflow:Unresolved object in checkpoint: (root).optimizer.iter\n",
      "WARNING:tensorflow:Unresolved object in checkpoint: (root).optimizer.beta_1\n",
      "WARNING:tensorflow:Unresolved object in checkpoint: (root).optimizer.beta_2\n",
      "WARNING:tensorflow:Unresolved object in checkpoint: (root).optimizer.decay\n",
      "WARNING:tensorflow:Unresolved object in checkpoint: (root).optimizer.learning_rate\n",
      "WARNING:tensorflow:A checkpoint was restored (e.g. tf.train.Checkpoint.restore or tf.keras.Model.load_weights) but not all checkpointed values were used. See above for specific issues. Use expect_partial() on the load status object, e.g. tf.train.Checkpoint.restore(...).expect_partial(), to silence these warnings, or use assert_consumed() to make the check explicit. See https://www.tensorflow.org/guide/checkpoint#loading_mechanics for details.\n"
     ]
    },
    {
     "data": {
      "text/plain": [
       "'experiments/train_en_de_fr_ortho/task_depth-layer_6-trainl_en_de_fr_ortho_1._dso/params/ckpt-12'"
      ]
     },
     "execution_count": 6,
     "metadata": {},
     "output_type": "execute_result"
    }
   ],
   "source": [
    "model_dim = 768\n",
    "probe_rank = 768\n",
    "\n",
    "languages = ['en', 'fr', 'de']\n",
    "out_dir = 'experiments/train_en_de_fr_ortho/task_depth-layer_6-trainl_en_de_fr_ortho_1._dso/'\n",
    "\n",
    "\n",
    "DistanceProbe = tf.Variable(tf.random_uniform_initializer(minval=-0.05, maxval=0.05, seed=42)\n",
    "                             ((probe_rank, model_dim)),\n",
    "                             trainable=True, name='distance_probe', dtype=tf.float32)\n",
    "\n",
    "DepthProbe = tf.Variable(tf.random_uniform_initializer(minval=-0.05, maxval=0.05, seed=42)\n",
    "                             ((probe_rank, model_dim)),\n",
    "                             trainable=True, name='depth_probe', dtype=tf.float32)\n",
    "\n",
    "optimizer=tf.optimizers.Adam()\n",
    "\n",
    "LanguageMaps = {lang: tf.Variable(tf.initializers.Identity(gain=1.0)((model_dim, model_dim)),\n",
    "                                               trainable=False, name='{}_map'.format(lang))\n",
    "                             for lang in languages}\n",
    "ckpt = tf.train.Checkpoint(optimizer=optimizer, depth_probe=DepthProbe, distance_probe=DistanceProbe, **LanguageMaps)\n",
    "\n",
    "checkpoint_manger = tf.train.CheckpointManager(ckpt, os.path.join(out_dir, 'params'), max_to_keep=1)\n",
    "\n",
    "checkpoint_manger.restore_or_initialize()"
   ]
  },
  {
   "cell_type": "code",
   "execution_count": 7,
   "metadata": {},
   "outputs": [],
   "source": [
    "en_map_depth = ckpt.en.numpy()\n",
    "fr_map_depth = ckpt.fr.numpy()\n",
    "de_map_depth  = ckpt.de.numpy()\n",
    "depth_probe = ckpt.depth_probe.numpy()"
   ]
  },
  {
   "cell_type": "code",
   "execution_count": 8,
   "metadata": {},
   "outputs": [
    {
     "data": {
      "text/plain": [
       "0.7645905480652638"
      ]
     },
     "execution_count": 8,
     "metadata": {},
     "output_type": "execute_result"
    }
   ],
   "source": [
    "orthogonality_check(en_map_depth)"
   ]
  },
  {
   "cell_type": "code",
   "execution_count": 9,
   "metadata": {},
   "outputs": [
    {
     "data": {
      "text/plain": [
       "0.6718994420994511"
      ]
     },
     "execution_count": 9,
     "metadata": {},
     "output_type": "execute_result"
    }
   ],
   "source": [
    "orthogonality_check(fr_map_depth)"
   ]
  },
  {
   "cell_type": "code",
   "execution_count": 10,
   "metadata": {},
   "outputs": [
    {
     "data": {
      "text/plain": [
       "0.9906213459231713"
      ]
     },
     "execution_count": 10,
     "metadata": {},
     "output_type": "execute_result"
    }
   ],
   "source": [
    "orthogonality_check(de_map_depth)"
   ]
  },
  {
   "cell_type": "code",
   "execution_count": 11,
   "metadata": {},
   "outputs": [
    {
     "data": {
      "text/plain": [
       "27.55194293886825"
      ]
     },
     "execution_count": 11,
     "metadata": {},
     "output_type": "execute_result"
    }
   ],
   "source": [
    "orthogonality_check(depth_probe)"
   ]
  },
  {
   "cell_type": "code",
   "execution_count": 57,
   "metadata": {},
   "outputs": [],
   "source": [
    "en_u, en_s, en_v =  np.linalg.svd(en_map_depth)\n",
    "de_u, de_s, de_v =  np.linalg.svd(de_map_depth)\n",
    "fr_u, fr_s, fr_v =  np.linalg.svd(fr_map_depth)\n",
    "depth_u, depth_s, depth_v =  np.linalg.svd(depth_probe)"
   ]
  },
  {
   "cell_type": "code",
   "execution_count": 10,
   "metadata": {},
   "outputs": [
    {
     "data": {
      "text/plain": [
       "0.39182183"
      ]
     },
     "execution_count": 10,
     "metadata": {},
     "output_type": "execute_result"
    }
   ],
   "source": [
    "np.linalg.norm(en_s - de_s)"
   ]
  },
  {
   "cell_type": "code",
   "execution_count": 11,
   "metadata": {},
   "outputs": [
    {
     "data": {
      "text/plain": [
       "0.47894534"
      ]
     },
     "execution_count": 11,
     "metadata": {},
     "output_type": "execute_result"
    }
   ],
   "source": [
    "np.linalg.norm(fr_s - de_s)"
   ]
  },
  {
   "cell_type": "code",
   "execution_count": 62,
   "metadata": {},
   "outputs": [
    {
     "data": {
      "image/png": "[encoded data removed]",
      "text/plain": [
       "<Figure size 1152x648 with 1 Axes>"
      ]
     },
     "metadata": {
      "needs_background": "light"
     },
     "output_type": "display_data"
    }
   ],
   "source": [
    "plt.figure(figsize=[16,9])\n",
    "plt.plot(en_s, label='en eigenvalues')\n",
    "plt.plot(de_s, label='de eigenvalues')\n",
    "plt.plot(fr_s, label='fr eigenvalues')\n",
    "plt.plot(depth_s, label='probe eigenvalues')\n",
    "#plt.ylim([0.8, 1.05])\n",
    "plt.legend()\n",
    "plt.show()"
   ]
  },
  {
   "cell_type": "code",
   "execution_count": 59,
   "metadata": {},
   "outputs": [
    {
     "data": {
      "text/plain": [
       "1.1277322"
      ]
     },
     "execution_count": 59,
     "metadata": {},
     "output_type": "execute_result"
    }
   ],
   "source": [
    "np.mean(np.max(en_v @ fr_v.transpose(), axis=-1) / np.max(en_u.transpose() @ fr_u, axis=0))"
   ]
  },
  {
   "cell_type": "code",
   "execution_count": 17,
   "metadata": {},
   "outputs": [
    {
     "data": {
      "text/plain": [
       "array([1.0066708 , 1.0039544 , 1.003847  , 1.0034826 , 1.0029308 ,\n",
       "       1.0027343 , 1.0025635 , 1.0023947 , 1.0022851 , 1.0021883 ,\n",
       "       1.0020903 , 1.0020072 , 1.0019116 , 1.0018849 , 1.0017798 ,\n",
       "       1.0017632 , 1.001684  , 1.0015615 , 1.0015225 , 1.0014782 ,\n",
       "       1.0014042 , 1.001388  , 1.001369  , 1.001313  , 1.0012624 ,\n",
       "       1.0012033 , 1.0011976 , 1.0011812 , 1.001149  , 1.0011042 ,\n",
       "       1.0010848 , 1.0010588 , 1.0010414 , 1.0010208 , 1.0010015 ,\n",
       "       1.0009574 , 1.0009307 , 1.0009037 , 1.00089   , 1.0008813 ,\n",
       "       1.0008382 , 1.0008117 , 1.0008018 , 1.0007958 , 1.0007665 ,\n",
       "       1.0007479 , 1.0007323 , 1.000711  , 1.0006855 , 1.0006747 ,\n",
       "       1.0006609 , 1.0006443 , 1.0006148 , 1.0006002 , 1.0005823 ,\n",
       "       1.0005679 , 1.0005579 , 1.0005282 , 1.0005099 , 1.0005066 ,\n",
       "       1.0004894 , 1.0004803 , 1.0004673 , 1.0004525 , 1.0004368 ,\n",
       "       1.0004282 , 1.0004176 , 1.0004134 , 1.0003892 , 1.0003856 ,\n",
       "       1.0003777 , 1.0003656 , 1.0003603 , 1.0003439 , 1.000335  ,\n",
       "       1.0003241 , 1.0003152 , 1.0003104 , 1.0002916 , 1.0002844 ,\n",
       "       1.0002781 , 1.0002723 , 1.0002589 , 1.0002513 , 1.0002446 ,\n",
       "       1.0002381 , 1.0002296 , 1.0002213 , 1.0002159 , 1.0002044 ,\n",
       "       1.0002027 , 1.0001976 , 1.0001876 , 1.0001823 , 1.0001738 ,\n",
       "       1.000167  , 1.0001637 , 1.0001582 , 1.0001566 , 1.0001522 ,\n",
       "       1.0001465 , 1.0001415 , 1.0001372 , 1.0001338 , 1.0001303 ,\n",
       "       1.0001279 , 1.0001245 , 1.0001202 , 1.0001156 , 1.0001135 ,\n",
       "       1.0001073 , 1.0001056 , 1.0001049 , 1.0000999 , 1.0000967 ,\n",
       "       1.0000957 , 1.0000906 , 1.00009   , 1.0000881 , 1.0000858 ,\n",
       "       1.000083  , 1.0000818 , 1.0000802 , 1.0000786 , 1.0000759 ,\n",
       "       1.0000745 , 1.0000734 , 1.0000718 , 1.0000707 , 1.0000684 ,\n",
       "       1.0000672 , 1.0000657 , 1.0000646 , 1.0000635 , 1.0000627 ,\n",
       "       1.0000608 , 1.0000596 , 1.000058  , 1.0000573 , 1.0000567 ,\n",
       "       1.0000559 , 1.0000547 , 1.0000536 , 1.0000526 , 1.0000513 ,\n",
       "       1.0000505 , 1.0000504 , 1.0000502 , 1.0000491 , 1.0000484 ,\n",
       "       1.0000482 , 1.0000477 , 1.0000467 , 1.000046  , 1.0000454 ,\n",
       "       1.0000451 , 1.0000442 , 1.0000435 , 1.000043  , 1.0000424 ,\n",
       "       1.0000416 , 1.0000414 , 1.0000404 , 1.0000402 , 1.0000397 ,\n",
       "       1.0000396 , 1.0000389 , 1.0000385 , 1.0000377 , 1.0000373 ,\n",
       "       1.0000365 , 1.000036  , 1.0000358 , 1.0000356 , 1.000035  ,\n",
       "       1.0000347 , 1.0000346 , 1.0000342 , 1.0000339 , 1.000033  ,\n",
       "       1.0000325 , 1.0000324 , 1.0000322 , 1.0000321 , 1.0000315 ,\n",
       "       1.000031  , 1.0000308 , 1.0000305 , 1.0000303 , 1.00003   ,\n",
       "       1.0000296 , 1.0000292 , 1.0000287 , 1.0000286 , 1.0000283 ,\n",
       "       1.0000279 , 1.0000275 , 1.0000272 , 1.0000271 , 1.0000268 ,\n",
       "       1.0000262 , 1.0000262 , 1.0000261 , 1.0000257 , 1.0000256 ,\n",
       "       1.0000254 , 1.000025  , 1.0000247 , 1.0000246 , 1.0000244 ,\n",
       "       1.0000242 , 1.0000238 , 1.0000236 , 1.0000234 , 1.000023  ,\n",
       "       1.0000228 , 1.0000225 , 1.0000223 , 1.0000223 , 1.0000218 ,\n",
       "       1.0000217 , 1.0000216 , 1.0000212 , 1.000021  , 1.0000206 ,\n",
       "       1.0000204 , 1.0000203 , 1.00002   , 1.0000198 , 1.0000197 ,\n",
       "       1.0000194 , 1.0000192 , 1.0000191 , 1.000019  , 1.0000184 ,\n",
       "       1.0000181 , 1.000018  , 1.0000176 , 1.0000176 , 1.0000175 ,\n",
       "       1.0000173 , 1.0000172 , 1.000017  , 1.0000169 , 1.0000166 ,\n",
       "       1.0000165 , 1.0000162 , 1.0000161 , 1.0000159 , 1.0000156 ,\n",
       "       1.0000155 , 1.0000154 , 1.0000151 , 1.000015  , 1.0000149 ,\n",
       "       1.0000148 , 1.0000147 , 1.0000144 , 1.0000143 , 1.0000141 ,\n",
       "       1.000014  , 1.0000137 , 1.0000136 , 1.0000134 , 1.0000132 ,\n",
       "       1.0000131 , 1.0000129 , 1.0000128 , 1.0000128 , 1.0000124 ,\n",
       "       1.0000122 , 1.000012  , 1.0000118 , 1.0000117 , 1.0000116 ,\n",
       "       1.0000114 , 1.0000113 , 1.0000112 , 1.000011  , 1.0000108 ,\n",
       "       1.0000107 , 1.0000105 , 1.0000104 , 1.0000104 , 1.0000101 ,\n",
       "       1.00001   , 1.0000099 , 1.0000098 , 1.0000095 , 1.0000094 ,\n",
       "       1.0000093 , 1.0000093 , 1.0000091 , 1.000009  , 1.0000087 ,\n",
       "       1.0000086 , 1.0000085 , 1.0000082 , 1.0000082 , 1.0000081 ,\n",
       "       1.0000079 , 1.0000077 , 1.0000076 , 1.0000075 , 1.0000074 ,\n",
       "       1.0000072 , 1.0000072 , 1.000007  , 1.000007  , 1.0000067 ,\n",
       "       1.0000066 , 1.0000064 , 1.0000063 , 1.0000062 , 1.0000061 ,\n",
       "       1.000006  , 1.0000058 , 1.0000057 , 1.0000057 , 1.0000055 ,\n",
       "       1.0000054 , 1.0000052 , 1.0000052 , 1.000005  , 1.0000049 ,\n",
       "       1.0000048 , 1.0000046 , 1.0000045 , 1.0000045 , 1.0000042 ,\n",
       "       1.000004  , 1.0000039 , 1.0000036 , 1.0000036 , 1.0000033 ,\n",
       "       1.0000033 , 1.0000032 , 1.0000031 , 1.000003  , 1.0000029 ,\n",
       "       1.0000026 , 1.0000026 , 1.0000024 , 1.0000023 , 1.0000021 ,\n",
       "       1.0000021 , 1.0000021 , 1.0000019 , 1.0000019 , 1.0000018 ,\n",
       "       1.0000017 , 1.0000014 , 1.0000013 , 1.0000013 , 1.0000011 ,\n",
       "       1.000001  , 1.0000007 , 1.0000007 , 1.0000005 , 1.0000004 ,\n",
       "       1.0000002 , 1.0000001 , 1.0000001 , 1.        , 0.99999994,\n",
       "       0.9999998 , 0.99999964, 0.9999996 , 0.99999946, 0.99999934,\n",
       "       0.9999993 , 0.99999917, 0.999999  , 0.99999887, 0.99999875,\n",
       "       0.9999986 , 0.99999845, 0.99999845, 0.9999984 , 0.99999803,\n",
       "       0.9999979 , 0.9999978 , 0.9999977 , 0.99999756, 0.99999744,\n",
       "       0.9999974 , 0.9999973 , 0.99999714, 0.999997  , 0.99999696,\n",
       "       0.99999684, 0.9999967 , 0.99999654, 0.9999964 , 0.9999963 ,\n",
       "       0.9999961 , 0.999996  , 0.9999959 , 0.9999958 , 0.99999577,\n",
       "       0.99999565, 0.9999955 , 0.99999535, 0.99999523, 0.9999951 ,\n",
       "       0.999995  , 0.999995  , 0.99999475, 0.99999464, 0.99999434,\n",
       "       0.99999416, 0.99999404, 0.999994  , 0.9999939 , 0.99999386,\n",
       "       0.99999374, 0.99999356, 0.9999935 , 0.9999932 , 0.99999315,\n",
       "       0.9999931 , 0.9999929 , 0.9999928 , 0.99999267, 0.99999255,\n",
       "       0.9999925 , 0.9999923 , 0.9999922 , 0.999992  , 0.999992  ,\n",
       "       0.9999919 , 0.9999918 , 0.9999917 , 0.99999154, 0.99999136,\n",
       "       0.9999913 , 0.9999912 , 0.999991  , 0.9999909 , 0.9999908 ,\n",
       "       0.99999064, 0.9999904 , 0.9999903 , 0.9999902 , 0.99999005,\n",
       "       0.99998987, 0.9999898 , 0.9999897 , 0.9999896 , 0.99998933,\n",
       "       0.99998915, 0.9999891 , 0.999989  , 0.9999888 , 0.99998873,\n",
       "       0.99998844, 0.9999884 , 0.99998826, 0.9999882 , 0.99998814,\n",
       "       0.99998796, 0.99998784, 0.9999877 , 0.99998766, 0.9999874 ,\n",
       "       0.99998724, 0.999987  , 0.99998695, 0.99998677, 0.9999867 ,\n",
       "       0.99998665, 0.9999865 , 0.9999863 , 0.9999861 , 0.999986  ,\n",
       "       0.9999859 , 0.9999856 , 0.99998546, 0.9999853 , 0.9999852 ,\n",
       "       0.9999851 , 0.99998486, 0.99998474, 0.99998444, 0.9999843 ,\n",
       "       0.9999842 , 0.999984  , 0.99998397, 0.99998385, 0.9999837 ,\n",
       "       0.9999836 , 0.9999832 , 0.9999831 , 0.99998295, 0.9999829 ,\n",
       "       0.99998266, 0.9999823 , 0.99998224, 0.99998206, 0.9999819 ,\n",
       "       0.99998164, 0.9999815 , 0.9999814 , 0.9999813 , 0.9999811 ,\n",
       "       0.999981  , 0.9999807 , 0.99998045, 0.9999804 , 0.9999803 ,\n",
       "       0.99998015, 0.99998   , 0.99997973, 0.99997956, 0.99997944,\n",
       "       0.99997926, 0.9999791 , 0.99997896, 0.9999788 , 0.99997866,\n",
       "       0.9999783 , 0.9999782 , 0.9999781 , 0.99997795, 0.9999777 ,\n",
       "       0.9999775 , 0.99997723, 0.99997705, 0.99997675, 0.9999766 ,\n",
       "       0.99997646, 0.99997604, 0.9999759 , 0.99997586, 0.9999757 ,\n",
       "       0.99997514, 0.9999751 , 0.99997467, 0.9999746 , 0.9999744 ,\n",
       "       0.9999742 , 0.999974  , 0.99997383, 0.9999737 , 0.9999733 ,\n",
       "       0.99997306, 0.99997276, 0.9999726 , 0.9999722 , 0.9999721 ,\n",
       "       0.99997187, 0.9999717 , 0.99997145, 0.99997115, 0.99997103,\n",
       "       0.99997044, 0.9999699 , 0.99996984, 0.9999696 , 0.9999694 ,\n",
       "       0.99996924, 0.999969  , 0.9999686 , 0.99996835, 0.9999682 ,\n",
       "       0.99996775, 0.9999676 , 0.9999674 , 0.99996716, 0.99996674,\n",
       "       0.99996656, 0.9999664 , 0.9999659 , 0.9999656 , 0.99996513,\n",
       "       0.9999645 , 0.99996424, 0.9999637 , 0.99996346, 0.9999633 ,\n",
       "       0.99996257, 0.9999619 , 0.99996173, 0.9999614 , 0.99996084,\n",
       "       0.99996066, 0.99996054, 0.99996006, 0.9999596 , 0.9999594 ,\n",
       "       0.99995935, 0.99995893, 0.9999587 , 0.99995786, 0.9999569 ,\n",
       "       0.9999563 , 0.9999557 , 0.9999553 , 0.9999546 , 0.9999541 ,\n",
       "       0.9999538 , 0.99995375, 0.9999531 , 0.9999521 , 0.99995124,\n",
       "       0.9999507 , 0.9999498 , 0.9999496 , 0.99994874, 0.9999485 ,\n",
       "       0.9999481 , 0.9999475 , 0.99994713, 0.99994564, 0.9999448 ,\n",
       "       0.99994344, 0.99994314, 0.9999419 , 0.9999417 , 0.99994123,\n",
       "       0.99994045, 0.9999387 , 0.9999385 , 0.99993783, 0.99993724,\n",
       "       0.9999366 , 0.99993587, 0.9999343 , 0.9999333 , 0.99993306,\n",
       "       0.99993235, 0.99993074, 0.9999303 , 0.99992937, 0.9999281 ,\n",
       "       0.9999267 , 0.9999256 , 0.9999245 , 0.9999232 , 0.99992204,\n",
       "       0.99992144, 0.99992007, 0.99991935, 0.9999167 , 0.99991363,\n",
       "       0.99991184, 0.99991095, 0.9999078 , 0.99990654, 0.999905  ,\n",
       "       0.99990237, 0.99990165, 0.9998995 , 0.9998957 , 0.99989414,\n",
       "       0.9998916 , 0.99989   , 0.9998872 , 0.99988425, 0.9998816 ,\n",
       "       0.9998802 , 0.9998729 , 0.9998676 , 0.9998663 , 0.9998661 ,\n",
       "       0.9998581 , 0.9998573 , 0.99984926, 0.9998482 , 0.9998466 ,\n",
       "       0.9998377 , 0.99983406, 0.99983007, 0.9998244 , 0.9998207 ,\n",
       "       0.999814  , 0.99980915, 0.99980336, 0.9997955 , 0.9997943 ,\n",
       "       0.99978894, 0.9997853 , 0.9997822 , 0.9997754 , 0.9997701 ,\n",
       "       0.99975985, 0.99975437, 0.9997434 , 0.99973327, 0.99972254,\n",
       "       0.9997179 , 0.9996961 , 0.9996915 , 0.9996891 , 0.9996751 ,\n",
       "       0.9996671 , 0.99965644, 0.99964744, 0.9996406 , 0.9996336 ,\n",
       "       0.9996131 , 0.9995997 , 0.99959075, 0.99958664, 0.9995687 ,\n",
       "       0.99955267, 0.9995356 , 0.99953043, 0.9995221 , 0.9995087 ,\n",
       "       0.9994943 , 0.999488  , 0.9994634 , 0.9994607 , 0.9994448 ,\n",
       "       0.9994361 , 0.9994221 , 0.9994157 , 0.99938476, 0.99937016,\n",
       "       0.9993571 , 0.9993478 , 0.9993173 , 0.99928635, 0.99927235,\n",
       "       0.999254  , 0.9992374 , 0.9992186 , 0.999209  , 0.999188  ,\n",
       "       0.9991818 , 0.99916124, 0.9991244 , 0.99911356, 0.9990794 ,\n",
       "       0.99904835, 0.99900407, 0.99896747, 0.9989572 , 0.9989215 ,\n",
       "       0.9988953 , 0.9988551 , 0.9988353 , 0.9988186 , 0.9987879 ,\n",
       "       0.99873275, 0.99869144, 0.9986376 , 0.9985898 , 0.99856836,\n",
       "       0.99850446, 0.99849826, 0.99839616, 0.9983789 , 0.9982786 ,\n",
       "       0.99811757, 0.99805534, 0.998016  , 0.9979232 , 0.99772245,\n",
       "       0.99765104, 0.997373  , 0.9972173 , 0.9966095 , 0.99587   ,\n",
       "       0.9950729 , 0.99028087, 0.10127254], dtype=float32)"
      ]
     },
     "execution_count": 17,
     "metadata": {},
     "output_type": "execute_result"
    }
   ],
   "source": [
    "de_s"
   ]
  },
  {
   "cell_type": "code",
   "execution_count": 18,
   "metadata": {},
   "outputs": [
    {
     "data": {
      "text/plain": [
       "array([1.037841  , 1.0233574 , 1.0048531 , 1.0039718 , 1.0036577 ,\n",
       "       1.0031725 , 1.0027844 , 1.0025699 , 1.002505  , 1.0022988 ,\n",
       "       1.0022601 , 1.002167  , 1.0019654 , 1.0017883 , 1.0017594 ,\n",
       "       1.0016911 , 1.0015578 , 1.0014827 , 1.0014424 , 1.001397  ,\n",
       "       1.001319  , 1.0012664 , 1.0012002 , 1.0011814 , 1.0011474 ,\n",
       "       1.0010954 , 1.0010693 , 1.001018  , 1.0010087 , 1.0009555 ,\n",
       "       1.000924  , 1.0008924 , 1.0008684 , 1.000857  , 1.0008134 ,\n",
       "       1.0008003 , 1.0007737 , 1.0007669 , 1.0007485 , 1.0007244 ,\n",
       "       1.0007176 , 1.0006851 , 1.0006675 , 1.0006427 , 1.0006303 ,\n",
       "       1.0006092 , 1.0005864 , 1.0005778 , 1.0005608 , 1.0005568 ,\n",
       "       1.00054   , 1.0005205 , 1.0005168 , 1.0005013 , 1.0004926 ,\n",
       "       1.0004631 , 1.0004618 , 1.0004463 , 1.0004344 , 1.0004231 ,\n",
       "       1.0004201 , 1.0004002 , 1.0003929 , 1.0003892 , 1.0003748 ,\n",
       "       1.0003662 , 1.0003611 , 1.0003407 , 1.0003309 , 1.0003247 ,\n",
       "       1.0003153 , 1.0003101 , 1.0002975 , 1.0002905 , 1.0002857 ,\n",
       "       1.0002714 , 1.0002629 , 1.0002555 , 1.0002515 , 1.0002431 ,\n",
       "       1.0002415 , 1.0002353 , 1.0002241 , 1.0002198 , 1.0002114 ,\n",
       "       1.0002068 , 1.0001992 , 1.0001942 , 1.0001888 , 1.0001853 ,\n",
       "       1.0001802 , 1.0001692 , 1.0001655 , 1.0001649 , 1.0001537 ,\n",
       "       1.0001528 , 1.0001503 , 1.000145  , 1.0001432 , 1.0001402 ,\n",
       "       1.0001322 , 1.0001279 , 1.0001236 , 1.0001224 , 1.000121  ,\n",
       "       1.0001174 , 1.0001161 , 1.0001124 , 1.0001109 , 1.0001066 ,\n",
       "       1.0001041 , 1.0001017 , 1.0001005 , 1.0000969 , 1.0000948 ,\n",
       "       1.0000924 , 1.000091  , 1.0000879 , 1.0000869 , 1.0000845 ,\n",
       "       1.0000833 , 1.0000813 , 1.0000788 , 1.000078  , 1.0000755 ,\n",
       "       1.000074  , 1.0000738 , 1.0000731 , 1.0000718 , 1.0000712 ,\n",
       "       1.0000685 , 1.0000674 , 1.0000662 , 1.0000648 , 1.0000631 ,\n",
       "       1.000062  , 1.000061  , 1.0000607 , 1.0000592 , 1.0000584 ,\n",
       "       1.0000579 , 1.0000569 , 1.0000559 , 1.0000548 , 1.000054  ,\n",
       "       1.0000529 , 1.0000526 , 1.0000519 , 1.0000511 , 1.0000498 ,\n",
       "       1.0000494 , 1.0000492 , 1.0000477 , 1.000047  , 1.0000468 ,\n",
       "       1.000046  , 1.0000453 , 1.0000448 , 1.0000432 , 1.0000427 ,\n",
       "       1.0000426 , 1.0000418 , 1.0000416 , 1.0000411 , 1.0000409 ,\n",
       "       1.0000405 , 1.0000396 , 1.0000393 , 1.0000392 , 1.0000387 ,\n",
       "       1.0000386 , 1.0000379 , 1.0000368 , 1.0000367 , 1.000036  ,\n",
       "       1.0000358 , 1.0000353 , 1.0000348 , 1.0000342 , 1.0000339 ,\n",
       "       1.0000333 , 1.0000329 , 1.0000323 , 1.0000321 , 1.0000316 ,\n",
       "       1.0000314 , 1.0000312 , 1.0000309 , 1.0000302 , 1.00003   ,\n",
       "       1.0000298 , 1.0000293 , 1.0000293 , 1.0000285 , 1.0000284 ,\n",
       "       1.0000277 , 1.0000273 , 1.0000272 , 1.0000267 , 1.0000263 ,\n",
       "       1.0000262 , 1.000026  , 1.0000256 , 1.0000253 , 1.0000252 ,\n",
       "       1.0000247 , 1.0000244 , 1.0000244 , 1.0000242 , 1.000024  ,\n",
       "       1.0000238 , 1.0000237 , 1.0000232 , 1.0000231 , 1.0000229 ,\n",
       "       1.0000226 , 1.0000225 , 1.0000224 , 1.0000219 , 1.0000218 ,\n",
       "       1.0000213 , 1.0000213 , 1.0000212 , 1.0000211 , 1.0000209 ,\n",
       "       1.0000206 , 1.0000204 , 1.0000204 , 1.00002   , 1.0000198 ,\n",
       "       1.0000196 , 1.0000193 , 1.0000192 , 1.000019  , 1.0000186 ,\n",
       "       1.0000185 , 1.0000184 , 1.0000182 , 1.0000179 , 1.0000178 ,\n",
       "       1.0000176 , 1.0000175 , 1.0000172 , 1.0000172 , 1.000017  ,\n",
       "       1.0000168 , 1.0000165 , 1.0000162 , 1.0000162 , 1.0000161 ,\n",
       "       1.0000159 , 1.0000155 , 1.0000154 , 1.0000151 , 1.0000149 ,\n",
       "       1.0000149 , 1.0000145 , 1.0000145 , 1.0000143 , 1.0000142 ,\n",
       "       1.0000141 , 1.0000138 , 1.0000137 , 1.0000135 , 1.0000134 ,\n",
       "       1.0000131 , 1.0000131 , 1.000013  , 1.0000129 , 1.0000128 ,\n",
       "       1.0000125 , 1.0000123 , 1.0000122 , 1.000012  , 1.0000119 ,\n",
       "       1.0000118 , 1.0000116 , 1.0000114 , 1.0000113 , 1.0000112 ,\n",
       "       1.0000111 , 1.000011  , 1.0000108 , 1.0000106 , 1.0000106 ,\n",
       "       1.0000103 , 1.0000103 , 1.00001   , 1.0000099 , 1.0000099 ,\n",
       "       1.0000097 , 1.0000095 , 1.0000094 , 1.0000093 , 1.0000091 ,\n",
       "       1.0000091 , 1.000009  , 1.0000088 , 1.0000087 , 1.0000086 ,\n",
       "       1.0000083 , 1.0000082 , 1.0000081 , 1.000008  , 1.0000079 ,\n",
       "       1.0000077 , 1.0000075 , 1.0000073 , 1.0000072 , 1.0000072 ,\n",
       "       1.000007  , 1.0000069 , 1.0000068 , 1.0000068 , 1.0000066 ,\n",
       "       1.0000062 , 1.0000061 , 1.0000061 , 1.000006  , 1.0000058 ,\n",
       "       1.0000057 , 1.0000056 , 1.0000056 , 1.0000054 , 1.0000054 ,\n",
       "       1.0000051 , 1.000005  , 1.0000049 , 1.0000048 , 1.0000048 ,\n",
       "       1.0000045 , 1.0000045 , 1.0000044 , 1.0000043 , 1.0000042 ,\n",
       "       1.000004  , 1.0000039 , 1.0000038 , 1.0000037 , 1.0000036 ,\n",
       "       1.0000035 , 1.0000033 , 1.0000032 , 1.0000032 , 1.0000031 ,\n",
       "       1.000003  , 1.0000027 , 1.0000026 , 1.0000025 , 1.0000024 ,\n",
       "       1.0000023 , 1.0000021 , 1.0000021 , 1.0000019 , 1.0000019 ,\n",
       "       1.0000018 , 1.0000015 , 1.0000014 , 1.0000014 , 1.0000012 ,\n",
       "       1.0000012 , 1.000001  , 1.0000008 , 1.0000008 , 1.0000007 ,\n",
       "       1.0000006 , 1.0000004 , 1.0000004 , 1.0000002 , 1.        ,\n",
       "       0.9999999 , 0.9999998 , 0.99999976, 0.9999997 , 0.99999964,\n",
       "       0.99999946, 0.99999934, 0.9999992 , 0.99999917, 0.99999905,\n",
       "       0.999999  , 0.99999875, 0.9999986 , 0.9999985 , 0.9999985 ,\n",
       "       0.99999845, 0.9999983 , 0.9999982 , 0.999998  , 0.9999979 ,\n",
       "       0.9999978 , 0.99999774, 0.99999756, 0.99999756, 0.99999744,\n",
       "       0.99999714, 0.9999971 , 0.99999696, 0.9999969 , 0.9999968 ,\n",
       "       0.99999666, 0.9999965 , 0.9999963 , 0.99999624, 0.99999607,\n",
       "       0.9999959 , 0.9999959 , 0.99999577, 0.9999956 , 0.9999955 ,\n",
       "       0.99999535, 0.9999953 , 0.9999951 , 0.99999505, 0.99999505,\n",
       "       0.999995  , 0.99999475, 0.99999464, 0.9999946 , 0.9999945 ,\n",
       "       0.99999434, 0.99999434, 0.9999942 , 0.999994  , 0.9999939 ,\n",
       "       0.99999374, 0.9999937 , 0.99999356, 0.9999935 , 0.999993  ,\n",
       "       0.99999297, 0.9999929 , 0.9999928 , 0.99999267, 0.99999255,\n",
       "       0.9999923 , 0.99999225, 0.9999922 , 0.9999921 , 0.999992  ,\n",
       "       0.99999183, 0.99999166, 0.9999916 , 0.9999914 , 0.99999136,\n",
       "       0.9999913 , 0.9999912 , 0.9999909 , 0.99999076, 0.99999076,\n",
       "       0.99999064, 0.99999064, 0.99999046, 0.9999903 , 0.99999005,\n",
       "       0.99999   , 0.9999899 , 0.9999898 , 0.9999896 , 0.9999895 ,\n",
       "       0.9999893 , 0.99998915, 0.9999891 , 0.99998903, 0.99998885,\n",
       "       0.99998873, 0.9999884 , 0.9999883 , 0.99998826, 0.99998814,\n",
       "       0.99998796, 0.9999879 , 0.9999878 , 0.9999876 , 0.9999874 ,\n",
       "       0.9999873 , 0.9999872 , 0.9999871 , 0.99998695, 0.9999868 ,\n",
       "       0.9999866 , 0.9999864 , 0.99998623, 0.99998605, 0.99998593,\n",
       "       0.99998575, 0.9999856 , 0.9999855 , 0.9999854 , 0.9999852 ,\n",
       "       0.99998516, 0.9999851 , 0.999985  , 0.99998474, 0.9999845 ,\n",
       "       0.9999841 , 0.9999839 , 0.99998385, 0.9999837 , 0.99998355,\n",
       "       0.9999835 , 0.99998325, 0.9999831 , 0.99998283, 0.99998266,\n",
       "       0.9999826 , 0.9999824 , 0.99998236, 0.99998206, 0.9999818 ,\n",
       "       0.9999817 , 0.99998146, 0.99998134, 0.9999812 , 0.99998087,\n",
       "       0.99998087, 0.99998057, 0.9999805 , 0.99998033, 0.9999801 ,\n",
       "       0.99998   , 0.99997973, 0.9999795 , 0.9999794 , 0.9999792 ,\n",
       "       0.999979  , 0.99997884, 0.99997866, 0.9999785 , 0.99997836,\n",
       "       0.99997824, 0.9999781 , 0.99997777, 0.9999776 , 0.99997747,\n",
       "       0.9999774 , 0.9999772 , 0.999977  , 0.99997663, 0.99997646,\n",
       "       0.99997634, 0.9999762 , 0.999976  , 0.99997574, 0.9999755 ,\n",
       "       0.9999752 , 0.9999749 , 0.9999748 , 0.99997455, 0.9999743 ,\n",
       "       0.99997413, 0.9999739 , 0.9999735 , 0.9999731 , 0.999973  ,\n",
       "       0.99997264, 0.9999723 , 0.9999722 , 0.9999719 , 0.99997187,\n",
       "       0.9999713 , 0.9999709 , 0.9999707 , 0.9999705 , 0.99997026,\n",
       "       0.9999701 , 0.9999697 , 0.99996954, 0.9999693 , 0.99996895,\n",
       "       0.9999685 , 0.9999681 , 0.9999679 , 0.9999678 , 0.9999675 ,\n",
       "       0.9999673 , 0.99996674, 0.9999663 , 0.999966  , 0.9999653 ,\n",
       "       0.9999652 , 0.9999649 , 0.9999647 , 0.9999639 , 0.99996346,\n",
       "       0.9999632 , 0.999963  , 0.99996257, 0.9999618 , 0.9999614 ,\n",
       "       0.9999613 , 0.99996084, 0.99996066, 0.99996024, 0.9999593 ,\n",
       "       0.99995893, 0.99995846, 0.9999579 , 0.9999575 , 0.9999571 ,\n",
       "       0.99995685, 0.9999562 , 0.99995583, 0.9999553 , 0.9999544 ,\n",
       "       0.9999536 , 0.99995285, 0.99995214, 0.9999518 , 0.9999512 ,\n",
       "       0.99995   , 0.9999497 , 0.9999493 , 0.9999486 , 0.999948  ,\n",
       "       0.9999473 , 0.9999462 , 0.99994564, 0.99994457, 0.99994344,\n",
       "       0.9999426 , 0.99994165, 0.9999405 , 0.99993986, 0.99993867,\n",
       "       0.99993855, 0.9999381 , 0.99993634, 0.99993587, 0.9999346 ,\n",
       "       0.9999341 , 0.9999334 , 0.9999327 , 0.9999312 , 0.9999301 ,\n",
       "       0.9999292 , 0.99992806, 0.99992615, 0.99992436, 0.99992394,\n",
       "       0.999923  , 0.99992085, 0.99991834, 0.99991775, 0.9999168 ,\n",
       "       0.99991393, 0.99991196, 0.99991137, 0.9999076 , 0.9999069 ,\n",
       "       0.99990386, 0.9999016 , 0.99989843, 0.99989784, 0.9998955 ,\n",
       "       0.9998934 , 0.9998933 , 0.9998868 , 0.9998851 , 0.99988323,\n",
       "       0.99988055, 0.999879  , 0.99987376, 0.99987096, 0.99986786,\n",
       "       0.9998661 , 0.9998646 , 0.99985886, 0.9998559 , 0.99985236,\n",
       "       0.9998461 , 0.99984366, 0.99983656, 0.99983436, 0.9998317 ,\n",
       "       0.9998246 , 0.9998146 , 0.9998063 , 0.99980456, 0.9997999 ,\n",
       "       0.99979967, 0.9997975 , 0.99978554, 0.99978113, 0.9997788 ,\n",
       "       0.99977183, 0.99976134, 0.9997597 , 0.99975246, 0.99974674,\n",
       "       0.9997353 , 0.9997314 , 0.99972624, 0.99972063, 0.999709  ,\n",
       "       0.99970466, 0.9996897 , 0.99968714, 0.99967563, 0.99966145,\n",
       "       0.9996528 , 0.99963784, 0.99963313, 0.9996307 , 0.9996196 ,\n",
       "       0.9996078 , 0.9996055 , 0.9995917 , 0.9995776 , 0.99956363,\n",
       "       0.99955714, 0.99954367, 0.99953324, 0.9995155 , 0.9995094 ,\n",
       "       0.99949944, 0.9994905 , 0.99947596, 0.9994679 , 0.99944997,\n",
       "       0.999446  , 0.9994145 , 0.9993995 , 0.9993916 , 0.99937373,\n",
       "       0.99935675, 0.999336  , 0.9993298 , 0.9993261 , 0.9992943 ,\n",
       "       0.9992905 , 0.99927306, 0.9992577 , 0.99923784, 0.99923384,\n",
       "       0.99920565, 0.999186  , 0.9991638 , 0.9991573 , 0.9991451 ,\n",
       "       0.9991251 , 0.99908686, 0.9990279 , 0.99899924, 0.9989639 ,\n",
       "       0.9989478 , 0.9989228 , 0.9988841 , 0.9988539 , 0.9987874 ,\n",
       "       0.9987776 , 0.9987669 , 0.9987365 , 0.99870265, 0.9986211 ,\n",
       "       0.99857235, 0.9985467 , 0.9984167 , 0.998363  , 0.9982997 ,\n",
       "       0.99807763, 0.9980439 , 0.99796146, 0.99789274, 0.99764985,\n",
       "       0.9966565 , 0.9954244 , 0.57876605], dtype=float32)"
      ]
     },
     "execution_count": 18,
     "metadata": {},
     "output_type": "execute_result"
    }
   ],
   "source": [
    "fr_s"
   ]
  },
  {
   "cell_type": "markdown",
   "metadata": {},
   "source": [
    "# DISTANCE MATRICES with ORTHOGONALITY CONSTRAINT"
   ]
  },
  {
   "cell_type": "code",
   "execution_count": 13,
   "metadata": {},
   "outputs": [
    {
     "data": {
      "text/plain": [
       "'experiments/train_en_de_fr_ortho/task_distance-layer_6-trainl_en_de_fr_ortho_1._dso/params/ckpt-20'"
      ]
     },
     "execution_count": 13,
     "metadata": {},
     "output_type": "execute_result"
    }
   ],
   "source": [
    "model_dim = 768\n",
    "probe_rank = 768\n",
    "\n",
    "languages = ['en', 'fr', 'de']\n",
    "out_dir = 'experiments/train_en_de_fr_ortho/task_distance-layer_6-trainl_en_de_fr_ortho_1._dso/'\n",
    "\n",
    "\n",
    "DistanceProbe = tf.Variable(tf.random_uniform_initializer(minval=-0.05, maxval=0.05, seed=42)\n",
    "                             ((probe_rank, model_dim)),\n",
    "                             trainable=True, name='distance_probe', dtype=tf.float32)\n",
    "\n",
    "DepthProbe = tf.Variable(tf.random_uniform_initializer(minval=-0.05, maxval=0.05, seed=42)\n",
    "                             ((probe_rank, model_dim)),\n",
    "                             trainable=True, name='depth_probe', dtype=tf.float32)\n",
    "\n",
    "optimizer=tf.optimizers.Adam()\n",
    "\n",
    "LanguageMaps = {lang: tf.Variable(tf.initializers.Identity(gain=1.0)((model_dim, model_dim)),\n",
    "                                               trainable=False, name='{}_map'.format(lang))\n",
    "                             for lang in languages}\n",
    "ckpt = tf.train.Checkpoint(optimizer=optimizer, depth_probe=DepthProbe, distance_probe=DistanceProbe, **LanguageMaps)\n",
    "\n",
    "checkpoint_manger = tf.train.CheckpointManager(ckpt, os.path.join(out_dir, 'params'), max_to_keep=1)\n",
    "\n",
    "checkpoint_manger.restore_or_initialize()"
   ]
  },
  {
   "cell_type": "code",
   "execution_count": 14,
   "metadata": {},
   "outputs": [],
   "source": [
    "en_map_distance = ckpt.en.numpy()\n",
    "fr_map_distance = ckpt.fr.numpy()\n",
    "de_map_distance  = ckpt.de.numpy()\n",
    "distance_probe = ckpt.distance_probe.numpy()"
   ]
  },
  {
   "cell_type": "code",
   "execution_count": 15,
   "metadata": {},
   "outputs": [
    {
     "data": {
      "text/plain": [
       "1.9462458136817424e-05"
      ]
     },
     "execution_count": 15,
     "metadata": {},
     "output_type": "execute_result"
    }
   ],
   "source": [
    "orthogonality_check(en_map_distance)"
   ]
  },
  {
   "cell_type": "code",
   "execution_count": 16,
   "metadata": {},
   "outputs": [
    {
     "data": {
      "text/plain": [
       "1.9471124160947498e-05"
      ]
     },
     "execution_count": 16,
     "metadata": {},
     "output_type": "execute_result"
    }
   ],
   "source": [
    "orthogonality_check(fr_map_distance)"
   ]
  },
  {
   "cell_type": "code",
   "execution_count": 30,
   "metadata": {},
   "outputs": [
    {
     "data": {
      "text/plain": [
       "27.48387829288227"
      ]
     },
     "execution_count": 30,
     "metadata": {},
     "output_type": "execute_result"
    }
   ],
   "source": [
    "orthogonality_check(distance_probe)"
   ]
  },
  {
   "cell_type": "code",
   "execution_count": 31,
   "metadata": {},
   "outputs": [],
   "source": [
    "en_u, en_s, en_v =  np.linalg.svd(en_map_distance)\n",
    "de_u, de_s, de_v =  np.linalg.svd(de_map_distance)\n",
    "fr_u, fr_s, fr_v =  np.linalg.svd(fr_map_distance)\n",
    "distance_u, distance_s, distance_v =  np.linalg.svd(distance_probe)"
   ]
  },
  {
   "cell_type": "code",
   "execution_count": 33,
   "metadata": {},
   "outputs": [
    {
     "data": {
      "image/png": "[encoded data removed]",
      "text/plain": [
       "<Figure size 1152x648 with 1 Axes>"
      ]
     },
     "metadata": {
      "needs_background": "light"
     },
     "output_type": "display_data"
    }
   ],
   "source": [
    "plt.figure(figsize=[16,9])\n",
    "plt.plot(en_s, label='en eigenvalues')\n",
    "plt.plot(de_s, label='de eigenvalues')\n",
    "plt.plot(fr_s, label='fr eigenvalues')\n",
    "plt.plot(distance_s, label='probe eigenvalues')\n",
    "#plt.ylim([0.8, 1.05])\n",
    "plt.legend()\n",
    "plt.show()"
   ]
  },
  {
   "cell_type": "code",
   "execution_count": 37,
   "metadata": {},
   "outputs": [
    {
     "data": {
      "text/plain": [
       "0.9595089391764223"
      ]
     },
     "execution_count": 37,
     "metadata": {},
     "output_type": "execute_result"
    }
   ],
   "source": [
    "matrix_smpl_distance(en_map_depth, en_map_distance)"
   ]
  },
  {
   "cell_type": "code",
   "execution_count": 38,
   "metadata": {},
   "outputs": [
    {
     "data": {
      "text/plain": [
       "0.8214079999495911"
      ]
     },
     "execution_count": 38,
     "metadata": {},
     "output_type": "execute_result"
    }
   ],
   "source": [
    "matrix_smpl_distance(en_map_depth, fr_map_depth)"
   ]
  },
  {
   "cell_type": "code",
   "execution_count": 39,
   "metadata": {},
   "outputs": [
    {
     "data": {
      "text/plain": [
       "0.9605946863860961"
      ]
     },
     "execution_count": 39,
     "metadata": {},
     "output_type": "execute_result"
    }
   ],
   "source": [
    "matrix_smpl_distance(fr_map_distance, fr_map_depth)"
   ]
  },
  {
   "cell_type": "code",
   "execution_count": 40,
   "metadata": {},
   "outputs": [
    {
     "data": {
      "text/plain": [
       "0.9512517506629828"
      ]
     },
     "execution_count": 40,
     "metadata": {},
     "output_type": "execute_result"
    }
   ],
   "source": [
    "matrix_smpl_distance(en_map_distance, fr_map_distance)"
   ]
  },
  {
   "cell_type": "code",
   "execution_count": 41,
   "metadata": {},
   "outputs": [
    {
     "data": {
      "text/plain": [
       "0.9819832071493951"
      ]
     },
     "execution_count": 41,
     "metadata": {},
     "output_type": "execute_result"
    }
   ],
   "source": [
    "matrix_smpl_distance(en_map_depth, de_map_distance)"
   ]
  },
  {
   "cell_type": "code",
   "execution_count": 35,
   "metadata": {},
   "outputs": [
    {
     "data": {
      "text/plain": [
       "array([[ 0.7521539 ,  0.01371565,  0.02153927, ..., -0.01763755,\n",
       "         0.02950492,  0.06344136],\n",
       "       [-0.03690137,  0.69589615, -0.02401245, ..., -0.01475647,\n",
       "        -0.01752466, -0.01342426],\n",
       "       [-0.01676211, -0.00113208,  0.738546  , ..., -0.01658557,\n",
       "         0.00539953,  0.00673981],\n",
       "       ...,\n",
       "       [ 0.01096843, -0.02123662, -0.02205694, ...,  0.66213965,\n",
       "         0.00347736,  0.03425073],\n",
       "       [ 0.01229717,  0.01830409, -0.00958871, ...,  0.00933759,\n",
       "         0.6990686 , -0.01948741],\n",
       "       [-0.04965568, -0.02408411, -0.02114687, ...,  0.00368433,\n",
       "        -0.00885504,  0.58397526]], dtype=float32)"
      ]
     },
     "execution_count": 35,
     "metadata": {},
     "output_type": "execute_result"
    }
   ],
   "source": [
    "en_map_distance"
   ]
  },
  {
   "cell_type": "code",
   "execution_count": 36,
   "metadata": {},
   "outputs": [
    {
     "data": {
      "text/plain": [
       "array([[ 7.0838064e-01, -3.3767927e-02, -2.0554403e-02, ...,\n",
       "        -2.2334931e-03,  1.5735434e-02,  1.5522198e-02],\n",
       "       [ 1.1787200e-02,  7.0018190e-01,  1.4714720e-02, ...,\n",
       "        -3.8528804e-02, -1.5454463e-02, -1.6481283e-03],\n",
       "       [ 4.6777703e-02, -2.6050841e-02,  7.4486256e-01, ...,\n",
       "        -1.0209412e-02,  4.9033392e-02,  1.7696686e-02],\n",
       "       ...,\n",
       "       [ 1.7284077e-02,  1.1983007e-02, -4.9201248e-04, ...,\n",
       "         6.6485858e-01, -1.9598693e-02, -2.9464060e-02],\n",
       "       [ 9.0703247e-03,  2.0430395e-03, -4.0280435e-02, ...,\n",
       "         1.2469566e-02,  7.0943373e-01,  2.0360809e-02],\n",
       "       [ 2.8636785e-02,  8.0670137e-03, -7.7706384e-03, ...,\n",
       "        -2.9801797e-02, -3.5127942e-02,  5.8171767e-01]], dtype=float32)"
      ]
     },
     "execution_count": 36,
     "metadata": {},
     "output_type": "execute_result"
    }
   ],
   "source": [
    "fr_map_distance"
   ]
  },
  {
   "cell_type": "code",
   "execution_count": null,
   "metadata": {},
   "outputs": [],
   "source": []
  }
 ],
 "metadata": {
  "kernelspec": {
   "display_name": "Python 3",
   "language": "python",
   "name": "python3"
  },
  "language_info": {
   "codemirror_mode": {
    "name": "ipython",
    "version": 3
   },
   "file_extension": ".py",
   "mimetype": "text/x-python",
   "name": "python",
   "nbconvert_exporter": "python",
   "pygments_lexer": "ipython3",
   "version": "3.6.9"
  }
 },
 "nbformat": 4,
 "nbformat_minor": 4
}
