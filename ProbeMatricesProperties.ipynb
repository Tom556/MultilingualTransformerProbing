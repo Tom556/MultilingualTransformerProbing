{
 "cells": [
  {
   "cell_type": "code",
   "execution_count": 1,
   "metadata": {},
   "outputs": [],
   "source": [
    "import os\n",
    "import tensorflow as tf\n",
    "import numpy as np\n",
    "\n",
    "import constants\n",
    "from datasets import DependencyDataset\n",
    "from network import DistanceProbe, DepthProbe"
   ]
  },
  {
   "cell_type": "code",
   "execution_count": 129,
   "metadata": {},
   "outputs": [],
   "source": [
    "def orthogonality_check(matrix):\n",
    "    assert len(matrix.shape) == 2, \"Only 2D matrices suported\"\n",
    "    fro_norm = np.linalg.norm(matrix @ matrix.transpose() -  np.eye(matrix.shape[0]), ord='fro')\n",
    "    if matrix.shape[0] != matrix.shape[1]:\n",
    "        fro_norm += np.linalg.norm(matrix.transpose() @ matrix - np.eye(matrix.shape[1]), ord='fro')\n",
    "        fro_norm /= 2.\n",
    "    return fro_norm\n",
    "\n",
    "\n",
    "def matrix_cos_distance(matrixA, matrixB):\n",
    "    EPSILON = 1e-4\n",
    "    assert np.linalg.norm(matrixA) > EPSILON\n",
    "    assert np.linalg.norm(matrixB) > EPSILON\n",
    "    return np.linalg.norm(matrixA - matrixB, ord='fro') / (np.linalg.norm(matrixA, ord='fro') * np.linalg.norm(matrixB, ord='fro'))\n",
    "\n",
    "def matrix_max_distance(matrixA, matrixB):\n",
    "    return np.max(np.abs(matrixA - matrixB))\n",
    "\n",
    "def matrix_smpl_distance(matrixA, matrixB):\n",
    "    NUM_SMPL = 100\n",
    "    sample = np.random.randn(NUM_SMPL, matrixA.shape[0])\n",
    "    sample = sample / np.linalg.norm(sample, axis=-1, keepdims=True)\n",
    "    A_smpl = sample @ matrixA\n",
    "    B_smpl = sample @ matrixB\n",
    "    return np.mean(np.linalg.norm(A_smpl - B_smpl, axis=-1))\n",
    "    "
   ]
  },
  {
   "cell_type": "markdown",
   "metadata": {},
   "source": [
    "# DEPTH MATRICES"
   ]
  },
  {
   "cell_type": "code",
   "execution_count": 4,
   "metadata": {},
   "outputs": [
    {
     "data": {
      "text/plain": [
       "'experiments/train_en_de_fr/task_depth-layer_6-trainl_en_de_fr/params/ckpt-12'"
      ]
     },
     "execution_count": 4,
     "metadata": {},
     "output_type": "execute_result"
    }
   ],
   "source": [
    "model_dim = 768\n",
    "probe_rank = 768\n",
    "\n",
    "languages = ['en', 'fr', 'de']\n",
    "out_dir = 'experiments/train_en_de_fr/task_depth-layer_6-trainl_en_de_fr/'\n",
    "\n",
    "\n",
    "DistanceProbe = tf.Variable(tf.random_uniform_initializer(minval=-0.05, maxval=0.05, seed=42)\n",
    "                             ((probe_rank, model_dim)),\n",
    "                             trainable=True, name='distance_probe', dtype=tf.float32)\n",
    "\n",
    "DepthProbe = tf.Variable(tf.random_uniform_initializer(minval=-0.05, maxval=0.05, seed=42)\n",
    "                             ((probe_rank, model_dim)),\n",
    "                             trainable=True, name='depth_probe', dtype=tf.float32)\n",
    "\n",
    "optimizer=tf.optimizers.Adam()\n",
    "\n",
    "LanguageMaps = {lang: tf.Variable(tf.initializers.Identity(gain=1.0)((model_dim, model_dim)),\n",
    "                                               trainable=False, name='{}_map'.format(lang))\n",
    "                             for lang in languages}\n",
    "ckpt = tf.train.Checkpoint(optimizer=optimizer, depth_probe=DepthProbe, distance_probe=DistanceProbe, **LanguageMaps)\n",
    "\n",
    "checkpoint_manger = tf.train.CheckpointManager(ckpt, os.path.join(out_dir, 'params'), max_to_keep=1)\n",
    "\n",
    "checkpoint_manger.restore_or_initialize()"
   ]
  },
  {
   "cell_type": "code",
   "execution_count": 5,
   "metadata": {},
   "outputs": [],
   "source": [
    "en_map_depth = ckpt.en.numpy()\n",
    "fr_map_depth = ckpt.fr.numpy()\n",
    "de_map_depth  = ckpt.de.numpy()\n",
    "depth_probe = ckpt.depth_probe.numpy()"
   ]
  },
  {
   "cell_type": "markdown",
   "metadata": {},
   "source": [
    "## Conduct SVD and compare non orthogonal part of the matrix"
   ]
  },
  {
   "cell_type": "code",
   "execution_count": 6,
   "metadata": {},
   "outputs": [
    {
     "data": {
      "text/plain": [
       "15.058353652093482"
      ]
     },
     "execution_count": 6,
     "metadata": {},
     "output_type": "execute_result"
    }
   ],
   "source": [
    "orthogonality_check(en_map_depth)"
   ]
  },
  {
   "cell_type": "code",
   "execution_count": 7,
   "metadata": {},
   "outputs": [
    {
     "data": {
      "text/plain": [
       "15.259980829491433"
      ]
     },
     "execution_count": 7,
     "metadata": {},
     "output_type": "execute_result"
    }
   ],
   "source": [
    "orthogonality_check(de_map_depth)"
   ]
  },
  {
   "cell_type": "code",
   "execution_count": 8,
   "metadata": {},
   "outputs": [
    {
     "data": {
      "text/plain": [
       "15.843890662679716"
      ]
     },
     "execution_count": 8,
     "metadata": {},
     "output_type": "execute_result"
    }
   ],
   "source": [
    "orthogonality_check(fr_map_depth)"
   ]
  },
  {
   "cell_type": "markdown",
   "metadata": {},
   "source": [
    "depth probe matrix and language map matrices are not orthogonal"
   ]
  },
  {
   "cell_type": "code",
   "execution_count": 145,
   "metadata": {},
   "outputs": [],
   "source": [
    "en_u, en_s, en_v =  np.linalg.svd(en_map_depth)\n",
    "de_u, de_s, de_v =  np.linalg.svd(de_map_depth)\n",
    "fr_u, fr_s, fr_v =  np.linalg.svd(fr_map_depth)\n",
    "depth_u, depth_s, depth_v =  np.linalg.svd(depth_probe)\n",
    "\n",
    "# en_sv = np.diag(en_s) @ en_v\n",
    "# de_sv = np.diag(de_s) @ de_v\n",
    "# fr_sv = np.diag(fr_s) @ fr_v"
   ]
  },
  {
   "cell_type": "code",
   "execution_count": 103,
   "metadata": {},
   "outputs": [
    {
     "data": {
      "text/plain": [
       "26.680162"
      ]
     },
     "execution_count": 103,
     "metadata": {},
     "output_type": "execute_result"
    }
   ],
   "source": [
    "np.linalg.norm(en_s)"
   ]
  },
  {
   "cell_type": "code",
   "execution_count": 142,
   "metadata": {},
   "outputs": [
    {
     "data": {
      "text/plain": [
       "0.93292904"
      ]
     },
     "execution_count": 142,
     "metadata": {},
     "output_type": "execute_result"
    }
   ],
   "source": [
    "np.mean(en_s)"
   ]
  },
  {
   "cell_type": "code",
   "execution_count": 139,
   "metadata": {},
   "outputs": [
    {
     "data": {
      "text/plain": [
       "2.699213"
      ]
     },
     "execution_count": 139,
     "metadata": {},
     "output_type": "execute_result"
    }
   ],
   "source": [
    "np.linalg.norm(depth_s)"
   ]
  },
  {
   "cell_type": "markdown",
   "metadata": {},
   "source": [
    "Most of scaling is done in language specific matrix. It hinders multilanguage aspect of the probe.\n",
    "On the other hand depth probe is responsible for downscaling, mean eigenvalue of lang specific matrix is close to one. I think it is mostly due to intialization."
   ]
  },
  {
   "cell_type": "code",
   "execution_count": 146,
   "metadata": {},
   "outputs": [
    {
     "data": {
      "text/plain": [
       "0.7724513"
      ]
     },
     "execution_count": 146,
     "metadata": {},
     "output_type": "execute_result"
    }
   ],
   "source": [
    "np.linalg.norm(en_s - de_s)"
   ]
  },
  {
   "cell_type": "code",
   "execution_count": 147,
   "metadata": {},
   "outputs": [
    {
     "data": {
      "text/plain": [
       "0.39260736"
      ]
     },
     "execution_count": 147,
     "metadata": {},
     "output_type": "execute_result"
    }
   ],
   "source": [
    "np.linalg.norm(en_s - fr_s)"
   ]
  },
  {
   "cell_type": "code",
   "execution_count": 148,
   "metadata": {},
   "outputs": [
    {
     "data": {
      "text/plain": [
       "0.6916721"
      ]
     },
     "execution_count": 148,
     "metadata": {},
     "output_type": "execute_result"
    }
   ],
   "source": [
    "np.linalg.norm(de_s - fr_s)"
   ]
  },
  {
   "cell_type": "markdown",
   "metadata": {},
   "source": [
    "Takeway: Language specific matrices have similar singular values"
   ]
  },
  {
   "cell_type": "code",
   "execution_count": 107,
   "metadata": {},
   "outputs": [
    {
     "data": {
      "text/plain": [
       "1.0238862"
      ]
     },
     "execution_count": 107,
     "metadata": {},
     "output_type": "execute_result"
    }
   ],
   "source": [
    "np.mean(np.max(en_v @ fr_v.transpose(), axis=-1) / np.max(en_u.transpose() @ fr_u, axis=0))"
   ]
  },
  {
   "cell_type": "code",
   "execution_count": 108,
   "metadata": {},
   "outputs": [
    {
     "data": {
      "text/plain": [
       "1.0285408"
      ]
     },
     "execution_count": 108,
     "metadata": {},
     "output_type": "execute_result"
    }
   ],
   "source": [
    "np.mean(np.max(en_v @ de_v.transpose(), axis=-1) / np.max(en_u.transpose() @ de_u, axis=0))"
   ]
  },
  {
   "cell_type": "code",
   "execution_count": 109,
   "metadata": {},
   "outputs": [
    {
     "data": {
      "text/plain": [
       "1.0191784"
      ]
     },
     "execution_count": 109,
     "metadata": {},
     "output_type": "execute_result"
    }
   ],
   "source": [
    "np.mean(np.max(fr_v @ de_v.transpose(), axis=-1) / np.max(fr_u.transpose() @ de_u, axis=0))"
   ]
  },
  {
   "cell_type": "markdown",
   "metadata": {},
   "source": [
    "?Takeway: right multiplication by U makes vector space less language dependent (where U @ S @ V = SVD(M))"
   ]
  },
  {
   "cell_type": "markdown",
   "metadata": {},
   "source": [
    "# DISTANCE MATRICES"
   ]
  },
  {
   "cell_type": "code",
   "execution_count": 95,
   "metadata": {},
   "outputs": [
    {
     "data": {
      "text/plain": [
       "'experiments/train_en_de_fr/task_distance-layer_6-trainl_en_de_fr/params/ckpt-15'"
      ]
     },
     "execution_count": 95,
     "metadata": {},
     "output_type": "execute_result"
    }
   ],
   "source": [
    "model_dim = 768\n",
    "probe_rank = 768\n",
    "\n",
    "languages = ['en', 'fr', 'de']\n",
    "out_dir = 'experiments/train_en_de_fr/task_distance-layer_6-trainl_en_de_fr/'\n",
    "\n",
    "\n",
    "DistanceProbe = tf.Variable(tf.random_uniform_initializer(minval=-0.05, maxval=0.05, seed=42)\n",
    "                             ((probe_rank, model_dim)),\n",
    "                             trainable=True, name='distance_probe', dtype=tf.float32)\n",
    "\n",
    "DepthProbe = tf.Variable(tf.random_uniform_initializer(minval=-0.05, maxval=0.05, seed=42)\n",
    "                             ((probe_rank, model_dim)),\n",
    "                             trainable=True, name='depth_probe', dtype=tf.float32)\n",
    "\n",
    "optimizer=tf.optimizers.Adam()\n",
    "\n",
    "LanguageMaps = {lang: tf.Variable(tf.initializers.Identity(gain=1.0)((model_dim, model_dim)),\n",
    "                                               trainable=False, name='{}_map'.format(lang))\n",
    "                             for lang in languages}\n",
    "ckpt = tf.train.Checkpoint(optimizer=optimizer, depth_probe=DepthProbe, distance_probe=DistanceProbe, **LanguageMaps)\n",
    "\n",
    "checkpoint_manger = tf.train.CheckpointManager(ckpt, os.path.join(out_dir, 'params'), max_to_keep=1)\n",
    "\n",
    "checkpoint_manger.restore_or_initialize()"
   ]
  },
  {
   "cell_type": "code",
   "execution_count": 110,
   "metadata": {},
   "outputs": [],
   "source": [
    "en_map_dist = ckpt.en.numpy()\n",
    "fr_map_dist = ckpt.fr.numpy()\n",
    "de_map_dist = ckpt.de.numpy()\n",
    "distance_probe = ckpt.distance_probe.numpy()"
   ]
  },
  {
   "cell_type": "code",
   "execution_count": 111,
   "metadata": {},
   "outputs": [],
   "source": [
    "en_u, en_s, en_v =  np.linalg.svd(en_map_dist)\n",
    "de_u, de_s, de_v =  np.linalg.svd(de_map_dist)\n",
    "fr_u, fr_s, fr_v =  np.linalg.svd(fr_map_dist)\n",
    "dist_u, dist_s, dist_v =  np.linalg.svd(distance_probe)"
   ]
  },
  {
   "cell_type": "code",
   "execution_count": 112,
   "metadata": {},
   "outputs": [
    {
     "data": {
      "text/plain": [
       "18.396372620066515"
      ]
     },
     "execution_count": 112,
     "metadata": {},
     "output_type": "execute_result"
    }
   ],
   "source": [
    "orthogonality_check(en_map_dist)"
   ]
  },
  {
   "cell_type": "code",
   "execution_count": 113,
   "metadata": {},
   "outputs": [
    {
     "data": {
      "text/plain": [
       "27.887388"
      ]
     },
     "execution_count": 113,
     "metadata": {},
     "output_type": "execute_result"
    }
   ],
   "source": [
    "np.linalg.norm(en_s)"
   ]
  },
  {
   "cell_type": "code",
   "execution_count": 138,
   "metadata": {},
   "outputs": [
    {
     "data": {
      "text/plain": [
       "2.6431499"
      ]
     },
     "execution_count": 138,
     "metadata": {},
     "output_type": "execute_result"
    }
   ],
   "source": [
    "np.linalg.norm(dist_s)"
   ]
  },
  {
   "cell_type": "code",
   "execution_count": 136,
   "metadata": {},
   "outputs": [
    {
     "data": {
      "text/plain": [
       "2.6431499"
      ]
     },
     "execution_count": 136,
     "metadata": {},
     "output_type": "execute_result"
    }
   ],
   "source": [
    "np.linalg.norm(dist_s)"
   ]
  },
  {
   "cell_type": "code",
   "execution_count": 120,
   "metadata": {},
   "outputs": [
    {
     "data": {
      "text/plain": [
       "0.5069455"
      ]
     },
     "execution_count": 120,
     "metadata": {},
     "output_type": "execute_result"
    }
   ],
   "source": [
    "np.linalg.norm(en_s - de_s)"
   ]
  },
  {
   "cell_type": "code",
   "execution_count": 119,
   "metadata": {},
   "outputs": [
    {
     "data": {
      "text/plain": [
       "0.21521693"
      ]
     },
     "execution_count": 119,
     "metadata": {},
     "output_type": "execute_result"
    }
   ],
   "source": [
    "np.linalg.norm(en_s - fr_s)"
   ]
  },
  {
   "cell_type": "code",
   "execution_count": 118,
   "metadata": {},
   "outputs": [
    {
     "data": {
      "text/plain": [
       "0.5700357"
      ]
     },
     "execution_count": 118,
     "metadata": {},
     "output_type": "execute_result"
    }
   ],
   "source": [
    "np.linalg.norm(de_s - fr_s)"
   ]
  },
  {
   "cell_type": "markdown",
   "metadata": {},
   "source": [
    "Observation: eigenvalues of maps across languages are closer in distance probing than depth probing"
   ]
  },
  {
   "cell_type": "code",
   "execution_count": 121,
   "metadata": {},
   "outputs": [
    {
     "data": {
      "text/plain": [
       "1.0151405"
      ]
     },
     "execution_count": 121,
     "metadata": {},
     "output_type": "execute_result"
    }
   ],
   "source": [
    "np.mean(np.max(en_v @ fr_v.transpose(), axis=-1) / np.max(en_u.transpose() @ fr_u, axis=0))"
   ]
  },
  {
   "cell_type": "code",
   "execution_count": 122,
   "metadata": {},
   "outputs": [
    {
     "data": {
      "text/plain": [
       "1.0247933"
      ]
     },
     "execution_count": 122,
     "metadata": {},
     "output_type": "execute_result"
    }
   ],
   "source": [
    "np.mean(np.max(en_v @ de_v.transpose(), axis=-1) / np.max(en_u.transpose() @ de_u, axis=0))"
   ]
  },
  {
   "cell_type": "code",
   "execution_count": 123,
   "metadata": {},
   "outputs": [
    {
     "data": {
      "text/plain": [
       "1.017285"
      ]
     },
     "execution_count": 123,
     "metadata": {},
     "output_type": "execute_result"
    }
   ],
   "source": [
    "np.mean(np.max(fr_v @ de_v.transpose(), axis=-1) / np.max(fr_u.transpose() @ de_u, axis=0))"
   ]
  },
  {
   "cell_type": "markdown",
   "metadata": {},
   "source": [
    "# Comprison of Language specific matrices in Depth and Distance probes"
   ]
  },
  {
   "cell_type": "code",
   "execution_count": 124,
   "metadata": {},
   "outputs": [
    {
     "data": {
      "text/plain": [
       "0.012554613"
      ]
     },
     "execution_count": 124,
     "metadata": {},
     "output_type": "execute_result"
    }
   ],
   "source": [
    "matrix_cos_distance(en_map_depth, en_map_dist)"
   ]
  },
  {
   "cell_type": "code",
   "execution_count": 125,
   "metadata": {},
   "outputs": [
    {
     "data": {
      "text/plain": [
       "0.012928756"
      ]
     },
     "execution_count": 125,
     "metadata": {},
     "output_type": "execute_result"
    }
   ],
   "source": [
    "matrix_cos_distance(fr_map_depth, fr_map_dist)"
   ]
  },
  {
   "cell_type": "code",
   "execution_count": 126,
   "metadata": {},
   "outputs": [
    {
     "data": {
      "text/plain": [
       "0.012441403"
      ]
     },
     "execution_count": 126,
     "metadata": {},
     "output_type": "execute_result"
    }
   ],
   "source": [
    "matrix_cos_distance(de_map_depth, de_map_dist)"
   ]
  },
  {
   "cell_type": "code",
   "execution_count": 127,
   "metadata": {},
   "outputs": [
    {
     "data": {
      "text/plain": [
       "0.52868587"
      ]
     },
     "execution_count": 127,
     "metadata": {},
     "output_type": "execute_result"
    }
   ],
   "source": [
    "matrix_cos_distance(distance_probe, depth_probe)"
   ]
  },
  {
   "cell_type": "code",
   "execution_count": 141,
   "metadata": {},
   "outputs": [
    {
     "data": {
      "text/plain": [
       "9.3411"
      ]
     },
     "execution_count": 141,
     "metadata": {},
     "output_type": "execute_result"
    }
   ],
   "source": [
    "np.linalg.norm(en_map_depth - en_map_dist, ord='fro')"
   ]
  },
  {
   "cell_type": "code",
   "execution_count": 140,
   "metadata": {},
   "outputs": [
    {
     "data": {
      "text/plain": [
       "3.7718587"
      ]
     },
     "execution_count": 140,
     "metadata": {},
     "output_type": "execute_result"
    }
   ],
   "source": [
    "np.linalg.norm(distance_probe - depth_probe, ord='fro')"
   ]
  },
  {
   "cell_type": "code",
   "execution_count": 130,
   "metadata": {},
   "outputs": [
    {
     "data": {
      "text/plain": [
       "0.3365877558739269"
      ]
     },
     "execution_count": 130,
     "metadata": {},
     "output_type": "execute_result"
    }
   ],
   "source": [
    "matrix_smpl_distance(en_map_depth, en_map_dist)"
   ]
  },
  {
   "cell_type": "code",
   "execution_count": 134,
   "metadata": {},
   "outputs": [
    {
     "data": {
      "text/plain": [
       "0.096884206"
      ]
     },
     "execution_count": 134,
     "metadata": {},
     "output_type": "execute_result"
    }
   ],
   "source": [
    "matrix_max_distance(en_map_depth, en_map_dist)"
   ]
  },
  {
   "cell_type": "code",
   "execution_count": 135,
   "metadata": {},
   "outputs": [
    {
     "data": {
      "text/plain": [
       "0.15160161"
      ]
     },
     "execution_count": 135,
     "metadata": {},
     "output_type": "execute_result"
    }
   ],
   "source": [
    "matrix_max_distance(distance_probe, depth_probe)"
   ]
  },
  {
   "cell_type": "code",
   "execution_count": null,
   "metadata": {},
   "outputs": [],
   "source": []
  }
 ],
 "metadata": {
  "kernelspec": {
   "display_name": "Python 3",
   "language": "python",
   "name": "python3"
  },
  "language_info": {
   "codemirror_mode": {
    "name": "ipython",
    "version": 3
   },
   "file_extension": ".py",
   "mimetype": "text/x-python",
   "name": "python",
   "nbconvert_exporter": "python",
   "pygments_lexer": "ipython3",
   "version": "3.6.9"
  }
 },
 "nbformat": 4,
 "nbformat_minor": 4
}
